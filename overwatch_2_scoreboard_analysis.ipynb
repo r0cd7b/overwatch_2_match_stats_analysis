{
 "cells": [
  {
   "cell_type": "markdown",
   "id": "2fbe0807-a0e5-4d85-a722-405c4559730f",
   "metadata": {},
   "source": [
    "# 오버워치 2 점수판 분석 AI"
   ]
  },
  {
   "cell_type": "code",
   "execution_count": 1,
   "id": "29daeaaa-1eb5-4d29-ac0d-09f07e129ef1",
   "metadata": {
    "scrolled": true
   },
   "outputs": [
    {
     "data": {
      "text/html": [
       "<div>\n",
       "<style scoped>\n",
       "    .dataframe tbody tr th:only-of-type {\n",
       "        vertical-align: middle;\n",
       "    }\n",
       "\n",
       "    .dataframe tbody tr th {\n",
       "        vertical-align: top;\n",
       "    }\n",
       "\n",
       "    .dataframe thead th {\n",
       "        text-align: right;\n",
       "    }\n",
       "</style>\n",
       "<table border=\"1\" class=\"dataframe\">\n",
       "  <thead>\n",
       "    <tr style=\"text-align: right;\">\n",
       "      <th></th>\n",
       "      <th></th>\n",
       "      <th>E</th>\n",
       "      <th>A</th>\n",
       "      <th>D</th>\n",
       "      <th>DMG</th>\n",
       "      <th>H</th>\n",
       "      <th>MIT</th>\n",
       "      <th>GAME</th>\n",
       "    </tr>\n",
       "  </thead>\n",
       "  <tbody>\n",
       "    <tr>\n",
       "      <th rowspan=\"5\" valign=\"top\">0</th>\n",
       "      <th>0</th>\n",
       "      <td>7</td>\n",
       "      <td>3</td>\n",
       "      <td>6</td>\n",
       "      <td>5933</td>\n",
       "      <td>1068</td>\n",
       "      <td>6199</td>\n",
       "      <td>DEFEAT</td>\n",
       "    </tr>\n",
       "    <tr>\n",
       "      <th>1</th>\n",
       "      <td>7</td>\n",
       "      <td>0</td>\n",
       "      <td>10</td>\n",
       "      <td>3601</td>\n",
       "      <td>747</td>\n",
       "      <td>0</td>\n",
       "      <td>DEFEAT</td>\n",
       "    </tr>\n",
       "    <tr>\n",
       "      <th>2</th>\n",
       "      <td>9</td>\n",
       "      <td>1</td>\n",
       "      <td>6</td>\n",
       "      <td>4352</td>\n",
       "      <td>0</td>\n",
       "      <td>0</td>\n",
       "      <td>DEFEAT</td>\n",
       "    </tr>\n",
       "    <tr>\n",
       "      <th>3</th>\n",
       "      <td>7</td>\n",
       "      <td>7</td>\n",
       "      <td>2</td>\n",
       "      <td>2332</td>\n",
       "      <td>6325</td>\n",
       "      <td>0</td>\n",
       "      <td>DEFEAT</td>\n",
       "    </tr>\n",
       "    <tr>\n",
       "      <th>4</th>\n",
       "      <td>6</td>\n",
       "      <td>4</td>\n",
       "      <td>2</td>\n",
       "      <td>3410</td>\n",
       "      <td>5979</td>\n",
       "      <td>606</td>\n",
       "      <td>DEFEAT</td>\n",
       "    </tr>\n",
       "    <tr>\n",
       "      <th>...</th>\n",
       "      <th>...</th>\n",
       "      <td>...</td>\n",
       "      <td>...</td>\n",
       "      <td>...</td>\n",
       "      <td>...</td>\n",
       "      <td>...</td>\n",
       "      <td>...</td>\n",
       "      <td>...</td>\n",
       "    </tr>\n",
       "    <tr>\n",
       "      <th rowspan=\"5\" valign=\"top\">168</th>\n",
       "      <th>5</th>\n",
       "      <td>19</td>\n",
       "      <td>3</td>\n",
       "      <td>11</td>\n",
       "      <td>12775</td>\n",
       "      <td>0</td>\n",
       "      <td>24912</td>\n",
       "      <td>DEFEAT</td>\n",
       "    </tr>\n",
       "    <tr>\n",
       "      <th>6</th>\n",
       "      <td>22</td>\n",
       "      <td>1</td>\n",
       "      <td>10</td>\n",
       "      <td>10100</td>\n",
       "      <td>1911</td>\n",
       "      <td>0</td>\n",
       "      <td>DEFEAT</td>\n",
       "    </tr>\n",
       "    <tr>\n",
       "      <th>7</th>\n",
       "      <td>16</td>\n",
       "      <td>2</td>\n",
       "      <td>10</td>\n",
       "      <td>11887</td>\n",
       "      <td>0</td>\n",
       "      <td>0</td>\n",
       "      <td>DEFEAT</td>\n",
       "    </tr>\n",
       "    <tr>\n",
       "      <th>8</th>\n",
       "      <td>5</td>\n",
       "      <td>12</td>\n",
       "      <td>11</td>\n",
       "      <td>2391</td>\n",
       "      <td>9817</td>\n",
       "      <td>154</td>\n",
       "      <td>DEFEAT</td>\n",
       "    </tr>\n",
       "    <tr>\n",
       "      <th>9</th>\n",
       "      <td>12</td>\n",
       "      <td>13</td>\n",
       "      <td>10</td>\n",
       "      <td>3532</td>\n",
       "      <td>13911</td>\n",
       "      <td>0</td>\n",
       "      <td>DEFEAT</td>\n",
       "    </tr>\n",
       "  </tbody>\n",
       "</table>\n",
       "<p>1690 rows × 7 columns</p>\n",
       "</div>"
      ],
      "text/plain": [
       "        E   A   D    DMG      H    MIT    GAME\n",
       "0   0   7   3   6   5933   1068   6199  DEFEAT\n",
       "    1   7   0  10   3601    747      0  DEFEAT\n",
       "    2   9   1   6   4352      0      0  DEFEAT\n",
       "    3   7   7   2   2332   6325      0  DEFEAT\n",
       "    4   6   4   2   3410   5979    606  DEFEAT\n",
       "...    ..  ..  ..    ...    ...    ...     ...\n",
       "168 5  19   3  11  12775      0  24912  DEFEAT\n",
       "    6  22   1  10  10100   1911      0  DEFEAT\n",
       "    7  16   2  10  11887      0      0  DEFEAT\n",
       "    8   5  12  11   2391   9817    154  DEFEAT\n",
       "    9  12  13  10   3532  13911      0  DEFEAT\n",
       "\n",
       "[1690 rows x 7 columns]"
      ]
     },
     "execution_count": 1,
     "metadata": {},
     "output_type": "execute_result"
    }
   ],
   "source": [
    "import os\n",
    "import pandas as pd\n",
    "\n",
    "datapath = os.path.join('datasets', '')\n",
    "range_ = range(3, 10)\n",
    "defeat = pd.read_csv(datapath + 'defeat.csv', usecols=range_)\n",
    "draw = pd.read_csv(datapath + 'draw.csv', usecols=range_)\n",
    "victory = pd.read_csv(datapath + 'victory.csv', usecols=range_)\n",
    "\n",
    "\n",
    "def prepare_scoreboard(defeat, draw, victory):\n",
    "    scoreboard = pd.concat([defeat, draw, victory])\n",
    "    scoreboard.set_index(pd.Index((i, j) for i in range(len(scoreboard) // 10) for j in range(10)), inplace=True)\n",
    "    return scoreboard\n",
    "\n",
    "\n",
    "scoreboard = prepare_scoreboard(defeat, draw, victory)\n",
    "scoreboard"
   ]
  },
  {
   "cell_type": "code",
   "execution_count": 2,
   "id": "ec6ee498-7a16-4ffe-a66f-6f4c56254aa5",
   "metadata": {
    "scrolled": true
   },
   "outputs": [
    {
     "name": "stdout",
     "output_type": "stream",
     "text": [
      "<class 'pandas.core.frame.DataFrame'>\n",
      "MultiIndex: 1690 entries, (0, 0) to (168, 9)\n",
      "Data columns (total 7 columns):\n",
      " #   Column  Non-Null Count  Dtype \n",
      "---  ------  --------------  ----- \n",
      " 0   E       1690 non-null   int64 \n",
      " 1   A       1690 non-null   int64 \n",
      " 2   D       1690 non-null   int64 \n",
      " 3   DMG     1690 non-null   int64 \n",
      " 4   H       1690 non-null   int64 \n",
      " 5   MIT     1690 non-null   int64 \n",
      " 6   GAME    1690 non-null   object\n",
      "dtypes: int64(6), object(1)\n",
      "memory usage: 103.2+ KB\n"
     ]
    }
   ],
   "source": [
    "scoreboard.info()"
   ]
  },
  {
   "cell_type": "code",
   "execution_count": 3,
   "id": "085d4528-396f-430c-a4cd-94864201d877",
   "metadata": {
    "scrolled": true
   },
   "outputs": [
    {
     "data": {
      "text/plain": [
       "GAME\n",
       "DEFEAT     820\n",
       "VICTORY    820\n",
       "DRAW        50\n",
       "Name: count, dtype: int64"
      ]
     },
     "execution_count": 3,
     "metadata": {},
     "output_type": "execute_result"
    }
   ],
   "source": [
    "scoreboard['GAME'].value_counts()"
   ]
  },
  {
   "cell_type": "code",
   "execution_count": 4,
   "id": "0aeb4436-9d57-41bd-ab88-a4c985255633",
   "metadata": {
    "scrolled": true
   },
   "outputs": [],
   "source": [
    "tank = scoreboard[::10]\n",
    "damage = pd.concat([scoreboard[1::10], scoreboard[2::10]])\n",
    "support = pd.concat([scoreboard[3::10], scoreboard[4::10]])"
   ]
  },
  {
   "cell_type": "code",
   "execution_count": 5,
   "id": "0d417f53-4032-474c-8a17-7751f3bcfb72",
   "metadata": {
    "scrolled": true
   },
   "outputs": [
    {
     "data": {
      "text/html": [
       "<div>\n",
       "<style scoped>\n",
       "    .dataframe tbody tr th:only-of-type {\n",
       "        vertical-align: middle;\n",
       "    }\n",
       "\n",
       "    .dataframe tbody tr th {\n",
       "        vertical-align: top;\n",
       "    }\n",
       "\n",
       "    .dataframe thead th {\n",
       "        text-align: right;\n",
       "    }\n",
       "</style>\n",
       "<table border=\"1\" class=\"dataframe\">\n",
       "  <thead>\n",
       "    <tr style=\"text-align: right;\">\n",
       "      <th></th>\n",
       "      <th>E</th>\n",
       "      <th>A</th>\n",
       "      <th>D</th>\n",
       "      <th>DMG</th>\n",
       "      <th>H</th>\n",
       "      <th>MIT</th>\n",
       "    </tr>\n",
       "  </thead>\n",
       "  <tbody>\n",
       "    <tr>\n",
       "      <th>count</th>\n",
       "      <td>169.000000</td>\n",
       "      <td>169.000000</td>\n",
       "      <td>169.000000</td>\n",
       "      <td>169.000000</td>\n",
       "      <td>169.000000</td>\n",
       "      <td>169.000000</td>\n",
       "    </tr>\n",
       "    <tr>\n",
       "      <th>mean</th>\n",
       "      <td>21.201183</td>\n",
       "      <td>5.532544</td>\n",
       "      <td>5.739645</td>\n",
       "      <td>9773.579882</td>\n",
       "      <td>247.976331</td>\n",
       "      <td>11017.775148</td>\n",
       "    </tr>\n",
       "    <tr>\n",
       "      <th>std</th>\n",
       "      <td>10.901933</td>\n",
       "      <td>4.625287</td>\n",
       "      <td>4.046268</td>\n",
       "      <td>4328.161863</td>\n",
       "      <td>708.669351</td>\n",
       "      <td>6793.814371</td>\n",
       "    </tr>\n",
       "    <tr>\n",
       "      <th>min</th>\n",
       "      <td>0.000000</td>\n",
       "      <td>0.000000</td>\n",
       "      <td>0.000000</td>\n",
       "      <td>915.000000</td>\n",
       "      <td>0.000000</td>\n",
       "      <td>350.000000</td>\n",
       "    </tr>\n",
       "    <tr>\n",
       "      <th>25%</th>\n",
       "      <td>14.000000</td>\n",
       "      <td>2.000000</td>\n",
       "      <td>3.000000</td>\n",
       "      <td>6671.000000</td>\n",
       "      <td>0.000000</td>\n",
       "      <td>6199.000000</td>\n",
       "    </tr>\n",
       "    <tr>\n",
       "      <th>50%</th>\n",
       "      <td>21.000000</td>\n",
       "      <td>4.000000</td>\n",
       "      <td>5.000000</td>\n",
       "      <td>10182.000000</td>\n",
       "      <td>0.000000</td>\n",
       "      <td>9594.000000</td>\n",
       "    </tr>\n",
       "    <tr>\n",
       "      <th>75%</th>\n",
       "      <td>30.000000</td>\n",
       "      <td>8.000000</td>\n",
       "      <td>8.000000</td>\n",
       "      <td>12428.000000</td>\n",
       "      <td>0.000000</td>\n",
       "      <td>14251.000000</td>\n",
       "    </tr>\n",
       "    <tr>\n",
       "      <th>max</th>\n",
       "      <td>48.000000</td>\n",
       "      <td>24.000000</td>\n",
       "      <td>19.000000</td>\n",
       "      <td>21439.000000</td>\n",
       "      <td>4541.000000</td>\n",
       "      <td>41092.000000</td>\n",
       "    </tr>\n",
       "  </tbody>\n",
       "</table>\n",
       "</div>"
      ],
      "text/plain": [
       "                E           A           D           DMG            H  \\\n",
       "count  169.000000  169.000000  169.000000    169.000000   169.000000   \n",
       "mean    21.201183    5.532544    5.739645   9773.579882   247.976331   \n",
       "std     10.901933    4.625287    4.046268   4328.161863   708.669351   \n",
       "min      0.000000    0.000000    0.000000    915.000000     0.000000   \n",
       "25%     14.000000    2.000000    3.000000   6671.000000     0.000000   \n",
       "50%     21.000000    4.000000    5.000000  10182.000000     0.000000   \n",
       "75%     30.000000    8.000000    8.000000  12428.000000     0.000000   \n",
       "max     48.000000   24.000000   19.000000  21439.000000  4541.000000   \n",
       "\n",
       "                MIT  \n",
       "count    169.000000  \n",
       "mean   11017.775148  \n",
       "std     6793.814371  \n",
       "min      350.000000  \n",
       "25%     6199.000000  \n",
       "50%     9594.000000  \n",
       "75%    14251.000000  \n",
       "max    41092.000000  "
      ]
     },
     "execution_count": 5,
     "metadata": {},
     "output_type": "execute_result"
    }
   ],
   "source": [
    "tank.describe()"
   ]
  },
  {
   "cell_type": "code",
   "execution_count": 6,
   "id": "93ce3777-9b71-4a37-a8cc-bbf9b111550e",
   "metadata": {
    "scrolled": true
   },
   "outputs": [
    {
     "data": {
      "text/html": [
       "<div>\n",
       "<style scoped>\n",
       "    .dataframe tbody tr th:only-of-type {\n",
       "        vertical-align: middle;\n",
       "    }\n",
       "\n",
       "    .dataframe tbody tr th {\n",
       "        vertical-align: top;\n",
       "    }\n",
       "\n",
       "    .dataframe thead th {\n",
       "        text-align: right;\n",
       "    }\n",
       "</style>\n",
       "<table border=\"1\" class=\"dataframe\">\n",
       "  <thead>\n",
       "    <tr style=\"text-align: right;\">\n",
       "      <th></th>\n",
       "      <th>E</th>\n",
       "      <th>A</th>\n",
       "      <th>D</th>\n",
       "      <th>DMG</th>\n",
       "      <th>H</th>\n",
       "      <th>MIT</th>\n",
       "    </tr>\n",
       "  </thead>\n",
       "  <tbody>\n",
       "    <tr>\n",
       "      <th>count</th>\n",
       "      <td>338.000000</td>\n",
       "      <td>338.000000</td>\n",
       "      <td>338.000000</td>\n",
       "      <td>338.000000</td>\n",
       "      <td>338.000000</td>\n",
       "      <td>338.000000</td>\n",
       "    </tr>\n",
       "    <tr>\n",
       "      <th>mean</th>\n",
       "      <td>19.713018</td>\n",
       "      <td>1.890533</td>\n",
       "      <td>7.000000</td>\n",
       "      <td>8837.928994</td>\n",
       "      <td>322.334320</td>\n",
       "      <td>460.798817</td>\n",
       "    </tr>\n",
       "    <tr>\n",
       "      <th>std</th>\n",
       "      <td>10.738207</td>\n",
       "      <td>2.717647</td>\n",
       "      <td>4.167844</td>\n",
       "      <td>4560.530794</td>\n",
       "      <td>548.853645</td>\n",
       "      <td>961.576843</td>\n",
       "    </tr>\n",
       "    <tr>\n",
       "      <th>min</th>\n",
       "      <td>0.000000</td>\n",
       "      <td>0.000000</td>\n",
       "      <td>0.000000</td>\n",
       "      <td>0.000000</td>\n",
       "      <td>0.000000</td>\n",
       "      <td>0.000000</td>\n",
       "    </tr>\n",
       "    <tr>\n",
       "      <th>25%</th>\n",
       "      <td>12.000000</td>\n",
       "      <td>0.000000</td>\n",
       "      <td>4.000000</td>\n",
       "      <td>5628.000000</td>\n",
       "      <td>0.000000</td>\n",
       "      <td>0.000000</td>\n",
       "    </tr>\n",
       "    <tr>\n",
       "      <th>50%</th>\n",
       "      <td>19.000000</td>\n",
       "      <td>1.000000</td>\n",
       "      <td>7.000000</td>\n",
       "      <td>8442.500000</td>\n",
       "      <td>0.000000</td>\n",
       "      <td>0.000000</td>\n",
       "    </tr>\n",
       "    <tr>\n",
       "      <th>75%</th>\n",
       "      <td>27.000000</td>\n",
       "      <td>3.000000</td>\n",
       "      <td>9.000000</td>\n",
       "      <td>11281.250000</td>\n",
       "      <td>426.500000</td>\n",
       "      <td>437.500000</td>\n",
       "    </tr>\n",
       "    <tr>\n",
       "      <th>max</th>\n",
       "      <td>56.000000</td>\n",
       "      <td>17.000000</td>\n",
       "      <td>21.000000</td>\n",
       "      <td>29354.000000</td>\n",
       "      <td>2673.000000</td>\n",
       "      <td>6070.000000</td>\n",
       "    </tr>\n",
       "  </tbody>\n",
       "</table>\n",
       "</div>"
      ],
      "text/plain": [
       "                E           A           D           DMG            H  \\\n",
       "count  338.000000  338.000000  338.000000    338.000000   338.000000   \n",
       "mean    19.713018    1.890533    7.000000   8837.928994   322.334320   \n",
       "std     10.738207    2.717647    4.167844   4560.530794   548.853645   \n",
       "min      0.000000    0.000000    0.000000      0.000000     0.000000   \n",
       "25%     12.000000    0.000000    4.000000   5628.000000     0.000000   \n",
       "50%     19.000000    1.000000    7.000000   8442.500000     0.000000   \n",
       "75%     27.000000    3.000000    9.000000  11281.250000   426.500000   \n",
       "max     56.000000   17.000000   21.000000  29354.000000  2673.000000   \n",
       "\n",
       "               MIT  \n",
       "count   338.000000  \n",
       "mean    460.798817  \n",
       "std     961.576843  \n",
       "min       0.000000  \n",
       "25%       0.000000  \n",
       "50%       0.000000  \n",
       "75%     437.500000  \n",
       "max    6070.000000  "
      ]
     },
     "execution_count": 6,
     "metadata": {},
     "output_type": "execute_result"
    }
   ],
   "source": [
    "damage.describe()"
   ]
  },
  {
   "cell_type": "code",
   "execution_count": 7,
   "id": "8af150a1-7e78-4be4-8305-0b8bdca07d76",
   "metadata": {
    "scrolled": true
   },
   "outputs": [
    {
     "data": {
      "text/html": [
       "<div>\n",
       "<style scoped>\n",
       "    .dataframe tbody tr th:only-of-type {\n",
       "        vertical-align: middle;\n",
       "    }\n",
       "\n",
       "    .dataframe tbody tr th {\n",
       "        vertical-align: top;\n",
       "    }\n",
       "\n",
       "    .dataframe thead th {\n",
       "        text-align: right;\n",
       "    }\n",
       "</style>\n",
       "<table border=\"1\" class=\"dataframe\">\n",
       "  <thead>\n",
       "    <tr style=\"text-align: right;\">\n",
       "      <th></th>\n",
       "      <th>E</th>\n",
       "      <th>A</th>\n",
       "      <th>D</th>\n",
       "      <th>DMG</th>\n",
       "      <th>H</th>\n",
       "      <th>MIT</th>\n",
       "    </tr>\n",
       "  </thead>\n",
       "  <tbody>\n",
       "    <tr>\n",
       "      <th>count</th>\n",
       "      <td>338.000000</td>\n",
       "      <td>338.000000</td>\n",
       "      <td>338.000000</td>\n",
       "      <td>338.000000</td>\n",
       "      <td>338.000000</td>\n",
       "      <td>338.000000</td>\n",
       "    </tr>\n",
       "    <tr>\n",
       "      <th>mean</th>\n",
       "      <td>9.615385</td>\n",
       "      <td>17.094675</td>\n",
       "      <td>5.671598</td>\n",
       "      <td>2907.127219</td>\n",
       "      <td>9756.502959</td>\n",
       "      <td>437.106509</td>\n",
       "    </tr>\n",
       "    <tr>\n",
       "      <th>std</th>\n",
       "      <td>7.408793</td>\n",
       "      <td>9.627016</td>\n",
       "      <td>3.633241</td>\n",
       "      <td>2216.676101</td>\n",
       "      <td>4690.567198</td>\n",
       "      <td>775.562413</td>\n",
       "    </tr>\n",
       "    <tr>\n",
       "      <th>min</th>\n",
       "      <td>0.000000</td>\n",
       "      <td>0.000000</td>\n",
       "      <td>0.000000</td>\n",
       "      <td>0.000000</td>\n",
       "      <td>341.000000</td>\n",
       "      <td>0.000000</td>\n",
       "    </tr>\n",
       "    <tr>\n",
       "      <th>25%</th>\n",
       "      <td>4.000000</td>\n",
       "      <td>11.000000</td>\n",
       "      <td>3.000000</td>\n",
       "      <td>1270.750000</td>\n",
       "      <td>6538.750000</td>\n",
       "      <td>0.000000</td>\n",
       "    </tr>\n",
       "    <tr>\n",
       "      <th>50%</th>\n",
       "      <td>9.000000</td>\n",
       "      <td>17.000000</td>\n",
       "      <td>5.000000</td>\n",
       "      <td>2625.000000</td>\n",
       "      <td>9007.000000</td>\n",
       "      <td>116.000000</td>\n",
       "    </tr>\n",
       "    <tr>\n",
       "      <th>75%</th>\n",
       "      <td>14.000000</td>\n",
       "      <td>23.000000</td>\n",
       "      <td>8.000000</td>\n",
       "      <td>3997.000000</td>\n",
       "      <td>12384.000000</td>\n",
       "      <td>556.750000</td>\n",
       "    </tr>\n",
       "    <tr>\n",
       "      <th>max</th>\n",
       "      <td>52.000000</td>\n",
       "      <td>48.000000</td>\n",
       "      <td>16.000000</td>\n",
       "      <td>16254.000000</td>\n",
       "      <td>27756.000000</td>\n",
       "      <td>5442.000000</td>\n",
       "    </tr>\n",
       "  </tbody>\n",
       "</table>\n",
       "</div>"
      ],
      "text/plain": [
       "                E           A           D           DMG             H  \\\n",
       "count  338.000000  338.000000  338.000000    338.000000    338.000000   \n",
       "mean     9.615385   17.094675    5.671598   2907.127219   9756.502959   \n",
       "std      7.408793    9.627016    3.633241   2216.676101   4690.567198   \n",
       "min      0.000000    0.000000    0.000000      0.000000    341.000000   \n",
       "25%      4.000000   11.000000    3.000000   1270.750000   6538.750000   \n",
       "50%      9.000000   17.000000    5.000000   2625.000000   9007.000000   \n",
       "75%     14.000000   23.000000    8.000000   3997.000000  12384.000000   \n",
       "max     52.000000   48.000000   16.000000  16254.000000  27756.000000   \n",
       "\n",
       "               MIT  \n",
       "count   338.000000  \n",
       "mean    437.106509  \n",
       "std     775.562413  \n",
       "min       0.000000  \n",
       "25%       0.000000  \n",
       "50%     116.000000  \n",
       "75%     556.750000  \n",
       "max    5442.000000  "
      ]
     },
     "execution_count": 7,
     "metadata": {},
     "output_type": "execute_result"
    }
   ],
   "source": [
    "support.describe()"
   ]
  },
  {
   "cell_type": "code",
   "execution_count": 8,
   "id": "b2e1a544-0e3b-4be1-abf2-4c324887ce28",
   "metadata": {
    "scrolled": true
   },
   "outputs": [
    {
     "name": "stdout",
     "output_type": "stream",
     "text": [
      "그림 저장: tank_hist\n"
     ]
    },
    {
     "data": {
      "image/png": "[encoded data removed]",
      "text/plain": [
       "<Figure size 2000x1500 with 6 Axes>"
      ]
     },
     "metadata": {},
     "output_type": "display_data"
    }
   ],
   "source": [
    "import matplotlib as mpl\n",
    "import matplotlib.pyplot as plt\n",
    "\n",
    "IMAGES_PATH = os.path.join('.', 'images')\n",
    "os.makedirs(IMAGES_PATH, exist_ok=True)\n",
    "mpl.rc('axes', labelsize=14)\n",
    "mpl.rc('xtick', labelsize=12)\n",
    "mpl.rc('ytick', labelsize=12)\n",
    "\n",
    "\n",
    "def save_fig(fig_id, tight_layout=True, fig_extension='png', resolution=300):\n",
    "    path = os.path.join(IMAGES_PATH, fig_id + '.' + fig_extension)\n",
    "    print('그림 저장:', fig_id)\n",
    "    if tight_layout:\n",
    "        plt.tight_layout()\n",
    "    plt.savefig(path, dpi=resolution, format=fig_extension)\n",
    "\n",
    "\n",
    "tank.hist(bins=50, figsize=(20, 15))\n",
    "save_fig('tank_hist')\n",
    "plt.show()"
   ]
  },
  {
   "cell_type": "code",
   "execution_count": 9,
   "id": "0a5a815e-1603-4118-9167-a410f89fbcf6",
   "metadata": {
    "scrolled": true
   },
   "outputs": [
    {
     "name": "stdout",
     "output_type": "stream",
     "text": [
      "그림 저장: damage_hist\n"
     ]
    },
    {
     "data": {
      "image/png": "[encoded data removed]",
      "text/plain": [
       "<Figure size 2000x1500 with 6 Axes>"
      ]
     },
     "metadata": {},
     "output_type": "display_data"
    }
   ],
   "source": [
    "damage.hist(bins=50, figsize=(20, 15))\n",
    "save_fig('damage_hist')\n",
    "plt.show()"
   ]
  },
  {
   "cell_type": "code",
   "execution_count": 10,
   "id": "a699a942-f2ba-4c14-84ff-4be26dc365bd",
   "metadata": {
    "scrolled": true
   },
   "outputs": [
    {
     "name": "stdout",
     "output_type": "stream",
     "text": [
      "그림 저장: support_hist\n"
     ]
    },
    {
     "data": {
      "image/png": "[encoded data removed]",
      "text/plain": [
       "<Figure size 2000x1500 with 6 Axes>"
      ]
     },
     "metadata": {},
     "output_type": "display_data"
    }
   ],
   "source": [
    "support.hist(bins=50, figsize=(20, 15))\n",
    "save_fig('support_hist')\n",
    "plt.show()"
   ]
  },
  {
   "cell_type": "code",
   "execution_count": 11,
   "id": "f511be41-d9c4-4360-91a8-d98eb961802d",
   "metadata": {
    "scrolled": true
   },
   "outputs": [],
   "source": [
    "import numpy as np\n",
    "\n",
    "scoreboard = scoreboard.loc[np.random.default_rng().permutation(len(scoreboard) // 10)]"
   ]
  },
  {
   "cell_type": "code",
   "execution_count": 12,
   "id": "48320f67-0fdc-41bd-976c-59217750f5c2",
   "metadata": {
    "scrolled": true
   },
   "outputs": [],
   "source": [
    "e = scoreboard['E'].copy()\n",
    "d = scoreboard['D'].copy()\n",
    "e.loc[e == 0] = 0.5\n",
    "d.loc[d == 0] = 0.5\n",
    "e_per_d = e / d"
   ]
  },
  {
   "cell_type": "code",
   "execution_count": 13,
   "id": "a3874553-95a2-4193-a1f7-ee764986e0f0",
   "metadata": {
    "scrolled": true
   },
   "outputs": [
    {
     "data": {
      "text/plain": [
       "count    169.000000\n",
       "mean       7.503939\n",
       "std        9.327641\n",
       "min        0.083333\n",
       "25%        1.875000\n",
       "50%        3.800000\n",
       "75%        9.000000\n",
       "max       46.000000\n",
       "dtype: float64"
      ]
     },
     "execution_count": 13,
     "metadata": {},
     "output_type": "execute_result"
    }
   ],
   "source": [
    "e_per_d[::10].describe()  # TANK"
   ]
  },
  {
   "cell_type": "code",
   "execution_count": 14,
   "id": "3c4c3afa-2dfa-4b7f-a9fc-38fcbbba74aa",
   "metadata": {
    "scrolled": true
   },
   "outputs": [
    {
     "data": {
      "text/plain": [
       "count    338.000000\n",
       "mean       4.334829\n",
       "std        4.764395\n",
       "min        0.125000\n",
       "25%        1.714286\n",
       "50%        2.900000\n",
       "75%        4.777778\n",
       "max       30.000000\n",
       "dtype: float64"
      ]
     },
     "execution_count": 14,
     "metadata": {},
     "output_type": "execute_result"
    }
   ],
   "source": [
    "pd.concat([e_per_d[1::10], e_per_d[2::10]]).describe()  # DAMAGE"
   ]
  },
  {
   "cell_type": "code",
   "execution_count": 15,
   "id": "d7bc5673-e2ed-4790-a548-fd135c4e81f3",
   "metadata": {
    "scrolled": true
   },
   "outputs": [
    {
     "data": {
      "text/plain": [
       "count    338.000000\n",
       "mean       3.129440\n",
       "std        5.128115\n",
       "min        0.045455\n",
       "25%        0.750000\n",
       "50%        1.612500\n",
       "75%        3.000000\n",
       "max       42.000000\n",
       "dtype: float64"
      ]
     },
     "execution_count": 15,
     "metadata": {},
     "output_type": "execute_result"
    }
   ],
   "source": [
    "pd.concat([e_per_d[3::10], e_per_d[4::10]]).describe()  # SUPPORT"
   ]
  },
  {
   "cell_type": "code",
   "execution_count": 16,
   "id": "e3dbedde-8774-4253-a16d-ef2b28c56c52",
   "metadata": {
    "scrolled": true
   },
   "outputs": [
    {
     "data": {
      "text/html": [
       "<div>\n",
       "<style scoped>\n",
       "    .dataframe tbody tr th:only-of-type {\n",
       "        vertical-align: middle;\n",
       "    }\n",
       "\n",
       "    .dataframe tbody tr th {\n",
       "        vertical-align: top;\n",
       "    }\n",
       "\n",
       "    .dataframe thead th {\n",
       "        text-align: right;\n",
       "    }\n",
       "</style>\n",
       "<table border=\"1\" class=\"dataframe\">\n",
       "  <thead>\n",
       "    <tr style=\"text-align: right;\">\n",
       "      <th></th>\n",
       "      <th></th>\n",
       "      <th>E</th>\n",
       "      <th>A</th>\n",
       "      <th>D</th>\n",
       "      <th>DMG</th>\n",
       "      <th>H</th>\n",
       "      <th>MIT</th>\n",
       "      <th>E_per_D</th>\n",
       "    </tr>\n",
       "  </thead>\n",
       "  <tbody>\n",
       "    <tr>\n",
       "      <th rowspan=\"5\" valign=\"top\">34</th>\n",
       "      <th>0</th>\n",
       "      <td>15.0</td>\n",
       "      <td>5.0</td>\n",
       "      <td>8.0</td>\n",
       "      <td>8346.0</td>\n",
       "      <td>0.0</td>\n",
       "      <td>7000.0</td>\n",
       "      <td>1.875000</td>\n",
       "    </tr>\n",
       "    <tr>\n",
       "      <th>1</th>\n",
       "      <td>13.0</td>\n",
       "      <td>1.0</td>\n",
       "      <td>5.0</td>\n",
       "      <td>6407.0</td>\n",
       "      <td>0.0</td>\n",
       "      <td>0.0</td>\n",
       "      <td>2.600000</td>\n",
       "    </tr>\n",
       "    <tr>\n",
       "      <th>2</th>\n",
       "      <td>6.0</td>\n",
       "      <td>0.0</td>\n",
       "      <td>6.0</td>\n",
       "      <td>5328.0</td>\n",
       "      <td>720.0</td>\n",
       "      <td>566.0</td>\n",
       "      <td>1.000000</td>\n",
       "    </tr>\n",
       "    <tr>\n",
       "      <th>3</th>\n",
       "      <td>4.0</td>\n",
       "      <td>13.0</td>\n",
       "      <td>6.0</td>\n",
       "      <td>774.0</td>\n",
       "      <td>7507.0</td>\n",
       "      <td>0.0</td>\n",
       "      <td>0.666667</td>\n",
       "    </tr>\n",
       "    <tr>\n",
       "      <th>4</th>\n",
       "      <td>4.0</td>\n",
       "      <td>10.0</td>\n",
       "      <td>7.0</td>\n",
       "      <td>1556.0</td>\n",
       "      <td>4288.0</td>\n",
       "      <td>523.0</td>\n",
       "      <td>0.571429</td>\n",
       "    </tr>\n",
       "    <tr>\n",
       "      <th>...</th>\n",
       "      <th>...</th>\n",
       "      <td>...</td>\n",
       "      <td>...</td>\n",
       "      <td>...</td>\n",
       "      <td>...</td>\n",
       "      <td>...</td>\n",
       "      <td>...</td>\n",
       "      <td>...</td>\n",
       "    </tr>\n",
       "    <tr>\n",
       "      <th rowspan=\"5\" valign=\"top\">81</th>\n",
       "      <th>5</th>\n",
       "      <td>55.0</td>\n",
       "      <td>14.0</td>\n",
       "      <td>13.0</td>\n",
       "      <td>24408.0</td>\n",
       "      <td>3060.0</td>\n",
       "      <td>14077.0</td>\n",
       "      <td>4.230769</td>\n",
       "    </tr>\n",
       "    <tr>\n",
       "      <th>6</th>\n",
       "      <td>47.0</td>\n",
       "      <td>6.0</td>\n",
       "      <td>18.0</td>\n",
       "      <td>18533.0</td>\n",
       "      <td>2069.0</td>\n",
       "      <td>360.0</td>\n",
       "      <td>2.611111</td>\n",
       "    </tr>\n",
       "    <tr>\n",
       "      <th>7</th>\n",
       "      <td>41.0</td>\n",
       "      <td>0.0</td>\n",
       "      <td>16.0</td>\n",
       "      <td>16157.0</td>\n",
       "      <td>2052.0</td>\n",
       "      <td>0.0</td>\n",
       "      <td>2.562500</td>\n",
       "    </tr>\n",
       "    <tr>\n",
       "      <th>8</th>\n",
       "      <td>17.0</td>\n",
       "      <td>36.0</td>\n",
       "      <td>12.0</td>\n",
       "      <td>3040.0</td>\n",
       "      <td>18193.0</td>\n",
       "      <td>488.0</td>\n",
       "      <td>1.416667</td>\n",
       "    </tr>\n",
       "    <tr>\n",
       "      <th>9</th>\n",
       "      <td>14.0</td>\n",
       "      <td>41.0</td>\n",
       "      <td>13.0</td>\n",
       "      <td>3417.0</td>\n",
       "      <td>21117.0</td>\n",
       "      <td>0.0</td>\n",
       "      <td>1.076923</td>\n",
       "    </tr>\n",
       "  </tbody>\n",
       "</table>\n",
       "<p>1690 rows × 7 columns</p>\n",
       "</div>"
      ],
      "text/plain": [
       "         E     A     D      DMG        H      MIT   E_per_D\n",
       "34 0  15.0   5.0   8.0   8346.0      0.0   7000.0  1.875000\n",
       "   1  13.0   1.0   5.0   6407.0      0.0      0.0  2.600000\n",
       "   2   6.0   0.0   6.0   5328.0    720.0    566.0  1.000000\n",
       "   3   4.0  13.0   6.0    774.0   7507.0      0.0  0.666667\n",
       "   4   4.0  10.0   7.0   1556.0   4288.0    523.0  0.571429\n",
       "...    ...   ...   ...      ...      ...      ...       ...\n",
       "81 5  55.0  14.0  13.0  24408.0   3060.0  14077.0  4.230769\n",
       "   6  47.0   6.0  18.0  18533.0   2069.0    360.0  2.611111\n",
       "   7  41.0   0.0  16.0  16157.0   2052.0      0.0  2.562500\n",
       "   8  17.0  36.0  12.0   3040.0  18193.0    488.0  1.416667\n",
       "   9  14.0  41.0  13.0   3417.0  21117.0      0.0  1.076923\n",
       "\n",
       "[1690 rows x 7 columns]"
      ]
     },
     "execution_count": 16,
     "metadata": {},
     "output_type": "execute_result"
    }
   ],
   "source": [
    "from sklearn.base import BaseEstimator, TransformerMixin\n",
    "\n",
    "scoreboard_num = scoreboard.drop('GAME', axis=1)\n",
    "e_ix, d_ix = [scoreboard_num.columns.get_loc(c) for c in ('E', 'D')]\n",
    "\n",
    "\n",
    "class CombinedAttributesAdder(BaseEstimator, TransformerMixin):\n",
    "    def fit(self, X, y=None):\n",
    "        return self\n",
    "\n",
    "    def transform(self, X):\n",
    "        X = X.to_numpy(np.float64)\n",
    "        e = X[:, e_ix]\n",
    "        d = X[:, d_ix]\n",
    "        e[e == 0] = 0.5\n",
    "        d[d == 0] = 0.5\n",
    "        e_per_d = e / d\n",
    "        return np.c_[X, e_per_d]\n",
    "\n",
    "\n",
    "attr_adder = CombinedAttributesAdder()\n",
    "scoreboard_extra_attribs = attr_adder.transform(scoreboard_num)\n",
    "scoreboard_extra_attribs = pd.DataFrame(\n",
    "    scoreboard_extra_attribs, scoreboard_num.index, list(scoreboard_num) + ['E_per_D']\n",
    ")\n",
    "scoreboard_extra_attribs"
   ]
  },
  {
   "cell_type": "code",
   "execution_count": 17,
   "id": "5d365773-c34b-4720-b4c4-14a8a6fc9a9c",
   "metadata": {
    "scrolled": true
   },
   "outputs": [
    {
     "data": {
      "text/plain": [
       "array([[ 0.04828835, -0.31379507,  0.34864207, ..., -0.75015865,\n",
       "         0.92945894, -0.32449136],\n",
       "       [-0.14238293, -0.75738659, -0.41556687, ..., -0.75015865,\n",
       "        -0.49484993, -0.1840087 ],\n",
       "       [-0.80973238, -0.86828447, -0.16083056, ..., -0.6172376 ,\n",
       "        -0.37968439, -0.4940394 ],\n",
       "       ...,\n",
       "       [ 2.5270149 , -0.86828447,  2.38653258, ..., -0.37133366,\n",
       "        -0.49484993, -0.19127504],\n",
       "       [ 0.23895962,  3.12403923,  1.36758732, ...,  2.60849783,\n",
       "        -0.39555526, -0.41330224],\n",
       "       [-0.04704729,  3.67852863,  1.62232364, ...,  3.14830499,\n",
       "        -0.49484993, -0.47913407]])"
      ]
     },
     "execution_count": 17,
     "metadata": {},
     "output_type": "execute_result"
    }
   ],
   "source": [
    "from sklearn.pipeline import Pipeline\n",
    "from sklearn.preprocessing import StandardScaler\n",
    "\n",
    "num_pipeline = Pipeline([('attribs_adder', CombinedAttributesAdder()), ('std_scaler', StandardScaler())])\n",
    "scoreboard_num_tr = num_pipeline.fit_transform(scoreboard_num)\n",
    "scoreboard_num_tr"
   ]
  },
  {
   "cell_type": "code",
   "execution_count": 18,
   "id": "18778864-b000-4a0a-82f6-1f57df140b42",
   "metadata": {
    "scrolled": true
   },
   "outputs": [
    {
     "data": {
      "text/plain": [
       "array([[ 0.04828835, -0.31379507,  0.34864207, ...,  0.92945894,\n",
       "        -0.32449136,  0.        ],\n",
       "       [-0.14238293, -0.75738659, -0.41556687, ..., -0.49484993,\n",
       "        -0.1840087 ,  0.        ],\n",
       "       [-0.80973238, -0.86828447, -0.16083056, ..., -0.37968439,\n",
       "        -0.4940394 ,  0.        ],\n",
       "       ...,\n",
       "       [ 2.5270149 , -0.86828447,  2.38653258, ..., -0.49484993,\n",
       "        -0.19127504,  1.        ],\n",
       "       [ 0.23895962,  3.12403923,  1.36758732, ..., -0.39555526,\n",
       "        -0.41330224,  1.        ],\n",
       "       [-0.04704729,  3.67852863,  1.62232364, ..., -0.49484993,\n",
       "        -0.47913407,  1.        ]])"
      ]
     },
     "execution_count": 18,
     "metadata": {},
     "output_type": "execute_result"
    }
   ],
   "source": [
    "from sklearn.compose import ColumnTransformer\n",
    "from sklearn.preprocessing import OrdinalEncoder\n",
    "\n",
    "full_pipeline = ColumnTransformer(\n",
    "    [('num', num_pipeline, scoreboard_num.columns), ('cat', OrdinalEncoder(), ['GAME'])]\n",
    ")\n",
    "scoreboard_prepared = full_pipeline.fit_transform(scoreboard)\n",
    "scoreboard_prepared"
   ]
  },
  {
   "cell_type": "code",
   "execution_count": 19,
   "id": "5d6dc587-beaa-4b1e-9e91-78ae6a018b77",
   "metadata": {
    "scrolled": true
   },
   "outputs": [
    {
     "data": {
      "text/plain": [
       "(1690, 8)"
      ]
     },
     "execution_count": 19,
     "metadata": {},
     "output_type": "execute_result"
    }
   ],
   "source": [
    "scoreboard_prepared.shape"
   ]
  },
  {
   "cell_type": "code",
   "execution_count": 20,
   "id": "b5dc6e89-8418-4e1a-8a13-13993afbb86e",
   "metadata": {
    "scrolled": true
   },
   "outputs": [
    {
     "data": {
      "text/plain": [
       "array([[ 0.04828835, -0.31379507,  0.34864207, ...,  0.27924104,\n",
       "        -0.49484993, -0.15494332],\n",
       "       [ 2.33634362,  0.01889857, -0.16083056, ...,  2.38400895,\n",
       "        -0.35262252, -0.63936628],\n",
       "       [ 0.7156378 ,  0.35159222, -0.9250395 , ..., -0.75015865,\n",
       "        -0.49484993, -0.4940394 ],\n",
       "       ...,\n",
       "       [ 0.52496653, -0.75738659,  1.36758732, ...,  1.49694555,\n",
       "        -0.3654413 , -0.22276254],\n",
       "       [ 2.43167926, -0.42469295,  0.34864207, ...,  1.6533124 ,\n",
       "        -0.32088078, -0.37479682],\n",
       "       [ 1.47832289, -0.31379507,  3.15074152, ...,  3.14830499,\n",
       "        -0.49484993, -0.47913407]])"
      ]
     },
     "execution_count": 20,
     "metadata": {},
     "output_type": "execute_result"
    }
   ],
   "source": [
    "X = scoreboard_prepared[:, :-1].reshape(-1, 70)\n",
    "X"
   ]
  },
  {
   "cell_type": "code",
   "execution_count": 21,
   "id": "4031dca8-256e-46d7-b778-daa2b1210d57",
   "metadata": {
    "scrolled": true
   },
   "outputs": [
    {
     "data": {
      "text/plain": [
       "(169, 70)"
      ]
     },
     "execution_count": 21,
     "metadata": {},
     "output_type": "execute_result"
    }
   ],
   "source": [
    "X.shape"
   ]
  },
  {
   "cell_type": "code",
   "execution_count": 22,
   "id": "02e86023-df0a-4421-808b-d72610e74239",
   "metadata": {
    "scrolled": true
   },
   "outputs": [
    {
     "data": {
      "text/plain": [
       "array([0., 2., 2., 2., 2., 2., 0., 2., 2., 0., 2., 2., 2., 2., 0., 0., 2.,\n",
       "       2., 0., 0., 2., 0., 2., 2., 2., 0., 2., 0., 2., 0., 0., 2., 0., 0.,\n",
       "       2., 0., 2., 2., 0., 0., 2., 0., 2., 0., 0., 2., 2., 0., 2., 0., 0.,\n",
       "       2., 2., 0., 0., 0., 2., 1., 1., 2., 0., 2., 2., 0., 2., 2., 0., 2.,\n",
       "       0., 1., 0., 2., 2., 2., 0., 2., 0., 2., 2., 2., 2., 2., 2., 0., 0.,\n",
       "       0., 0., 2., 2., 0., 0., 2., 0., 0., 2., 1., 2., 2., 2., 2., 2., 0.,\n",
       "       2., 2., 2., 2., 2., 2., 0., 0., 2., 0., 2., 2., 2., 0., 2., 0., 0.,\n",
       "       0., 0., 2., 0., 0., 2., 2., 2., 0., 0., 2., 2., 0., 0., 0., 2., 2.,\n",
       "       2., 2., 0., 0., 0., 0., 2., 0., 0., 2., 0., 0., 0., 0., 0., 0., 2.,\n",
       "       2., 2., 2., 0., 0., 0., 2., 2., 0., 0., 0., 0., 2., 0., 2., 1.])"
      ]
     },
     "execution_count": 22,
     "metadata": {},
     "output_type": "execute_result"
    }
   ],
   "source": [
    "y = scoreboard_prepared[::10, -1]\n",
    "y"
   ]
  },
  {
   "cell_type": "code",
   "execution_count": 23,
   "id": "14caeeeb-747a-451a-ae2b-ca20011c6dd6",
   "metadata": {
    "scrolled": true
   },
   "outputs": [
    {
     "data": {
      "text/plain": [
       "(169,)"
      ]
     },
     "execution_count": 23,
     "metadata": {},
     "output_type": "execute_result"
    }
   ],
   "source": [
    "y.shape"
   ]
  },
  {
   "cell_type": "code",
   "execution_count": 24,
   "id": "b758307c-f409-427c-8627-6798236d9d17",
   "metadata": {
    "scrolled": true
   },
   "outputs": [
    {
     "data": {
      "text/plain": [
       "[('GradientBoostingClassifier', 0.9049910873440284),\n",
       " ('ExtraTreesClassifier', 0.881283422459893),\n",
       " ('RandomForestClassifier', 0.8754010695187165),\n",
       " ('HistGradientBoostingClassifier', 0.8693404634581106),\n",
       " ('LogisticRegression', 0.8631016042780748),\n",
       " ('SVC', 0.8575757575757577),\n",
       " ('BaggingClassifier', 0.857397504456328),\n",
       " ('NuSVC', 0.8511586452762924),\n",
       " ('AdaBoostClassifier', 0.8456327985739751),\n",
       " ('PassiveAggressiveClassifier', 0.8452762923351159),\n",
       " ('KNeighborsClassifier', 0.8399286987522281),\n",
       " ('NearestCentroid', 0.8279857397504455),\n",
       " ('SGDClassifier', 0.8274509803921569),\n",
       " ('Perceptron', 0.8274509803921568),\n",
       " ('DecisionTreeClassifier', 0.8160427807486631),\n",
       " ('RidgeClassifier', 0.7980392156862745),\n",
       " ('ExtraTreeClassifier', 0.768270944741533),\n",
       " ('RadiusNeighborsClassifier', 0.5089126559714795)]"
      ]
     },
     "execution_count": 24,
     "metadata": {},
     "output_type": "execute_result"
    }
   ],
   "source": [
    "from sklearn.ensemble import *\n",
    "from sklearn.linear_model import *\n",
    "from sklearn.neighbors import *\n",
    "from sklearn.svm import *\n",
    "from sklearn.tree import *\n",
    "from sklearn.model_selection import cross_val_score\n",
    "\n",
    "models = {\n",
    "    'AdaBoostClassifier': AdaBoostClassifier(),\n",
    "    'BaggingClassifier': BaggingClassifier(n_jobs=-1),\n",
    "    'ExtraTreesClassifier': ExtraTreesClassifier(n_jobs=-1),\n",
    "    'GradientBoostingClassifier': GradientBoostingClassifier(),\n",
    "    'HistGradientBoostingClassifier': HistGradientBoostingClassifier(),\n",
    "    'RandomForestClassifier': RandomForestClassifier(n_jobs=-1),\n",
    "    'Perceptron': Perceptron(n_jobs=-1),\n",
    "    'RidgeClassifier': RidgeClassifier(),\n",
    "    'SGDClassifier': SGDClassifier(n_jobs=-1),\n",
    "    'PassiveAggressiveClassifier': PassiveAggressiveClassifier(n_jobs=-1),\n",
    "    'LogisticRegression': LogisticRegression(max_iter=200, n_jobs=-1),\n",
    "    'RadiusNeighborsClassifier': RadiusNeighborsClassifier(radius=12.0, n_jobs=-1),  # 8 16\n",
    "    'NearestCentroid': NearestCentroid(),\n",
    "    'KNeighborsClassifier': KNeighborsClassifier(n_jobs=-1),\n",
    "    'NuSVC': NuSVC(nu=0.0625),\n",
    "    'SVC': SVC(),\n",
    "    'ExtraTreeClassifier': ExtraTreeClassifier(),\n",
    "    'DecisionTreeClassifier': DecisionTreeClassifier()\n",
    "}\n",
    "scores = {}\n",
    "for k, v in models.items():\n",
    "    scores[k] = cross_val_score(v, X, y, n_jobs=-1).mean()\n",
    "sorted_ = sorted(scores.items(), key=lambda item: item[1], reverse=True)\n",
    "sorted_"
   ]
  },
  {
   "cell_type": "code",
   "execution_count": 25,
   "id": "d12225a7-46db-4dc0-bb14-4a85e946f5b9",
   "metadata": {
    "scrolled": true
   },
   "outputs": [
    {
     "data": {
      "text/html": [
       "<style>#sk-container-id-1 {color: black;}#sk-container-id-1 pre{padding: 0;}#sk-container-id-1 div.sk-toggleable {background-color: white;}#sk-container-id-1 label.sk-toggleable__label {cursor: pointer;display: block;width: 100%;margin-bottom: 0;padding: 0.3em;box-sizing: border-box;text-align: center;}#sk-container-id-1 label.sk-toggleable__label-arrow:before {content: \"▸\";float: left;margin-right: 0.25em;color: #696969;}#sk-container-id-1 label.sk-toggleable__label-arrow:hover:before {color: black;}#sk-container-id-1 div.sk-estimator:hover label.sk-toggleable__label-arrow:before {color: black;}#sk-container-id-1 div.sk-toggleable__content {max-height: 0;max-width: 0;overflow: hidden;text-align: left;background-color: #f0f8ff;}#sk-container-id-1 div.sk-toggleable__content pre {margin: 0.2em;color: black;border-radius: 0.25em;background-color: #f0f8ff;}#sk-container-id-1 input.sk-toggleable__control:checked~div.sk-toggleable__content {max-height: 200px;max-width: 100%;overflow: auto;}#sk-container-id-1 input.sk-toggleable__control:checked~label.sk-toggleable__label-arrow:before {content: \"▾\";}#sk-container-id-1 div.sk-estimator input.sk-toggleable__control:checked~label.sk-toggleable__label {background-color: #d4ebff;}#sk-container-id-1 div.sk-label input.sk-toggleable__control:checked~label.sk-toggleable__label {background-color: #d4ebff;}#sk-container-id-1 input.sk-hidden--visually {border: 0;clip: rect(1px 1px 1px 1px);clip: rect(1px, 1px, 1px, 1px);height: 1px;margin: -1px;overflow: hidden;padding: 0;position: absolute;width: 1px;}#sk-container-id-1 div.sk-estimator {font-family: monospace;background-color: #f0f8ff;border: 1px dotted black;border-radius: 0.25em;box-sizing: border-box;margin-bottom: 0.5em;}#sk-container-id-1 div.sk-estimator:hover {background-color: #d4ebff;}#sk-container-id-1 div.sk-parallel-item::after {content: \"\";width: 100%;border-bottom: 1px solid gray;flex-grow: 1;}#sk-container-id-1 div.sk-label:hover label.sk-toggleable__label {background-color: #d4ebff;}#sk-container-id-1 div.sk-serial::before {content: \"\";position: absolute;border-left: 1px solid gray;box-sizing: border-box;top: 0;bottom: 0;left: 50%;z-index: 0;}#sk-container-id-1 div.sk-serial {display: flex;flex-direction: column;align-items: center;background-color: white;padding-right: 0.2em;padding-left: 0.2em;position: relative;}#sk-container-id-1 div.sk-item {position: relative;z-index: 1;}#sk-container-id-1 div.sk-parallel {display: flex;align-items: stretch;justify-content: center;background-color: white;position: relative;}#sk-container-id-1 div.sk-item::before, #sk-container-id-1 div.sk-parallel-item::before {content: \"\";position: absolute;border-left: 1px solid gray;box-sizing: border-box;top: 0;bottom: 0;left: 50%;z-index: -1;}#sk-container-id-1 div.sk-parallel-item {display: flex;flex-direction: column;z-index: 1;position: relative;background-color: white;}#sk-container-id-1 div.sk-parallel-item:first-child::after {align-self: flex-end;width: 50%;}#sk-container-id-1 div.sk-parallel-item:last-child::after {align-self: flex-start;width: 50%;}#sk-container-id-1 div.sk-parallel-item:only-child::after {width: 0;}#sk-container-id-1 div.sk-dashed-wrapped {border: 1px dashed gray;margin: 0 0.4em 0.5em 0.4em;box-sizing: border-box;padding-bottom: 0.4em;background-color: white;}#sk-container-id-1 div.sk-label label {font-family: monospace;font-weight: bold;display: inline-block;line-height: 1.2em;}#sk-container-id-1 div.sk-label-container {text-align: center;}#sk-container-id-1 div.sk-container {/* jupyter's `normalize.less` sets `[hidden] { display: none; }` but bootstrap.min.css set `[hidden] { display: none !important; }` so we also need the `!important` here to be able to override the default hidden behavior on the sphinx rendered scikit-learn.org. See: https://github.com/scikit-learn/scikit-learn/issues/21755 */display: inline-block !important;position: relative;}#sk-container-id-1 div.sk-text-repr-fallback {display: none;}</style><div id=\"sk-container-id-1\" class=\"sk-top-container\"><div class=\"sk-text-repr-fallback\"><pre>GradientBoostingClassifier()</pre><b>In a Jupyter environment, please rerun this cell to show the HTML representation or trust the notebook. <br />On GitHub, the HTML representation is unable to render, please try loading this page with nbviewer.org.</b></div><div class=\"sk-container\" hidden><div class=\"sk-item\"><div class=\"sk-estimator sk-toggleable\"><input class=\"sk-toggleable__control sk-hidden--visually\" id=\"sk-estimator-id-1\" type=\"checkbox\" checked><label for=\"sk-estimator-id-1\" class=\"sk-toggleable__label sk-toggleable__label-arrow\">GradientBoostingClassifier</label><div class=\"sk-toggleable__content\"><pre>GradientBoostingClassifier()</pre></div></div></div></div></div>"
      ],
      "text/plain": [
       "GradientBoostingClassifier()"
      ]
     },
     "execution_count": 25,
     "metadata": {},
     "output_type": "execute_result"
    }
   ],
   "source": [
    "model = models[sorted_[0][0]]\n",
    "model"
   ]
  },
  {
   "cell_type": "code",
   "execution_count": 26,
   "id": "c4add590-c60a-47a8-be6e-cb4e698ab0bf",
   "metadata": {
    "scrolled": true
   },
   "outputs": [
    {
     "name": "stdout",
     "output_type": "stream",
     "text": [
      "20 VICTORY DEFEAT\n",
      "28 VICTORY DEFEAT\n",
      "39 DEFEAT VICTORY\n",
      "55 DEFEAT VICTORY\n",
      "56 VICTORY DEFEAT\n",
      "63 DEFEAT VICTORY\n",
      "70 DEFEAT VICTORY\n",
      "86 DEFEAT VICTORY\n",
      "105 VICTORY DEFEAT\n",
      "118 DEFEAT VICTORY\n",
      "121 VICTORY DEFEAT\n",
      "137 VICTORY DEFEAT\n",
      "144 DEFEAT VICTORY\n",
      "145 VICTORY DEFEAT\n",
      "147 DEFEAT VICTORY\n",
      "155 VICTORY DEFEAT\n"
     ]
    }
   ],
   "source": [
    "from sklearn.model_selection import cross_val_predict\n",
    "\n",
    "transform = full_pipeline.named_transformers_.cat.inverse_transform\n",
    "for i, (y1, y2) in enumerate(\n",
    "        zip(transform(y.reshape(-1, 1)), transform(cross_val_predict(model, X, y, n_jobs=-1).reshape(-1, 1)))\n",
    "):\n",
    "    if y1 != y2:\n",
    "        print(f'{i} {y1[0]} {y2[0]}')"
   ]
  },
  {
   "cell_type": "code",
   "execution_count": 100,
   "id": "9c8c9e92-6a39-4c81-87fb-a782c07166de",
   "metadata": {
    "scrolled": true
   },
   "outputs": [
    {
     "name": "stdout",
     "output_type": "stream",
     "text": [
      "64\n"
     ]
    },
    {
     "data": {
      "text/html": [
       "<div>\n",
       "<style scoped>\n",
       "    .dataframe tbody tr th:only-of-type {\n",
       "        vertical-align: middle;\n",
       "    }\n",
       "\n",
       "    .dataframe tbody tr th {\n",
       "        vertical-align: top;\n",
       "    }\n",
       "\n",
       "    .dataframe thead th {\n",
       "        text-align: right;\n",
       "    }\n",
       "</style>\n",
       "<table border=\"1\" class=\"dataframe\">\n",
       "  <thead>\n",
       "    <tr style=\"text-align: right;\">\n",
       "      <th></th>\n",
       "      <th></th>\n",
       "      <th>E</th>\n",
       "      <th>A</th>\n",
       "      <th>D</th>\n",
       "      <th>DMG</th>\n",
       "      <th>H</th>\n",
       "      <th>MIT</th>\n",
       "      <th>GAME</th>\n",
       "    </tr>\n",
       "  </thead>\n",
       "  <tbody>\n",
       "    <tr>\n",
       "      <th rowspan=\"10\" valign=\"top\">145</th>\n",
       "      <th>0</th>\n",
       "      <td>6</td>\n",
       "      <td>1</td>\n",
       "      <td>1</td>\n",
       "      <td>4935</td>\n",
       "      <td>0</td>\n",
       "      <td>1896</td>\n",
       "      <td>VICTORY</td>\n",
       "    </tr>\n",
       "    <tr>\n",
       "      <th>1</th>\n",
       "      <td>4</td>\n",
       "      <td>0</td>\n",
       "      <td>1</td>\n",
       "      <td>2540</td>\n",
       "      <td>0</td>\n",
       "      <td>0</td>\n",
       "      <td>VICTORY</td>\n",
       "    </tr>\n",
       "    <tr>\n",
       "      <th>2</th>\n",
       "      <td>5</td>\n",
       "      <td>0</td>\n",
       "      <td>4</td>\n",
       "      <td>2127</td>\n",
       "      <td>0</td>\n",
       "      <td>1440</td>\n",
       "      <td>VICTORY</td>\n",
       "    </tr>\n",
       "    <tr>\n",
       "      <th>3</th>\n",
       "      <td>0</td>\n",
       "      <td>2</td>\n",
       "      <td>1</td>\n",
       "      <td>225</td>\n",
       "      <td>2644</td>\n",
       "      <td>58</td>\n",
       "      <td>VICTORY</td>\n",
       "    </tr>\n",
       "    <tr>\n",
       "      <th>4</th>\n",
       "      <td>0</td>\n",
       "      <td>4</td>\n",
       "      <td>2</td>\n",
       "      <td>0</td>\n",
       "      <td>3927</td>\n",
       "      <td>0</td>\n",
       "      <td>VICTORY</td>\n",
       "    </tr>\n",
       "    <tr>\n",
       "      <th>5</th>\n",
       "      <td>6</td>\n",
       "      <td>3</td>\n",
       "      <td>1</td>\n",
       "      <td>3472</td>\n",
       "      <td>0</td>\n",
       "      <td>1285</td>\n",
       "      <td>DEFEAT</td>\n",
       "    </tr>\n",
       "    <tr>\n",
       "      <th>6</th>\n",
       "      <td>7</td>\n",
       "      <td>0</td>\n",
       "      <td>2</td>\n",
       "      <td>3210</td>\n",
       "      <td>0</td>\n",
       "      <td>0</td>\n",
       "      <td>DEFEAT</td>\n",
       "    </tr>\n",
       "    <tr>\n",
       "      <th>7</th>\n",
       "      <td>0</td>\n",
       "      <td>0</td>\n",
       "      <td>0</td>\n",
       "      <td>0</td>\n",
       "      <td>0</td>\n",
       "      <td>0</td>\n",
       "      <td>DEFEAT</td>\n",
       "    </tr>\n",
       "    <tr>\n",
       "      <th>8</th>\n",
       "      <td>1</td>\n",
       "      <td>3</td>\n",
       "      <td>2</td>\n",
       "      <td>356</td>\n",
       "      <td>2152</td>\n",
       "      <td>64</td>\n",
       "      <td>DEFEAT</td>\n",
       "    </tr>\n",
       "    <tr>\n",
       "      <th>9</th>\n",
       "      <td>3</td>\n",
       "      <td>5</td>\n",
       "      <td>0</td>\n",
       "      <td>1283</td>\n",
       "      <td>2749</td>\n",
       "      <td>249</td>\n",
       "      <td>DEFEAT</td>\n",
       "    </tr>\n",
       "  </tbody>\n",
       "</table>\n",
       "</div>"
      ],
      "text/plain": [
       "       E  A  D   DMG     H   MIT     GAME\n",
       "145 0  6  1  1  4935     0  1896  VICTORY\n",
       "    1  4  0  1  2540     0     0  VICTORY\n",
       "    2  5  0  4  2127     0  1440  VICTORY\n",
       "    3  0  2  1   225  2644    58  VICTORY\n",
       "    4  0  4  2     0  3927     0  VICTORY\n",
       "    5  6  3  1  3472     0  1285   DEFEAT\n",
       "    6  7  0  2  3210     0     0   DEFEAT\n",
       "    7  0  0  0     0     0     0   DEFEAT\n",
       "    8  1  3  2   356  2152    64   DEFEAT\n",
       "    9  3  5  0  1283  2749   249   DEFEAT"
      ]
     },
     "execution_count": 100,
     "metadata": {},
     "output_type": "execute_result"
    }
   ],
   "source": [
    "i = 20\n",
    "i_ = i * 10\n",
    "data = scoreboard[i_:i_ + 10]\n",
    "print(data.index[0][0] - len(defeat) // 10 - len(draw) // 10 + 1)\n",
    "data"
   ]
  },
  {
   "cell_type": "code",
   "execution_count": 125,
   "id": "8242c2f6-da02-41cd-b522-752ee8ea910e",
   "metadata": {
    "scrolled": true
   },
   "outputs": [
    {
     "data": {
      "text/html": [
       "<style>#sk-container-id-6 {color: black;}#sk-container-id-6 pre{padding: 0;}#sk-container-id-6 div.sk-toggleable {background-color: white;}#sk-container-id-6 label.sk-toggleable__label {cursor: pointer;display: block;width: 100%;margin-bottom: 0;padding: 0.3em;box-sizing: border-box;text-align: center;}#sk-container-id-6 label.sk-toggleable__label-arrow:before {content: \"▸\";float: left;margin-right: 0.25em;color: #696969;}#sk-container-id-6 label.sk-toggleable__label-arrow:hover:before {color: black;}#sk-container-id-6 div.sk-estimator:hover label.sk-toggleable__label-arrow:before {color: black;}#sk-container-id-6 div.sk-toggleable__content {max-height: 0;max-width: 0;overflow: hidden;text-align: left;background-color: #f0f8ff;}#sk-container-id-6 div.sk-toggleable__content pre {margin: 0.2em;color: black;border-radius: 0.25em;background-color: #f0f8ff;}#sk-container-id-6 input.sk-toggleable__control:checked~div.sk-toggleable__content {max-height: 200px;max-width: 100%;overflow: auto;}#sk-container-id-6 input.sk-toggleable__control:checked~label.sk-toggleable__label-arrow:before {content: \"▾\";}#sk-container-id-6 div.sk-estimator input.sk-toggleable__control:checked~label.sk-toggleable__label {background-color: #d4ebff;}#sk-container-id-6 div.sk-label input.sk-toggleable__control:checked~label.sk-toggleable__label {background-color: #d4ebff;}#sk-container-id-6 input.sk-hidden--visually {border: 0;clip: rect(1px 1px 1px 1px);clip: rect(1px, 1px, 1px, 1px);height: 1px;margin: -1px;overflow: hidden;padding: 0;position: absolute;width: 1px;}#sk-container-id-6 div.sk-estimator {font-family: monospace;background-color: #f0f8ff;border: 1px dotted black;border-radius: 0.25em;box-sizing: border-box;margin-bottom: 0.5em;}#sk-container-id-6 div.sk-estimator:hover {background-color: #d4ebff;}#sk-container-id-6 div.sk-parallel-item::after {content: \"\";width: 100%;border-bottom: 1px solid gray;flex-grow: 1;}#sk-container-id-6 div.sk-label:hover label.sk-toggleable__label {background-color: #d4ebff;}#sk-container-id-6 div.sk-serial::before {content: \"\";position: absolute;border-left: 1px solid gray;box-sizing: border-box;top: 0;bottom: 0;left: 50%;z-index: 0;}#sk-container-id-6 div.sk-serial {display: flex;flex-direction: column;align-items: center;background-color: white;padding-right: 0.2em;padding-left: 0.2em;position: relative;}#sk-container-id-6 div.sk-item {position: relative;z-index: 1;}#sk-container-id-6 div.sk-parallel {display: flex;align-items: stretch;justify-content: center;background-color: white;position: relative;}#sk-container-id-6 div.sk-item::before, #sk-container-id-6 div.sk-parallel-item::before {content: \"\";position: absolute;border-left: 1px solid gray;box-sizing: border-box;top: 0;bottom: 0;left: 50%;z-index: -1;}#sk-container-id-6 div.sk-parallel-item {display: flex;flex-direction: column;z-index: 1;position: relative;background-color: white;}#sk-container-id-6 div.sk-parallel-item:first-child::after {align-self: flex-end;width: 50%;}#sk-container-id-6 div.sk-parallel-item:last-child::after {align-self: flex-start;width: 50%;}#sk-container-id-6 div.sk-parallel-item:only-child::after {width: 0;}#sk-container-id-6 div.sk-dashed-wrapped {border: 1px dashed gray;margin: 0 0.4em 0.5em 0.4em;box-sizing: border-box;padding-bottom: 0.4em;background-color: white;}#sk-container-id-6 div.sk-label label {font-family: monospace;font-weight: bold;display: inline-block;line-height: 1.2em;}#sk-container-id-6 div.sk-label-container {text-align: center;}#sk-container-id-6 div.sk-container {/* jupyter's `normalize.less` sets `[hidden] { display: none; }` but bootstrap.min.css set `[hidden] { display: none !important; }` so we also need the `!important` here to be able to override the default hidden behavior on the sphinx rendered scikit-learn.org. See: https://github.com/scikit-learn/scikit-learn/issues/21755 */display: inline-block !important;position: relative;}#sk-container-id-6 div.sk-text-repr-fallback {display: none;}</style><div id=\"sk-container-id-6\" class=\"sk-top-container\"><div class=\"sk-text-repr-fallback\"><pre>GradientBoostingClassifier()</pre><b>In a Jupyter environment, please rerun this cell to show the HTML representation or trust the notebook. <br />On GitHub, the HTML representation is unable to render, please try loading this page with nbviewer.org.</b></div><div class=\"sk-container\" hidden><div class=\"sk-item\"><div class=\"sk-estimator sk-toggleable\"><input class=\"sk-toggleable__control sk-hidden--visually\" id=\"sk-estimator-id-6\" type=\"checkbox\" checked><label for=\"sk-estimator-id-6\" class=\"sk-toggleable__label sk-toggleable__label-arrow\">GradientBoostingClassifier</label><div class=\"sk-toggleable__content\"><pre>GradientBoostingClassifier()</pre></div></div></div></div></div>"
      ],
      "text/plain": [
       "GradientBoostingClassifier()"
      ]
     },
     "execution_count": 125,
     "metadata": {},
     "output_type": "execute_result"
    }
   ],
   "source": [
    "model = models[sorted_[0][0]]\n",
    "model"
   ]
  },
  {
   "cell_type": "code",
   "execution_count": 126,
   "id": "fc5fdd13-6dc0-4892-96ea-bbe921669c46",
   "metadata": {
    "scrolled": true
   },
   "outputs": [],
   "source": [
    "model = model.fit(X, y)"
   ]
  },
  {
   "cell_type": "code",
   "execution_count": 127,
   "id": "47afb37b-bab7-4a13-8ce0-58d0cef8f84f",
   "metadata": {},
   "outputs": [
    {
     "data": {
      "text/plain": [
       "1.0"
      ]
     },
     "execution_count": 127,
     "metadata": {},
     "output_type": "execute_result"
    }
   ],
   "source": [
    "model.score(X, y)"
   ]
  },
  {
   "cell_type": "code",
   "execution_count": 128,
   "id": "72c87213-b3e2-477a-b115-f7fcf1e749a1",
   "metadata": {},
   "outputs": [],
   "source": [
    "importances = model.feature_importances_.reshape(-1, 7)"
   ]
  },
  {
   "cell_type": "code",
   "execution_count": 129,
   "id": "9256ec9a-fa70-42cc-9645-d81b3ccbaf22",
   "metadata": {
    "scrolled": true
   },
   "outputs": [
    {
     "name": "stdout",
     "output_type": "stream",
     "text": [
      "**특성 중요도**\n",
      "목숨당 처치: 69.6%\n",
      "경감: 6.5%\n",
      "치유: 6.4%\n",
      "죽음: 6.4%\n",
      "피해: 6.2%\n",
      "처치: 4.0%\n",
      "도움: 0.8%\n"
     ]
    }
   ],
   "source": [
    "feature = '처치', '도움', '죽음', '피해', '치유', '경감', '목숨당 처치'\n",
    "print('**특성 중요도**')\n",
    "for s, f in sorted(zip(importances.sum(0), feature), reverse=True):\n",
    "    print(f'{f}: {s * 100:.1f}%')"
   ]
  },
  {
   "cell_type": "code",
   "execution_count": 130,
   "id": "1a7530a4-cbea-4064-b9a1-bd24088104b8",
   "metadata": {
    "scrolled": true
   },
   "outputs": [],
   "source": [
    "tank = importances[[0, 5]]\n",
    "damage = importances[[1, 2, 6, 7]]\n",
    "support = importances[[3, 4, 8, 9]]"
   ]
  },
  {
   "cell_type": "code",
   "execution_count": 131,
   "id": "5d204e55-011b-418d-81f1-57cfe922e8dc",
   "metadata": {
    "scrolled": true
   },
   "outputs": [
    {
     "name": "stdout",
     "output_type": "stream",
     "text": [
      "**역할 중요도**\n",
      "돌격: 61.9%\n",
      "공격: 22.9%\n",
      "지원: 15.2%\n"
     ]
    }
   ],
   "source": [
    "feature = '돌격', '공격', '지원'\n",
    "sum_ = tank.sum(), damage.sum(), support.sum()\n",
    "print('**역할 중요도**')\n",
    "for s, f in sorted(zip(sum_, feature), reverse=True):\n",
    "    print(f'{f}: {s * 100:.1f}%')"
   ]
  },
  {
   "cell_type": "code",
   "execution_count": 132,
   "id": "c4e3e136-fc01-4aa5-80ee-bcdef49f7afe",
   "metadata": {
    "scrolled": true
   },
   "outputs": [
    {
     "name": "stdout",
     "output_type": "stream",
     "text": [
      "**1인 역할 중요도**\n",
      "돌격: 62%\n",
      "공격: 11%\n",
      "지원: 8%\n"
     ]
    }
   ],
   "source": [
    "feature = '돌격', '공격', '지원'\n",
    "sum_ = tank.sum(), damage.sum() / 2, support.sum() / 2\n",
    "print('**1인 역할 중요도**')\n",
    "for s, f in sorted(zip(sum_, feature), reverse=True):\n",
    "    print(f'{f}: {s * 100:.0f}%')"
   ]
  },
  {
   "cell_type": "code",
   "execution_count": 133,
   "id": "ef81ead8-ca5b-43d5-9a57-632f0b5fcfd5",
   "metadata": {
    "scrolled": true
   },
   "outputs": [
    {
     "name": "stdout",
     "output_type": "stream",
     "text": [
      "**돌격 특성 중요도**\n",
      "목숨당 처치: 57.3%\n",
      "죽음: 2.2%\n",
      "경감: 0.7%\n",
      "처치: 0.6%\n",
      "치유: 0.6%\n",
      "피해: 0.5%\n",
      "도움: 0.0%\n",
      "\n",
      "**공격 특성 중요도**\n",
      "목숨당 처치: 9.0%\n",
      "치유: 4.1%\n",
      "피해: 3.4%\n",
      "처치: 3.1%\n",
      "죽음: 1.8%\n",
      "경감: 1.5%\n",
      "도움: 0.1%\n",
      "\n",
      "**지원 특성 중요도**\n",
      "경감: 4%\n",
      "목숨당 처치: 3%\n",
      "죽음: 2%\n",
      "피해: 2%\n",
      "치유: 2%\n",
      "도움: 1%\n",
      "처치: 0%\n"
     ]
    }
   ],
   "source": [
    "feature = '처치', '도움', '죽음', '피해', '치유', '경감', '목숨당 처치'\n",
    "\n",
    "print('**돌격 특성 중요도**')\n",
    "for s, f in sorted(zip(tank.sum(0), feature), reverse=True):\n",
    "    print(f'{f}: {s * 100:.1f}%')\n",
    "\n",
    "print()\n",
    "\n",
    "print('**공격 특성 중요도**')\n",
    "for s, f in sorted(zip(damage.sum(0), feature), reverse=True):\n",
    "    print(f'{f}: {s * 100:.1f}%')\n",
    "\n",
    "print()\n",
    "\n",
    "print('**지원 특성 중요도**')\n",
    "for s, f in sorted(zip(support.sum(0), feature), reverse=True):\n",
    "    print(f'{f}: {s * 100:.0f}%')"
   ]
  },
  {
   "cell_type": "code",
   "execution_count": 134,
   "id": "25d8da82-9482-4d88-80bb-24c2ca17e510",
   "metadata": {
    "scrolled": true
   },
   "outputs": [
    {
     "name": "stdout",
     "output_type": "stream",
     "text": [
      "**1인 돌격 특성 중요도**\n",
      "목숨당 처치: 57.3%\n",
      "죽음: 2.2%\n",
      "경감: 0.7%\n",
      "처치: 0.6%\n",
      "치유: 0.6%\n",
      "피해: 0.5%\n",
      "도움: 0.0%\n",
      "\n",
      "**1인 공격 특성 중요도**\n",
      "목숨당 처치: 4.5%\n",
      "치유: 2.0%\n",
      "피해: 1.7%\n",
      "처치: 1.6%\n",
      "죽음: 0.9%\n",
      "경감: 0.8%\n",
      "도움: 0.0%\n",
      "\n",
      "**1인 지원 특성 중요도**\n",
      "경감: 2.12%\n",
      "목숨당 처치: 1.67%\n",
      "죽음: 1.21%\n",
      "피해: 1.20%\n",
      "치유: 0.88%\n",
      "도움: 0.34%\n",
      "처치: 0.17%\n"
     ]
    }
   ],
   "source": [
    "print('**1인 돌격 특성 중요도**')\n",
    "for s, f in sorted(zip(tank.sum(0), feature), reverse=True):\n",
    "    print(f'{f}: {s * 100:.1f}%')\n",
    "\n",
    "print()\n",
    "\n",
    "print('**1인 공격 특성 중요도**')\n",
    "for s, f in sorted(zip(damage.sum(0) / 2, feature), reverse=True):\n",
    "    print(f'{f}: {s * 100:.1f}%')\n",
    "\n",
    "print()\n",
    "\n",
    "print('**1인 지원 특성 중요도**')\n",
    "for s, f in sorted(zip(support.sum(0) / 2, feature), reverse=True):\n",
    "    print(f'{f}: {s * 100:.2f}%')"
   ]
  },
  {
   "cell_type": "code",
   "execution_count": null,
   "id": "e63ff41a-92d8-44f6-a345-5ed17664e14f",
   "metadata": {
    "scrolled": true
   },
   "outputs": [],
   "source": []
  }
 ],
 "metadata": {
  "kernelspec": {
   "display_name": "Python 3 (ipykernel)",
   "language": "python",
   "name": "python3"
  },
  "language_info": {
   "codemirror_mode": {
    "name": "ipython",
    "version": 3
   },
   "file_extension": ".py",
   "mimetype": "text/x-python",
   "name": "python",
   "nbconvert_exporter": "python",
   "pygments_lexer": "ipython3",
   "version": "3.8.10"
  }
 },
 "nbformat": 4,
 "nbformat_minor": 5
}
