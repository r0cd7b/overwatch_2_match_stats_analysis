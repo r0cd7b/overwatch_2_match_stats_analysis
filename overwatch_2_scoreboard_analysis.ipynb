{
 "cells": [
  {
   "cell_type": "markdown",
   "id": "2fbe0807-a0e5-4d85-a722-405c4559730f",
   "metadata": {},
   "source": [
    "# 오버워치 2 점수판 분석 AI"
   ]
  },
  {
   "cell_type": "code",
   "execution_count": 1,
   "id": "00a436e0-b9e5-4965-8514-f05fed8ac0b4",
   "metadata": {
    "scrolled": true
   },
   "outputs": [],
   "source": [
    "import pandas as pd\n",
    "\n",
    "\n",
    "def prepare_scoreboard(defeat, draw, victory):\n",
    "    scoreboard = pd.concat([defeat, draw, victory])\n",
    "    scoreboard.set_index(pd.Index((i, j) for i in range(len(scoreboard) // 10) for j in range(10)), inplace=True)\n",
    "    return scoreboard"
   ]
  },
  {
   "cell_type": "code",
   "execution_count": 2,
   "id": "59f15676-d477-4113-9a6c-b491c943c223",
   "metadata": {
    "scrolled": true
   },
   "outputs": [],
   "source": [
    "import os\n",
    "\n",
    "datapath = os.path.join('datasets', '')"
   ]
  },
  {
   "cell_type": "code",
   "execution_count": 3,
   "id": "b6066a18-880e-43ff-ab33-7a637dacc80b",
   "metadata": {
    "scrolled": true
   },
   "outputs": [],
   "source": [
    "import matplotlib as mpl\n",
    "\n",
    "mpl.rc('axes', labelsize=14)\n",
    "mpl.rc('xtick', labelsize=12)\n",
    "mpl.rc('ytick', labelsize=12)"
   ]
  },
  {
   "cell_type": "code",
   "execution_count": 4,
   "id": "29daeaaa-1eb5-4d29-ac0d-09f07e129ef1",
   "metadata": {
    "scrolled": true
   },
   "outputs": [],
   "source": [
    "import numpy as np\n",
    "from sklearn.linear_model import SGDClassifier\n",
    "\n",
    "range_ = range(1, 10)\n",
    "defeat = pd.read_csv(datapath + 'defeat.csv', index_col=0, usecols=range_)\n",
    "draw = pd.read_csv(datapath + 'draw.csv', index_col=0, usecols=range_)\n",
    "victory = pd.read_csv(datapath + 'victory.csv', index_col=0, usecols=range_)\n",
    "scoreboard = prepare_scoreboard(defeat, draw, victory)"
   ]
  },
  {
   "cell_type": "code",
   "execution_count": 5,
   "id": "9a8bec95-d4bd-40da-966e-0eba26821eb3",
   "metadata": {
    "scrolled": true
   },
   "outputs": [
    {
     "data": {
      "text/html": [
       "<div>\n",
       "<style scoped>\n",
       "    .dataframe tbody tr th:only-of-type {\n",
       "        vertical-align: middle;\n",
       "    }\n",
       "\n",
       "    .dataframe tbody tr th {\n",
       "        vertical-align: top;\n",
       "    }\n",
       "\n",
       "    .dataframe thead th {\n",
       "        text-align: right;\n",
       "    }\n",
       "</style>\n",
       "<table border=\"1\" class=\"dataframe\">\n",
       "  <thead>\n",
       "    <tr style=\"text-align: right;\">\n",
       "      <th></th>\n",
       "      <th></th>\n",
       "      <th>ROLE</th>\n",
       "      <th>E</th>\n",
       "      <th>A</th>\n",
       "      <th>D</th>\n",
       "      <th>DMG</th>\n",
       "      <th>H</th>\n",
       "      <th>MIT</th>\n",
       "      <th>GAME</th>\n",
       "    </tr>\n",
       "  </thead>\n",
       "  <tbody>\n",
       "    <tr>\n",
       "      <th rowspan=\"10\" valign=\"top\">0</th>\n",
       "      <th>0</th>\n",
       "      <td>TANK</td>\n",
       "      <td>7</td>\n",
       "      <td>3</td>\n",
       "      <td>6</td>\n",
       "      <td>5933</td>\n",
       "      <td>1068</td>\n",
       "      <td>6199</td>\n",
       "      <td>DEFEAT</td>\n",
       "    </tr>\n",
       "    <tr>\n",
       "      <th>1</th>\n",
       "      <td>DAMAGE</td>\n",
       "      <td>7</td>\n",
       "      <td>0</td>\n",
       "      <td>10</td>\n",
       "      <td>3601</td>\n",
       "      <td>747</td>\n",
       "      <td>0</td>\n",
       "      <td>DEFEAT</td>\n",
       "    </tr>\n",
       "    <tr>\n",
       "      <th>2</th>\n",
       "      <td>DAMAGE</td>\n",
       "      <td>9</td>\n",
       "      <td>1</td>\n",
       "      <td>6</td>\n",
       "      <td>4352</td>\n",
       "      <td>0</td>\n",
       "      <td>0</td>\n",
       "      <td>DEFEAT</td>\n",
       "    </tr>\n",
       "    <tr>\n",
       "      <th>3</th>\n",
       "      <td>SUPPORT</td>\n",
       "      <td>7</td>\n",
       "      <td>7</td>\n",
       "      <td>2</td>\n",
       "      <td>2332</td>\n",
       "      <td>6325</td>\n",
       "      <td>0</td>\n",
       "      <td>DEFEAT</td>\n",
       "    </tr>\n",
       "    <tr>\n",
       "      <th>4</th>\n",
       "      <td>SUPPORT</td>\n",
       "      <td>6</td>\n",
       "      <td>4</td>\n",
       "      <td>2</td>\n",
       "      <td>3410</td>\n",
       "      <td>5979</td>\n",
       "      <td>606</td>\n",
       "      <td>DEFEAT</td>\n",
       "    </tr>\n",
       "    <tr>\n",
       "      <th>5</th>\n",
       "      <td>TANK</td>\n",
       "      <td>14</td>\n",
       "      <td>0</td>\n",
       "      <td>4</td>\n",
       "      <td>4553</td>\n",
       "      <td>0</td>\n",
       "      <td>7781</td>\n",
       "      <td>VICTORY</td>\n",
       "    </tr>\n",
       "    <tr>\n",
       "      <th>6</th>\n",
       "      <td>DAMAGE</td>\n",
       "      <td>16</td>\n",
       "      <td>0</td>\n",
       "      <td>3</td>\n",
       "      <td>6120</td>\n",
       "      <td>0</td>\n",
       "      <td>1271</td>\n",
       "      <td>VICTORY</td>\n",
       "    </tr>\n",
       "    <tr>\n",
       "      <th>7</th>\n",
       "      <td>DAMAGE</td>\n",
       "      <td>17</td>\n",
       "      <td>0</td>\n",
       "      <td>3</td>\n",
       "      <td>7512</td>\n",
       "      <td>1215</td>\n",
       "      <td>0</td>\n",
       "      <td>VICTORY</td>\n",
       "    </tr>\n",
       "    <tr>\n",
       "      <th>8</th>\n",
       "      <td>SUPPORT</td>\n",
       "      <td>15</td>\n",
       "      <td>16</td>\n",
       "      <td>2</td>\n",
       "      <td>4726</td>\n",
       "      <td>6868</td>\n",
       "      <td>0</td>\n",
       "      <td>VICTORY</td>\n",
       "    </tr>\n",
       "    <tr>\n",
       "      <th>9</th>\n",
       "      <td>SUPPORT</td>\n",
       "      <td>7</td>\n",
       "      <td>12</td>\n",
       "      <td>1</td>\n",
       "      <td>856</td>\n",
       "      <td>6071</td>\n",
       "      <td>173</td>\n",
       "      <td>VICTORY</td>\n",
       "    </tr>\n",
       "  </tbody>\n",
       "</table>\n",
       "</div>"
      ],
      "text/plain": [
       "        ROLE   E   A   D   DMG     H   MIT     GAME\n",
       "0 0     TANK   7   3   6  5933  1068  6199   DEFEAT\n",
       "  1   DAMAGE   7   0  10  3601   747     0   DEFEAT\n",
       "  2   DAMAGE   9   1   6  4352     0     0   DEFEAT\n",
       "  3  SUPPORT   7   7   2  2332  6325     0   DEFEAT\n",
       "  4  SUPPORT   6   4   2  3410  5979   606   DEFEAT\n",
       "  5     TANK  14   0   4  4553     0  7781  VICTORY\n",
       "  6   DAMAGE  16   0   3  6120     0  1271  VICTORY\n",
       "  7   DAMAGE  17   0   3  7512  1215     0  VICTORY\n",
       "  8  SUPPORT  15  16   2  4726  6868     0  VICTORY\n",
       "  9  SUPPORT   7  12   1   856  6071   173  VICTORY"
      ]
     },
     "execution_count": 5,
     "metadata": {},
     "output_type": "execute_result"
    }
   ],
   "source": [
    "scoreboard.head(10)"
   ]
  },
  {
   "cell_type": "code",
   "execution_count": 6,
   "id": "ec6ee498-7a16-4ffe-a66f-6f4c56254aa5",
   "metadata": {
    "scrolled": true
   },
   "outputs": [
    {
     "name": "stdout",
     "output_type": "stream",
     "text": [
      "<class 'pandas.core.frame.DataFrame'>\n",
      "MultiIndex: 1490 entries, (0, 0) to (148, 9)\n",
      "Data columns (total 8 columns):\n",
      " #   Column  Non-Null Count  Dtype \n",
      "---  ------  --------------  ----- \n",
      " 0   ROLE    1490 non-null   object\n",
      " 1   E       1490 non-null   int64 \n",
      " 2   A       1490 non-null   int64 \n",
      " 3   D       1490 non-null   int64 \n",
      " 4   DMG     1490 non-null   int64 \n",
      " 5   H       1490 non-null   int64 \n",
      " 6   MIT     1490 non-null   int64 \n",
      " 7   GAME    1490 non-null   object\n",
      "dtypes: int64(6), object(2)\n",
      "memory usage: 103.1+ KB\n"
     ]
    }
   ],
   "source": [
    "scoreboard.info()"
   ]
  },
  {
   "cell_type": "code",
   "execution_count": 7,
   "id": "085d4528-396f-430c-a4cd-94864201d877",
   "metadata": {
    "scrolled": true
   },
   "outputs": [
    {
     "data": {
      "text/plain": [
       "GAME\n",
       "DEFEAT     740\n",
       "VICTORY    740\n",
       "DRAW        10\n",
       "Name: count, dtype: int64"
      ]
     },
     "execution_count": 7,
     "metadata": {},
     "output_type": "execute_result"
    }
   ],
   "source": [
    "scoreboard['GAME'].value_counts()"
   ]
  },
  {
   "cell_type": "code",
   "execution_count": 8,
   "id": "0d417f53-4032-474c-8a17-7751f3bcfb72",
   "metadata": {
    "scrolled": true
   },
   "outputs": [
    {
     "data": {
      "text/html": [
       "<div>\n",
       "<style scoped>\n",
       "    .dataframe tbody tr th:only-of-type {\n",
       "        vertical-align: middle;\n",
       "    }\n",
       "\n",
       "    .dataframe tbody tr th {\n",
       "        vertical-align: top;\n",
       "    }\n",
       "\n",
       "    .dataframe thead th {\n",
       "        text-align: right;\n",
       "    }\n",
       "</style>\n",
       "<table border=\"1\" class=\"dataframe\">\n",
       "  <thead>\n",
       "    <tr style=\"text-align: right;\">\n",
       "      <th></th>\n",
       "      <th>E</th>\n",
       "      <th>A</th>\n",
       "      <th>D</th>\n",
       "      <th>DMG</th>\n",
       "      <th>H</th>\n",
       "      <th>MIT</th>\n",
       "    </tr>\n",
       "  </thead>\n",
       "  <tbody>\n",
       "    <tr>\n",
       "      <th>count</th>\n",
       "      <td>1490.000000</td>\n",
       "      <td>1490.000000</td>\n",
       "      <td>1490.000000</td>\n",
       "      <td>1490.000000</td>\n",
       "      <td>1490.000000</td>\n",
       "      <td>1490.000000</td>\n",
       "    </tr>\n",
       "    <tr>\n",
       "      <th>mean</th>\n",
       "      <td>13.657047</td>\n",
       "      <td>7.457047</td>\n",
       "      <td>6.269799</td>\n",
       "      <td>6231.367785</td>\n",
       "      <td>3875.580537</td>\n",
       "      <td>2284.940940</td>\n",
       "    </tr>\n",
       "    <tr>\n",
       "      <th>std</th>\n",
       "      <td>9.932335</td>\n",
       "      <td>8.497531</td>\n",
       "      <td>3.822940</td>\n",
       "      <td>4521.140520</td>\n",
       "      <td>5221.405209</td>\n",
       "      <td>4562.899254</td>\n",
       "    </tr>\n",
       "    <tr>\n",
       "      <th>min</th>\n",
       "      <td>0.000000</td>\n",
       "      <td>0.000000</td>\n",
       "      <td>0.000000</td>\n",
       "      <td>0.000000</td>\n",
       "      <td>0.000000</td>\n",
       "      <td>0.000000</td>\n",
       "    </tr>\n",
       "    <tr>\n",
       "      <th>25%</th>\n",
       "      <td>6.000000</td>\n",
       "      <td>1.000000</td>\n",
       "      <td>3.000000</td>\n",
       "      <td>2649.000000</td>\n",
       "      <td>0.000000</td>\n",
       "      <td>0.000000</td>\n",
       "    </tr>\n",
       "    <tr>\n",
       "      <th>50%</th>\n",
       "      <td>12.000000</td>\n",
       "      <td>4.000000</td>\n",
       "      <td>6.000000</td>\n",
       "      <td>5328.000000</td>\n",
       "      <td>759.500000</td>\n",
       "      <td>235.500000</td>\n",
       "    </tr>\n",
       "    <tr>\n",
       "      <th>75%</th>\n",
       "      <td>20.000000</td>\n",
       "      <td>12.000000</td>\n",
       "      <td>9.000000</td>\n",
       "      <td>9450.000000</td>\n",
       "      <td>7474.500000</td>\n",
       "      <td>1797.750000</td>\n",
       "    </tr>\n",
       "    <tr>\n",
       "      <th>max</th>\n",
       "      <td>56.000000</td>\n",
       "      <td>48.000000</td>\n",
       "      <td>21.000000</td>\n",
       "      <td>29354.000000</td>\n",
       "      <td>27756.000000</td>\n",
       "      <td>28366.000000</td>\n",
       "    </tr>\n",
       "  </tbody>\n",
       "</table>\n",
       "</div>"
      ],
      "text/plain": [
       "                 E            A            D           DMG             H  \\\n",
       "count  1490.000000  1490.000000  1490.000000   1490.000000   1490.000000   \n",
       "mean     13.657047     7.457047     6.269799   6231.367785   3875.580537   \n",
       "std       9.932335     8.497531     3.822940   4521.140520   5221.405209   \n",
       "min       0.000000     0.000000     0.000000      0.000000      0.000000   \n",
       "25%       6.000000     1.000000     3.000000   2649.000000      0.000000   \n",
       "50%      12.000000     4.000000     6.000000   5328.000000    759.500000   \n",
       "75%      20.000000    12.000000     9.000000   9450.000000   7474.500000   \n",
       "max      56.000000    48.000000    21.000000  29354.000000  27756.000000   \n",
       "\n",
       "                MIT  \n",
       "count   1490.000000  \n",
       "mean    2284.940940  \n",
       "std     4562.899254  \n",
       "min        0.000000  \n",
       "25%        0.000000  \n",
       "50%      235.500000  \n",
       "75%     1797.750000  \n",
       "max    28366.000000  "
      ]
     },
     "execution_count": 8,
     "metadata": {},
     "output_type": "execute_result"
    }
   ],
   "source": [
    "scoreboard.describe()"
   ]
  },
  {
   "cell_type": "code",
   "execution_count": 9,
   "id": "b2e1a544-0e3b-4be1-abf2-4c324887ce28",
   "metadata": {
    "scrolled": true
   },
   "outputs": [],
   "source": [
    "import matplotlib.pyplot as plt\n",
    "\n",
    "# 그림을 저장할 위치\n",
    "PROJECT_ROOT_DIR = '.'\n",
    "IMAGES_PATH = os.path.join(PROJECT_ROOT_DIR, 'images')\n",
    "os.makedirs(IMAGES_PATH, exist_ok=True)\n",
    "\n",
    "\n",
    "def save_fig(fig_id, tight_layout=True, fig_extension='png', resolution=300):\n",
    "    path = os.path.join(IMAGES_PATH, fig_id + '.' + fig_extension)\n",
    "    print('그림 저장:', fig_id)\n",
    "    if tight_layout:\n",
    "        plt.tight_layout()\n",
    "    plt.savefig(path, dpi=resolution, format=fig_extension)"
   ]
  },
  {
   "cell_type": "code",
   "execution_count": 10,
   "id": "c39fc852-b225-44ab-9a1f-2e61510864fe",
   "metadata": {
    "scrolled": true
   },
   "outputs": [
    {
     "name": "stdout",
     "output_type": "stream",
     "text": [
      "그림 저장: attribute_histogram_plots\n"
     ]
    },
    {
     "data": {
      "image/png": "[encoded data removed]",
      "text/plain": [
       "<Figure size 2000x1500 with 6 Axes>"
      ]
     },
     "metadata": {},
     "output_type": "display_data"
    }
   ],
   "source": [
    "scoreboard.hist(bins=50, figsize=(20, 15))\n",
    "save_fig('attribute_histogram_plots')\n",
    "plt.show()"
   ]
  },
  {
   "cell_type": "code",
   "execution_count": 11,
   "id": "17b90075-7c0a-45c0-a975-04d8f80a3c59",
   "metadata": {
    "scrolled": true
   },
   "outputs": [],
   "source": [
    "from sklearn.model_selection import StratifiedShuffleSplit\n",
    "\n",
    "split = StratifiedShuffleSplit(1)\n",
    "for train_index, test_index in split.split(scoreboard, scoreboard['GAME']):\n",
    "    strat_train_set = scoreboard.loc[train_index[train_index % 10 == 0] // 10]\n",
    "    strat_test_set = scoreboard.loc[test_index[test_index % 10 == 0] // 10]"
   ]
  },
  {
   "cell_type": "code",
   "execution_count": 12,
   "id": "6ef1fb83-9419-43d4-8627-eecf91f1acaa",
   "metadata": {
    "scrolled": true
   },
   "outputs": [
    {
     "data": {
      "text/plain": [
       "GAME\n",
       "DEFEAT     0.5\n",
       "VICTORY    0.5\n",
       "Name: count, dtype: float64"
      ]
     },
     "execution_count": 12,
     "metadata": {},
     "output_type": "execute_result"
    }
   ],
   "source": [
    "strat_test_set['GAME'].value_counts() / len(strat_test_set)"
   ]
  },
  {
   "cell_type": "code",
   "execution_count": 13,
   "id": "0c97e203-80bb-45da-9133-c861fac219c5",
   "metadata": {
    "scrolled": true
   },
   "outputs": [
    {
     "data": {
      "text/plain": [
       "GAME\n",
       "DEFEAT     0.496644\n",
       "VICTORY    0.496644\n",
       "DRAW       0.006711\n",
       "Name: count, dtype: float64"
      ]
     },
     "execution_count": 13,
     "metadata": {},
     "output_type": "execute_result"
    }
   ],
   "source": [
    "scoreboard['GAME'].value_counts() / len(scoreboard)"
   ]
  },
  {
   "cell_type": "code",
   "execution_count": 14,
   "id": "dfa33f97-509d-4414-a0e1-6e73e9375621",
   "metadata": {
    "scrolled": true
   },
   "outputs": [],
   "source": [
    "scoreboard = strat_train_set.copy()"
   ]
  },
  {
   "cell_type": "code",
   "execution_count": 15,
   "id": "715e46d4-47ff-44d6-bd9c-a831c613cbb9",
   "metadata": {
    "scrolled": true
   },
   "outputs": [],
   "source": [
    "scoreboard['E_per_D'] = scoreboard['E'] / scoreboard['D']"
   ]
  },
  {
   "cell_type": "code",
   "execution_count": 16,
   "id": "a3874553-95a2-4193-a1f7-ee764986e0f0",
   "metadata": {
    "scrolled": true
   },
   "outputs": [
    {
     "data": {
      "text/html": [
       "<div>\n",
       "<style scoped>\n",
       "    .dataframe tbody tr th:only-of-type {\n",
       "        vertical-align: middle;\n",
       "    }\n",
       "\n",
       "    .dataframe tbody tr th {\n",
       "        vertical-align: top;\n",
       "    }\n",
       "\n",
       "    .dataframe thead th {\n",
       "        text-align: right;\n",
       "    }\n",
       "</style>\n",
       "<table border=\"1\" class=\"dataframe\">\n",
       "  <thead>\n",
       "    <tr style=\"text-align: right;\">\n",
       "      <th></th>\n",
       "      <th>E</th>\n",
       "      <th>A</th>\n",
       "      <th>D</th>\n",
       "      <th>DMG</th>\n",
       "      <th>H</th>\n",
       "      <th>MIT</th>\n",
       "      <th>E_per_D</th>\n",
       "    </tr>\n",
       "  </thead>\n",
       "  <tbody>\n",
       "    <tr>\n",
       "      <th>count</th>\n",
       "      <td>1370.000000</td>\n",
       "      <td>1370.000000</td>\n",
       "      <td>1370.000000</td>\n",
       "      <td>1370.000000</td>\n",
       "      <td>1370.000000</td>\n",
       "      <td>1370.000000</td>\n",
       "      <td>1350.000000</td>\n",
       "    </tr>\n",
       "    <tr>\n",
       "      <th>mean</th>\n",
       "      <td>13.832847</td>\n",
       "      <td>7.560584</td>\n",
       "      <td>6.348905</td>\n",
       "      <td>6312.294891</td>\n",
       "      <td>3930.827737</td>\n",
       "      <td>2316.127007</td>\n",
       "      <td>inf</td>\n",
       "    </tr>\n",
       "    <tr>\n",
       "      <th>std</th>\n",
       "      <td>10.080636</td>\n",
       "      <td>8.598226</td>\n",
       "      <td>3.853529</td>\n",
       "      <td>4577.757194</td>\n",
       "      <td>5283.404393</td>\n",
       "      <td>4616.136958</td>\n",
       "      <td>NaN</td>\n",
       "    </tr>\n",
       "    <tr>\n",
       "      <th>min</th>\n",
       "      <td>0.000000</td>\n",
       "      <td>0.000000</td>\n",
       "      <td>0.000000</td>\n",
       "      <td>0.000000</td>\n",
       "      <td>0.000000</td>\n",
       "      <td>0.000000</td>\n",
       "      <td>0.000000</td>\n",
       "    </tr>\n",
       "    <tr>\n",
       "      <th>25%</th>\n",
       "      <td>6.000000</td>\n",
       "      <td>1.000000</td>\n",
       "      <td>3.000000</td>\n",
       "      <td>2691.750000</td>\n",
       "      <td>0.000000</td>\n",
       "      <td>0.000000</td>\n",
       "      <td>1.000000</td>\n",
       "    </tr>\n",
       "    <tr>\n",
       "      <th>50%</th>\n",
       "      <td>13.000000</td>\n",
       "      <td>4.000000</td>\n",
       "      <td>6.000000</td>\n",
       "      <td>5353.000000</td>\n",
       "      <td>807.000000</td>\n",
       "      <td>244.000000</td>\n",
       "      <td>2.000000</td>\n",
       "    </tr>\n",
       "    <tr>\n",
       "      <th>75%</th>\n",
       "      <td>20.000000</td>\n",
       "      <td>12.000000</td>\n",
       "      <td>9.000000</td>\n",
       "      <td>9577.250000</td>\n",
       "      <td>7568.500000</td>\n",
       "      <td>1886.250000</td>\n",
       "      <td>3.833333</td>\n",
       "    </tr>\n",
       "    <tr>\n",
       "      <th>max</th>\n",
       "      <td>56.000000</td>\n",
       "      <td>48.000000</td>\n",
       "      <td>21.000000</td>\n",
       "      <td>29354.000000</td>\n",
       "      <td>27756.000000</td>\n",
       "      <td>28366.000000</td>\n",
       "      <td>inf</td>\n",
       "    </tr>\n",
       "  </tbody>\n",
       "</table>\n",
       "</div>"
      ],
      "text/plain": [
       "                 E            A            D           DMG             H  \\\n",
       "count  1370.000000  1370.000000  1370.000000   1370.000000   1370.000000   \n",
       "mean     13.832847     7.560584     6.348905   6312.294891   3930.827737   \n",
       "std      10.080636     8.598226     3.853529   4577.757194   5283.404393   \n",
       "min       0.000000     0.000000     0.000000      0.000000      0.000000   \n",
       "25%       6.000000     1.000000     3.000000   2691.750000      0.000000   \n",
       "50%      13.000000     4.000000     6.000000   5353.000000    807.000000   \n",
       "75%      20.000000    12.000000     9.000000   9577.250000   7568.500000   \n",
       "max      56.000000    48.000000    21.000000  29354.000000  27756.000000   \n",
       "\n",
       "                MIT      E_per_D  \n",
       "count   1370.000000  1350.000000  \n",
       "mean    2316.127007          inf  \n",
       "std     4616.136958          NaN  \n",
       "min        0.000000     0.000000  \n",
       "25%        0.000000     1.000000  \n",
       "50%      244.000000     2.000000  \n",
       "75%     1886.250000     3.833333  \n",
       "max    28366.000000          inf  "
      ]
     },
     "execution_count": 16,
     "metadata": {},
     "output_type": "execute_result"
    }
   ],
   "source": [
    "scoreboard.describe()"
   ]
  },
  {
   "cell_type": "code",
   "execution_count": 17,
   "id": "4877a6ce-b24c-41cf-a5cc-0541369b3cc0",
   "metadata": {
    "scrolled": true
   },
   "outputs": [],
   "source": [
    "scoreboard = strat_train_set.drop(['GAME'], axis=1)\n",
    "scoreboard_labels = strat_train_set['GAME'].copy()[::10]"
   ]
  },
  {
   "cell_type": "code",
   "execution_count": 18,
   "id": "2901c035-f41e-4b87-a604-4e24bf26aa72",
   "metadata": {
    "scrolled": true
   },
   "outputs": [],
   "source": [
    "scoreboard_num = scoreboard.drop(['ROLE'], axis=1)"
   ]
  },
  {
   "cell_type": "code",
   "execution_count": 19,
   "id": "5a69fddc-0f1e-4d4a-998b-929da23172db",
   "metadata": {
    "scrolled": true
   },
   "outputs": [
    {
     "data": {
      "text/html": [
       "<div>\n",
       "<style scoped>\n",
       "    .dataframe tbody tr th:only-of-type {\n",
       "        vertical-align: middle;\n",
       "    }\n",
       "\n",
       "    .dataframe tbody tr th {\n",
       "        vertical-align: top;\n",
       "    }\n",
       "\n",
       "    .dataframe thead th {\n",
       "        text-align: right;\n",
       "    }\n",
       "</style>\n",
       "<table border=\"1\" class=\"dataframe\">\n",
       "  <thead>\n",
       "    <tr style=\"text-align: right;\">\n",
       "      <th></th>\n",
       "      <th></th>\n",
       "      <th>ROLE</th>\n",
       "    </tr>\n",
       "  </thead>\n",
       "  <tbody>\n",
       "    <tr>\n",
       "      <th rowspan=\"10\" valign=\"top\">18</th>\n",
       "      <th>0</th>\n",
       "      <td>TANK</td>\n",
       "    </tr>\n",
       "    <tr>\n",
       "      <th>1</th>\n",
       "      <td>DAMAGE</td>\n",
       "    </tr>\n",
       "    <tr>\n",
       "      <th>2</th>\n",
       "      <td>DAMAGE</td>\n",
       "    </tr>\n",
       "    <tr>\n",
       "      <th>3</th>\n",
       "      <td>SUPPORT</td>\n",
       "    </tr>\n",
       "    <tr>\n",
       "      <th>4</th>\n",
       "      <td>SUPPORT</td>\n",
       "    </tr>\n",
       "    <tr>\n",
       "      <th>5</th>\n",
       "      <td>TANK</td>\n",
       "    </tr>\n",
       "    <tr>\n",
       "      <th>6</th>\n",
       "      <td>DAMAGE</td>\n",
       "    </tr>\n",
       "    <tr>\n",
       "      <th>7</th>\n",
       "      <td>DAMAGE</td>\n",
       "    </tr>\n",
       "    <tr>\n",
       "      <th>8</th>\n",
       "      <td>SUPPORT</td>\n",
       "    </tr>\n",
       "    <tr>\n",
       "      <th>9</th>\n",
       "      <td>SUPPORT</td>\n",
       "    </tr>\n",
       "  </tbody>\n",
       "</table>\n",
       "</div>"
      ],
      "text/plain": [
       "         ROLE\n",
       "18 0     TANK\n",
       "   1   DAMAGE\n",
       "   2   DAMAGE\n",
       "   3  SUPPORT\n",
       "   4  SUPPORT\n",
       "   5     TANK\n",
       "   6   DAMAGE\n",
       "   7   DAMAGE\n",
       "   8  SUPPORT\n",
       "   9  SUPPORT"
      ]
     },
     "execution_count": 19,
     "metadata": {},
     "output_type": "execute_result"
    }
   ],
   "source": [
    "scoreboard_cat = scoreboard[['ROLE']]\n",
    "scoreboard_cat.head(10)"
   ]
  },
  {
   "cell_type": "code",
   "execution_count": 20,
   "id": "03a9f91c-22a5-4345-9667-17c7d2755f80",
   "metadata": {
    "scrolled": true
   },
   "outputs": [
    {
     "data": {
      "text/plain": [
       "<1370x3 sparse matrix of type '<class 'numpy.float64'>'\n",
       "\twith 1370 stored elements in Compressed Sparse Row format>"
      ]
     },
     "execution_count": 20,
     "metadata": {},
     "output_type": "execute_result"
    }
   ],
   "source": [
    "from sklearn.preprocessing import OneHotEncoder\n",
    "\n",
    "cat_encoder = OneHotEncoder()\n",
    "scoreboard_cat_1hot = cat_encoder.fit_transform(scoreboard_cat)\n",
    "scoreboard_cat_1hot"
   ]
  },
  {
   "cell_type": "code",
   "execution_count": 21,
   "id": "4efd1082-2061-4747-befe-eac6e846cb86",
   "metadata": {
    "scrolled": true
   },
   "outputs": [
    {
     "data": {
      "text/plain": [
       "array([[0., 0., 1.],\n",
       "       [1., 0., 0.],\n",
       "       [1., 0., 0.],\n",
       "       ...,\n",
       "       [1., 0., 0.],\n",
       "       [0., 1., 0.],\n",
       "       [0., 1., 0.]])"
      ]
     },
     "execution_count": 21,
     "metadata": {},
     "output_type": "execute_result"
    }
   ],
   "source": [
    "scoreboard_cat_1hot.toarray()"
   ]
  },
  {
   "cell_type": "code",
   "execution_count": 22,
   "id": "6dfc4c61-0118-4568-ab8f-0a37a2ecb93b",
   "metadata": {
    "scrolled": true
   },
   "outputs": [
    {
     "data": {
      "text/plain": [
       "[array(['DAMAGE', 'SUPPORT', 'TANK'], dtype=object)]"
      ]
     },
     "execution_count": 22,
     "metadata": {},
     "output_type": "execute_result"
    }
   ],
   "source": [
    "cat_encoder.categories_"
   ]
  },
  {
   "cell_type": "code",
   "execution_count": 23,
   "id": "e3dbedde-8774-4253-a16d-ef2b28c56c52",
   "metadata": {
    "scrolled": true
   },
   "outputs": [],
   "source": [
    "from sklearn.base import BaseEstimator, TransformerMixin\n",
    "\n",
    "col_names = 'E', 'D'\n",
    "e_ix, d_ix = [scoreboard_num.columns.get_loc(c) for c in col_names]\n",
    "\n",
    "\n",
    "class CombinedAttributesAdder(BaseEstimator, TransformerMixin):\n",
    "    def fit(self, X, y=None):\n",
    "        return self\n",
    "\n",
    "    def transform(self, X):\n",
    "        X = X.to_numpy(np.float64)\n",
    "        d = X[:, d_ix]\n",
    "        d[d == 0] = 0.5\n",
    "        e_per_d = X[:, e_ix] / d\n",
    "        return np.c_[X, e_per_d]\n",
    "\n",
    "\n",
    "attr_adder = CombinedAttributesAdder()\n",
    "scoreboard_extra_attribs = attr_adder.transform(scoreboard_num)"
   ]
  },
  {
   "cell_type": "code",
   "execution_count": 24,
   "id": "c78ac65f-2265-4b91-be43-c029ae1fd1f8",
   "metadata": {
    "scrolled": true
   },
   "outputs": [
    {
     "data": {
      "text/html": [
       "<div>\n",
       "<style scoped>\n",
       "    .dataframe tbody tr th:only-of-type {\n",
       "        vertical-align: middle;\n",
       "    }\n",
       "\n",
       "    .dataframe tbody tr th {\n",
       "        vertical-align: top;\n",
       "    }\n",
       "\n",
       "    .dataframe thead th {\n",
       "        text-align: right;\n",
       "    }\n",
       "</style>\n",
       "<table border=\"1\" class=\"dataframe\">\n",
       "  <thead>\n",
       "    <tr style=\"text-align: right;\">\n",
       "      <th></th>\n",
       "      <th></th>\n",
       "      <th>E</th>\n",
       "      <th>A</th>\n",
       "      <th>D</th>\n",
       "      <th>DMG</th>\n",
       "      <th>H</th>\n",
       "      <th>MIT</th>\n",
       "      <th>E_per_D</th>\n",
       "    </tr>\n",
       "  </thead>\n",
       "  <tbody>\n",
       "    <tr>\n",
       "      <th rowspan=\"10\" valign=\"top\">18</th>\n",
       "      <th>0</th>\n",
       "      <td>6.0</td>\n",
       "      <td>1.0</td>\n",
       "      <td>5.0</td>\n",
       "      <td>3686.0</td>\n",
       "      <td>0.0</td>\n",
       "      <td>4235.0</td>\n",
       "      <td>1.200000</td>\n",
       "    </tr>\n",
       "    <tr>\n",
       "      <th>1</th>\n",
       "      <td>2.0</td>\n",
       "      <td>0.0</td>\n",
       "      <td>4.0</td>\n",
       "      <td>4112.0</td>\n",
       "      <td>0.0</td>\n",
       "      <td>0.0</td>\n",
       "      <td>0.500000</td>\n",
       "    </tr>\n",
       "    <tr>\n",
       "      <th>2</th>\n",
       "      <td>4.0</td>\n",
       "      <td>1.0</td>\n",
       "      <td>3.0</td>\n",
       "      <td>2672.0</td>\n",
       "      <td>1114.0</td>\n",
       "      <td>0.0</td>\n",
       "      <td>1.333333</td>\n",
       "    </tr>\n",
       "    <tr>\n",
       "      <th>3</th>\n",
       "      <td>0.0</td>\n",
       "      <td>0.0</td>\n",
       "      <td>5.0</td>\n",
       "      <td>1160.0</td>\n",
       "      <td>2553.0</td>\n",
       "      <td>353.0</td>\n",
       "      <td>0.000000</td>\n",
       "    </tr>\n",
       "    <tr>\n",
       "      <th>4</th>\n",
       "      <td>1.0</td>\n",
       "      <td>1.0</td>\n",
       "      <td>4.0</td>\n",
       "      <td>996.0</td>\n",
       "      <td>3762.0</td>\n",
       "      <td>132.0</td>\n",
       "      <td>0.250000</td>\n",
       "    </tr>\n",
       "    <tr>\n",
       "      <th>5</th>\n",
       "      <td>11.0</td>\n",
       "      <td>1.0</td>\n",
       "      <td>1.0</td>\n",
       "      <td>3245.0</td>\n",
       "      <td>0.0</td>\n",
       "      <td>6411.0</td>\n",
       "      <td>11.000000</td>\n",
       "    </tr>\n",
       "    <tr>\n",
       "      <th>6</th>\n",
       "      <td>11.0</td>\n",
       "      <td>0.0</td>\n",
       "      <td>0.5</td>\n",
       "      <td>5210.0</td>\n",
       "      <td>0.0</td>\n",
       "      <td>0.0</td>\n",
       "      <td>22.000000</td>\n",
       "    </tr>\n",
       "    <tr>\n",
       "      <th>7</th>\n",
       "      <td>8.0</td>\n",
       "      <td>0.0</td>\n",
       "      <td>2.0</td>\n",
       "      <td>5020.0</td>\n",
       "      <td>0.0</td>\n",
       "      <td>99.0</td>\n",
       "      <td>4.000000</td>\n",
       "    </tr>\n",
       "    <tr>\n",
       "      <th>8</th>\n",
       "      <td>0.0</td>\n",
       "      <td>4.0</td>\n",
       "      <td>3.0</td>\n",
       "      <td>643.0</td>\n",
       "      <td>4182.0</td>\n",
       "      <td>18.0</td>\n",
       "      <td>0.000000</td>\n",
       "    </tr>\n",
       "    <tr>\n",
       "      <th>9</th>\n",
       "      <td>1.0</td>\n",
       "      <td>10.0</td>\n",
       "      <td>1.0</td>\n",
       "      <td>729.0</td>\n",
       "      <td>6626.0</td>\n",
       "      <td>0.0</td>\n",
       "      <td>1.000000</td>\n",
       "    </tr>\n",
       "  </tbody>\n",
       "</table>\n",
       "</div>"
      ],
      "text/plain": [
       "         E     A    D     DMG       H     MIT    E_per_D\n",
       "18 0   6.0   1.0  5.0  3686.0     0.0  4235.0   1.200000\n",
       "   1   2.0   0.0  4.0  4112.0     0.0     0.0   0.500000\n",
       "   2   4.0   1.0  3.0  2672.0  1114.0     0.0   1.333333\n",
       "   3   0.0   0.0  5.0  1160.0  2553.0   353.0   0.000000\n",
       "   4   1.0   1.0  4.0   996.0  3762.0   132.0   0.250000\n",
       "   5  11.0   1.0  1.0  3245.0     0.0  6411.0  11.000000\n",
       "   6  11.0   0.0  0.5  5210.0     0.0     0.0  22.000000\n",
       "   7   8.0   0.0  2.0  5020.0     0.0    99.0   4.000000\n",
       "   8   0.0   4.0  3.0   643.0  4182.0    18.0   0.000000\n",
       "   9   1.0  10.0  1.0   729.0  6626.0     0.0   1.000000"
      ]
     },
     "execution_count": 24,
     "metadata": {},
     "output_type": "execute_result"
    }
   ],
   "source": [
    "scoreboard_extra_attribs = pd.DataFrame(\n",
    "    scoreboard_extra_attribs, scoreboard_num.index, list(scoreboard_num.columns) + ['E_per_D']\n",
    ")\n",
    "scoreboard_extra_attribs.head(10)"
   ]
  },
  {
   "cell_type": "code",
   "execution_count": 25,
   "id": "5d365773-c34b-4720-b4c4-14a8a6fc9a9c",
   "metadata": {
    "scrolled": true
   },
   "outputs": [],
   "source": [
    "from sklearn.pipeline import Pipeline\n",
    "from sklearn.preprocessing import StandardScaler\n",
    "\n",
    "num_pipeline = Pipeline([('attribs_adder', CombinedAttributesAdder()), ('std_scaler', StandardScaler())])\n",
    "scoreboard_num_tr = num_pipeline.fit_transform(scoreboard_num)"
   ]
  },
  {
   "cell_type": "code",
   "execution_count": 26,
   "id": "105d7dcd-cd87-4b48-b325-a0199115e176",
   "metadata": {
    "scrolled": true
   },
   "outputs": [
    {
     "data": {
      "text/plain": [
       "array([[-0.77730282, -0.76329462, -0.36061863, ..., -0.74426692,\n",
       "         0.41583985, -0.44800446],\n",
       "       [-1.17424807, -0.87964015, -0.62299118, ..., -0.74426692,\n",
       "        -0.50192895, -0.5787627 ],\n",
       "       [-0.97577544, -0.76329462, -0.88536374, ..., -0.53334103,\n",
       "        -0.50192895, -0.42309813],\n",
       "       ...,\n",
       "       [-0.77730282, -0.64694909, -0.09824607, ..., -0.74426692,\n",
       "        -0.50192895, -0.48536396],\n",
       "       [-0.77730282,  0.05112409, -0.88536374, ..., -0.04824934,\n",
       "        -0.50192895, -0.29856648],\n",
       "       [-1.27348438, -0.53060356, -0.09824607, ...,  0.12386164,\n",
       "        -0.50192895, -0.64102852]])"
      ]
     },
     "execution_count": 26,
     "metadata": {},
     "output_type": "execute_result"
    }
   ],
   "source": [
    "scoreboard_num_tr"
   ]
  },
  {
   "cell_type": "code",
   "execution_count": 27,
   "id": "9d576805-aed0-400a-86bb-b72ecc78dea9",
   "metadata": {
    "scrolled": true
   },
   "outputs": [],
   "source": [
    "from sklearn.compose import ColumnTransformer\n",
    "\n",
    "num_attribs = list(scoreboard_num)\n",
    "cat_attribs = ['ROLE']\n",
    "full_pipeline = ColumnTransformer(\n",
    "    [('num', num_pipeline, num_attribs), ('cat', OneHotEncoder(), cat_attribs)], n_jobs=-1\n",
    ")\n",
    "scoreboard_prepared = full_pipeline.fit_transform(scoreboard).reshape(-1, 100)"
   ]
  },
  {
   "cell_type": "code",
   "execution_count": 28,
   "id": "b5dc6e89-8418-4e1a-8a13-13993afbb86e",
   "metadata": {
    "scrolled": true
   },
   "outputs": [
    {
     "data": {
      "text/plain": [
       "array([[-0.77730282, -0.76329462, -0.36061863, ...,  0.        ,\n",
       "         1.        ,  0.        ],\n",
       "       [ 0.41353292, -0.41425803, -0.88536374, ...,  0.        ,\n",
       "         1.        ,  0.        ],\n",
       "       [ 0.90971448,  0.51650622, -1.54129513, ...,  0.        ,\n",
       "         1.        ,  0.        ],\n",
       "       ...,\n",
       "       [-0.47959388, -0.41425803,  0.16412648, ...,  0.        ,\n",
       "         1.        ,  0.        ],\n",
       "       [-1.07501176, -0.87964015, -1.1477363 , ...,  0.        ,\n",
       "         1.        ,  0.        ],\n",
       "       [ 0.11582399, -0.76329462, -0.88536374, ...,  0.        ,\n",
       "         1.        ,  0.        ]])"
      ]
     },
     "execution_count": 28,
     "metadata": {},
     "output_type": "execute_result"
    }
   ],
   "source": [
    "scoreboard_prepared"
   ]
  },
  {
   "cell_type": "code",
   "execution_count": 29,
   "id": "69aaa066-91a4-41ac-98ec-7c60fed8ec36",
   "metadata": {
    "scrolled": true
   },
   "outputs": [
    {
     "data": {
      "text/plain": [
       "(137, 100)"
      ]
     },
     "execution_count": 29,
     "metadata": {},
     "output_type": "execute_result"
    }
   ],
   "source": [
    "scoreboard_prepared.shape"
   ]
  },
  {
   "cell_type": "code",
   "execution_count": 30,
   "id": "14016f78-2288-4177-bec8-76e8d27274f9",
   "metadata": {
    "scrolled": true
   },
   "outputs": [],
   "source": [
    "test_prepared = full_pipeline.transform(strat_test_set.drop(['GAME'], axis=1)).reshape(-1, 100)\n",
    "test_labels = strat_test_set['GAME'].copy()[::10]"
   ]
  },
  {
   "cell_type": "code",
   "execution_count": 31,
   "id": "cd01570c-eaf2-4be4-8a6a-12bb7bcf8075",
   "metadata": {
    "scrolled": true
   },
   "outputs": [
    {
     "data": {
      "text/html": [
       "<style>#sk-container-id-1 {color: black;}#sk-container-id-1 pre{padding: 0;}#sk-container-id-1 div.sk-toggleable {background-color: white;}#sk-container-id-1 label.sk-toggleable__label {cursor: pointer;display: block;width: 100%;margin-bottom: 0;padding: 0.3em;box-sizing: border-box;text-align: center;}#sk-container-id-1 label.sk-toggleable__label-arrow:before {content: \"▸\";float: left;margin-right: 0.25em;color: #696969;}#sk-container-id-1 label.sk-toggleable__label-arrow:hover:before {color: black;}#sk-container-id-1 div.sk-estimator:hover label.sk-toggleable__label-arrow:before {color: black;}#sk-container-id-1 div.sk-toggleable__content {max-height: 0;max-width: 0;overflow: hidden;text-align: left;background-color: #f0f8ff;}#sk-container-id-1 div.sk-toggleable__content pre {margin: 0.2em;color: black;border-radius: 0.25em;background-color: #f0f8ff;}#sk-container-id-1 input.sk-toggleable__control:checked~div.sk-toggleable__content {max-height: 200px;max-width: 100%;overflow: auto;}#sk-container-id-1 input.sk-toggleable__control:checked~label.sk-toggleable__label-arrow:before {content: \"▾\";}#sk-container-id-1 div.sk-estimator input.sk-toggleable__control:checked~label.sk-toggleable__label {background-color: #d4ebff;}#sk-container-id-1 div.sk-label input.sk-toggleable__control:checked~label.sk-toggleable__label {background-color: #d4ebff;}#sk-container-id-1 input.sk-hidden--visually {border: 0;clip: rect(1px 1px 1px 1px);clip: rect(1px, 1px, 1px, 1px);height: 1px;margin: -1px;overflow: hidden;padding: 0;position: absolute;width: 1px;}#sk-container-id-1 div.sk-estimator {font-family: monospace;background-color: #f0f8ff;border: 1px dotted black;border-radius: 0.25em;box-sizing: border-box;margin-bottom: 0.5em;}#sk-container-id-1 div.sk-estimator:hover {background-color: #d4ebff;}#sk-container-id-1 div.sk-parallel-item::after {content: \"\";width: 100%;border-bottom: 1px solid gray;flex-grow: 1;}#sk-container-id-1 div.sk-label:hover label.sk-toggleable__label {background-color: #d4ebff;}#sk-container-id-1 div.sk-serial::before {content: \"\";position: absolute;border-left: 1px solid gray;box-sizing: border-box;top: 0;bottom: 0;left: 50%;z-index: 0;}#sk-container-id-1 div.sk-serial {display: flex;flex-direction: column;align-items: center;background-color: white;padding-right: 0.2em;padding-left: 0.2em;position: relative;}#sk-container-id-1 div.sk-item {position: relative;z-index: 1;}#sk-container-id-1 div.sk-parallel {display: flex;align-items: stretch;justify-content: center;background-color: white;position: relative;}#sk-container-id-1 div.sk-item::before, #sk-container-id-1 div.sk-parallel-item::before {content: \"\";position: absolute;border-left: 1px solid gray;box-sizing: border-box;top: 0;bottom: 0;left: 50%;z-index: -1;}#sk-container-id-1 div.sk-parallel-item {display: flex;flex-direction: column;z-index: 1;position: relative;background-color: white;}#sk-container-id-1 div.sk-parallel-item:first-child::after {align-self: flex-end;width: 50%;}#sk-container-id-1 div.sk-parallel-item:last-child::after {align-self: flex-start;width: 50%;}#sk-container-id-1 div.sk-parallel-item:only-child::after {width: 0;}#sk-container-id-1 div.sk-dashed-wrapped {border: 1px dashed gray;margin: 0 0.4em 0.5em 0.4em;box-sizing: border-box;padding-bottom: 0.4em;background-color: white;}#sk-container-id-1 div.sk-label label {font-family: monospace;font-weight: bold;display: inline-block;line-height: 1.2em;}#sk-container-id-1 div.sk-label-container {text-align: center;}#sk-container-id-1 div.sk-container {/* jupyter's `normalize.less` sets `[hidden] { display: none; }` but bootstrap.min.css set `[hidden] { display: none !important; }` so we also need the `!important` here to be able to override the default hidden behavior on the sphinx rendered scikit-learn.org. See: https://github.com/scikit-learn/scikit-learn/issues/21755 */display: inline-block !important;position: relative;}#sk-container-id-1 div.sk-text-repr-fallback {display: none;}</style><div id=\"sk-container-id-1\" class=\"sk-top-container\"><div class=\"sk-text-repr-fallback\"><pre>SGDClassifier(n_jobs=-1)</pre><b>In a Jupyter environment, please rerun this cell to show the HTML representation or trust the notebook. <br />On GitHub, the HTML representation is unable to render, please try loading this page with nbviewer.org.</b></div><div class=\"sk-container\" hidden><div class=\"sk-item\"><div class=\"sk-estimator sk-toggleable\"><input class=\"sk-toggleable__control sk-hidden--visually\" id=\"sk-estimator-id-1\" type=\"checkbox\" checked><label for=\"sk-estimator-id-1\" class=\"sk-toggleable__label sk-toggleable__label-arrow\">SGDClassifier</label><div class=\"sk-toggleable__content\"><pre>SGDClassifier(n_jobs=-1)</pre></div></div></div></div></div>"
      ],
      "text/plain": [
       "SGDClassifier(n_jobs=-1)"
      ]
     },
     "execution_count": 31,
     "metadata": {},
     "output_type": "execute_result"
    }
   ],
   "source": [
    "from sklearn.linear_model import SGDClassifier\n",
    "\n",
    "sgd_clf = SGDClassifier(n_jobs=-1)\n",
    "sgd_clf.fit(scoreboard_prepared, scoreboard_labels)"
   ]
  },
  {
   "cell_type": "code",
   "execution_count": 32,
   "id": "2f50bc91-36d8-467e-b5fb-53b83310c5cf",
   "metadata": {
    "scrolled": true
   },
   "outputs": [
    {
     "name": "stdout",
     "output_type": "stream",
     "text": [
      "['DEFEAT' 'VICTORY' 'DEFEAT' 'VICTORY' 'DEFEAT' 'DEFEAT' 'VICTORY'\n",
      " 'DEFEAT' 'DEFEAT' 'DEFEAT' 'DEFEAT' 'VICTORY']\n",
      "['DEFEAT' 'VICTORY' 'DEFEAT' 'VICTORY' 'DEFEAT' 'DEFEAT' 'VICTORY'\n",
      " 'DEFEAT' 'DEFEAT' 'DEFEAT' 'DEFEAT' 'VICTORY']\n"
     ]
    }
   ],
   "source": [
    "print(test_labels.values)\n",
    "print(sgd_clf.predict(test_prepared))"
   ]
  },
  {
   "cell_type": "code",
   "execution_count": 33,
   "id": "6e4066bb-e79a-4775-97b2-7df4baab35fb",
   "metadata": {
    "scrolled": true
   },
   "outputs": [
    {
     "data": {
      "text/plain": [
       "1.0"
      ]
     },
     "execution_count": 33,
     "metadata": {},
     "output_type": "execute_result"
    }
   ],
   "source": [
    "sgd_clf.score(test_prepared, test_labels)"
   ]
  },
  {
   "cell_type": "code",
   "execution_count": null,
   "id": "f4e6e3e8-2ba5-4bfa-b98f-38665bd6f7b5",
   "metadata": {
    "scrolled": true
   },
   "outputs": [],
   "source": []
  }
 ],
 "metadata": {
  "kernelspec": {
   "display_name": "Python 3 (ipykernel)",
   "language": "python",
   "name": "python3"
  },
  "language_info": {
   "codemirror_mode": {
    "name": "ipython",
    "version": 3
   },
   "file_extension": ".py",
   "mimetype": "text/x-python",
   "name": "python",
   "nbconvert_exporter": "python",
   "pygments_lexer": "ipython3",
   "version": "3.8.10"
  }
 },
 "nbformat": 4,
 "nbformat_minor": 5
}
