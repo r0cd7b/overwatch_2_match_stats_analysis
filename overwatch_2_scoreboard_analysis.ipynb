{
 "cells": [
  {
   "cell_type": "markdown",
   "id": "2fbe0807-a0e5-4d85-a722-405c4559730f",
   "metadata": {},
   "source": [
    "# 오버워치 2 점수판 분석 AI"
   ]
  },
  {
   "cell_type": "code",
   "execution_count": 1,
   "id": "00a436e0-b9e5-4965-8514-f05fed8ac0b4",
   "metadata": {
    "scrolled": true
   },
   "outputs": [],
   "source": [
    "import pandas as pd\n",
    "\n",
    "\n",
    "def prepare_scoreboard(defeat, draw, victory):\n",
    "    scoreboard = pd.concat([defeat, draw, victory])\n",
    "    scoreboard.set_index(pd.Index((i, j) for i in range(len(scoreboard) // 10) for j in range(10)), inplace=True)\n",
    "    return scoreboard"
   ]
  },
  {
   "cell_type": "code",
   "execution_count": 2,
   "id": "59f15676-d477-4113-9a6c-b491c943c223",
   "metadata": {
    "scrolled": true
   },
   "outputs": [],
   "source": [
    "import os\n",
    "\n",
    "datapath = os.path.join('datasets', '')"
   ]
  },
  {
   "cell_type": "code",
   "execution_count": 3,
   "id": "b6066a18-880e-43ff-ab33-7a637dacc80b",
   "metadata": {
    "scrolled": true
   },
   "outputs": [],
   "source": [
    "import matplotlib as mpl\n",
    "\n",
    "mpl.rc('axes', labelsize=14)\n",
    "mpl.rc('xtick', labelsize=12)\n",
    "mpl.rc('ytick', labelsize=12)"
   ]
  },
  {
   "cell_type": "code",
   "execution_count": 4,
   "id": "29daeaaa-1eb5-4d29-ac0d-09f07e129ef1",
   "metadata": {
    "scrolled": true
   },
   "outputs": [],
   "source": [
    "import numpy as np\n",
    "from sklearn.linear_model import SGDClassifier\n",
    "\n",
    "range_ = range(3, 10)\n",
    "defeat = pd.read_csv(datapath + 'defeat.csv',  usecols=range_)\n",
    "draw = pd.read_csv(datapath + 'draw.csv', usecols=range_)\n",
    "victory = pd.read_csv(datapath + 'victory.csv', usecols=range_)\n",
    "scoreboard = prepare_scoreboard(defeat, draw, victory)"
   ]
  },
  {
   "cell_type": "code",
   "execution_count": 5,
   "id": "9a8bec95-d4bd-40da-966e-0eba26821eb3",
   "metadata": {
    "scrolled": true
   },
   "outputs": [
    {
     "data": {
      "text/html": [
       "<div>\n",
       "<style scoped>\n",
       "    .dataframe tbody tr th:only-of-type {\n",
       "        vertical-align: middle;\n",
       "    }\n",
       "\n",
       "    .dataframe tbody tr th {\n",
       "        vertical-align: top;\n",
       "    }\n",
       "\n",
       "    .dataframe thead th {\n",
       "        text-align: right;\n",
       "    }\n",
       "</style>\n",
       "<table border=\"1\" class=\"dataframe\">\n",
       "  <thead>\n",
       "    <tr style=\"text-align: right;\">\n",
       "      <th></th>\n",
       "      <th></th>\n",
       "      <th>E</th>\n",
       "      <th>A</th>\n",
       "      <th>D</th>\n",
       "      <th>DMG</th>\n",
       "      <th>H</th>\n",
       "      <th>MIT</th>\n",
       "      <th>GAME</th>\n",
       "    </tr>\n",
       "  </thead>\n",
       "  <tbody>\n",
       "    <tr>\n",
       "      <th rowspan=\"10\" valign=\"top\">0</th>\n",
       "      <th>0</th>\n",
       "      <td>7</td>\n",
       "      <td>3</td>\n",
       "      <td>6</td>\n",
       "      <td>5933</td>\n",
       "      <td>1068</td>\n",
       "      <td>6199</td>\n",
       "      <td>DEFEAT</td>\n",
       "    </tr>\n",
       "    <tr>\n",
       "      <th>1</th>\n",
       "      <td>7</td>\n",
       "      <td>0</td>\n",
       "      <td>10</td>\n",
       "      <td>3601</td>\n",
       "      <td>747</td>\n",
       "      <td>0</td>\n",
       "      <td>DEFEAT</td>\n",
       "    </tr>\n",
       "    <tr>\n",
       "      <th>2</th>\n",
       "      <td>9</td>\n",
       "      <td>1</td>\n",
       "      <td>6</td>\n",
       "      <td>4352</td>\n",
       "      <td>0</td>\n",
       "      <td>0</td>\n",
       "      <td>DEFEAT</td>\n",
       "    </tr>\n",
       "    <tr>\n",
       "      <th>3</th>\n",
       "      <td>7</td>\n",
       "      <td>7</td>\n",
       "      <td>2</td>\n",
       "      <td>2332</td>\n",
       "      <td>6325</td>\n",
       "      <td>0</td>\n",
       "      <td>DEFEAT</td>\n",
       "    </tr>\n",
       "    <tr>\n",
       "      <th>4</th>\n",
       "      <td>6</td>\n",
       "      <td>4</td>\n",
       "      <td>2</td>\n",
       "      <td>3410</td>\n",
       "      <td>5979</td>\n",
       "      <td>606</td>\n",
       "      <td>DEFEAT</td>\n",
       "    </tr>\n",
       "    <tr>\n",
       "      <th>5</th>\n",
       "      <td>14</td>\n",
       "      <td>0</td>\n",
       "      <td>4</td>\n",
       "      <td>4553</td>\n",
       "      <td>0</td>\n",
       "      <td>7781</td>\n",
       "      <td>VICTORY</td>\n",
       "    </tr>\n",
       "    <tr>\n",
       "      <th>6</th>\n",
       "      <td>16</td>\n",
       "      <td>0</td>\n",
       "      <td>3</td>\n",
       "      <td>6120</td>\n",
       "      <td>0</td>\n",
       "      <td>1271</td>\n",
       "      <td>VICTORY</td>\n",
       "    </tr>\n",
       "    <tr>\n",
       "      <th>7</th>\n",
       "      <td>17</td>\n",
       "      <td>0</td>\n",
       "      <td>3</td>\n",
       "      <td>7512</td>\n",
       "      <td>1215</td>\n",
       "      <td>0</td>\n",
       "      <td>VICTORY</td>\n",
       "    </tr>\n",
       "    <tr>\n",
       "      <th>8</th>\n",
       "      <td>15</td>\n",
       "      <td>16</td>\n",
       "      <td>2</td>\n",
       "      <td>4726</td>\n",
       "      <td>6868</td>\n",
       "      <td>0</td>\n",
       "      <td>VICTORY</td>\n",
       "    </tr>\n",
       "    <tr>\n",
       "      <th>9</th>\n",
       "      <td>7</td>\n",
       "      <td>12</td>\n",
       "      <td>1</td>\n",
       "      <td>856</td>\n",
       "      <td>6071</td>\n",
       "      <td>173</td>\n",
       "      <td>VICTORY</td>\n",
       "    </tr>\n",
       "  </tbody>\n",
       "</table>\n",
       "</div>"
      ],
      "text/plain": [
       "      E   A   D   DMG     H   MIT     GAME\n",
       "0 0   7   3   6  5933  1068  6199   DEFEAT\n",
       "  1   7   0  10  3601   747     0   DEFEAT\n",
       "  2   9   1   6  4352     0     0   DEFEAT\n",
       "  3   7   7   2  2332  6325     0   DEFEAT\n",
       "  4   6   4   2  3410  5979   606   DEFEAT\n",
       "  5  14   0   4  4553     0  7781  VICTORY\n",
       "  6  16   0   3  6120     0  1271  VICTORY\n",
       "  7  17   0   3  7512  1215     0  VICTORY\n",
       "  8  15  16   2  4726  6868     0  VICTORY\n",
       "  9   7  12   1   856  6071   173  VICTORY"
      ]
     },
     "execution_count": 5,
     "metadata": {},
     "output_type": "execute_result"
    }
   ],
   "source": [
    "scoreboard.head(10)"
   ]
  },
  {
   "cell_type": "code",
   "execution_count": 6,
   "id": "ec6ee498-7a16-4ffe-a66f-6f4c56254aa5",
   "metadata": {
    "scrolled": true
   },
   "outputs": [
    {
     "name": "stdout",
     "output_type": "stream",
     "text": [
      "<class 'pandas.core.frame.DataFrame'>\n",
      "MultiIndex: 1540 entries, (0, 0) to (153, 9)\n",
      "Data columns (total 7 columns):\n",
      " #   Column  Non-Null Count  Dtype \n",
      "---  ------  --------------  ----- \n",
      " 0   E       1540 non-null   int64 \n",
      " 1   A       1540 non-null   int64 \n",
      " 2   D       1540 non-null   int64 \n",
      " 3   DMG     1540 non-null   int64 \n",
      " 4   H       1540 non-null   int64 \n",
      " 5   MIT     1540 non-null   int64 \n",
      " 6   GAME    1540 non-null   object\n",
      "dtypes: int64(6), object(1)\n",
      "memory usage: 94.4+ KB\n"
     ]
    }
   ],
   "source": [
    "scoreboard.info()"
   ]
  },
  {
   "cell_type": "code",
   "execution_count": 7,
   "id": "085d4528-396f-430c-a4cd-94864201d877",
   "metadata": {
    "scrolled": true
   },
   "outputs": [
    {
     "data": {
      "text/plain": [
       "GAME\n",
       "DEFEAT     765\n",
       "VICTORY    765\n",
       "DRAW        10\n",
       "Name: count, dtype: int64"
      ]
     },
     "execution_count": 7,
     "metadata": {},
     "output_type": "execute_result"
    }
   ],
   "source": [
    "scoreboard['GAME'].value_counts()"
   ]
  },
  {
   "cell_type": "code",
   "execution_count": 8,
   "id": "0d417f53-4032-474c-8a17-7751f3bcfb72",
   "metadata": {
    "scrolled": true
   },
   "outputs": [
    {
     "data": {
      "text/html": [
       "<div>\n",
       "<style scoped>\n",
       "    .dataframe tbody tr th:only-of-type {\n",
       "        vertical-align: middle;\n",
       "    }\n",
       "\n",
       "    .dataframe tbody tr th {\n",
       "        vertical-align: top;\n",
       "    }\n",
       "\n",
       "    .dataframe thead th {\n",
       "        text-align: right;\n",
       "    }\n",
       "</style>\n",
       "<table border=\"1\" class=\"dataframe\">\n",
       "  <thead>\n",
       "    <tr style=\"text-align: right;\">\n",
       "      <th></th>\n",
       "      <th>E</th>\n",
       "      <th>A</th>\n",
       "      <th>D</th>\n",
       "      <th>DMG</th>\n",
       "      <th>H</th>\n",
       "      <th>MIT</th>\n",
       "    </tr>\n",
       "  </thead>\n",
       "  <tbody>\n",
       "    <tr>\n",
       "      <th>count</th>\n",
       "      <td>1540.000000</td>\n",
       "      <td>1540.000000</td>\n",
       "      <td>1540.000000</td>\n",
       "      <td>1540.000000</td>\n",
       "      <td>1540.000000</td>\n",
       "      <td>1540.000000</td>\n",
       "    </tr>\n",
       "    <tr>\n",
       "      <th>mean</th>\n",
       "      <td>13.725325</td>\n",
       "      <td>7.490260</td>\n",
       "      <td>6.296753</td>\n",
       "      <td>6246.162338</td>\n",
       "      <td>3887.338961</td>\n",
       "      <td>2306.469481</td>\n",
       "    </tr>\n",
       "    <tr>\n",
       "      <th>std</th>\n",
       "      <td>9.916704</td>\n",
       "      <td>8.540195</td>\n",
       "      <td>3.797624</td>\n",
       "      <td>4507.895332</td>\n",
       "      <td>5215.489748</td>\n",
       "      <td>4590.090517</td>\n",
       "    </tr>\n",
       "    <tr>\n",
       "      <th>min</th>\n",
       "      <td>0.000000</td>\n",
       "      <td>0.000000</td>\n",
       "      <td>0.000000</td>\n",
       "      <td>0.000000</td>\n",
       "      <td>0.000000</td>\n",
       "      <td>0.000000</td>\n",
       "    </tr>\n",
       "    <tr>\n",
       "      <th>25%</th>\n",
       "      <td>6.000000</td>\n",
       "      <td>1.000000</td>\n",
       "      <td>3.000000</td>\n",
       "      <td>2683.250000</td>\n",
       "      <td>0.000000</td>\n",
       "      <td>0.000000</td>\n",
       "    </tr>\n",
       "    <tr>\n",
       "      <th>50%</th>\n",
       "      <td>12.000000</td>\n",
       "      <td>4.000000</td>\n",
       "      <td>6.000000</td>\n",
       "      <td>5360.000000</td>\n",
       "      <td>759.500000</td>\n",
       "      <td>239.500000</td>\n",
       "    </tr>\n",
       "    <tr>\n",
       "      <th>75%</th>\n",
       "      <td>20.000000</td>\n",
       "      <td>12.000000</td>\n",
       "      <td>9.000000</td>\n",
       "      <td>9450.000000</td>\n",
       "      <td>7558.250000</td>\n",
       "      <td>1801.250000</td>\n",
       "    </tr>\n",
       "    <tr>\n",
       "      <th>max</th>\n",
       "      <td>56.000000</td>\n",
       "      <td>48.000000</td>\n",
       "      <td>21.000000</td>\n",
       "      <td>29354.000000</td>\n",
       "      <td>27756.000000</td>\n",
       "      <td>28366.000000</td>\n",
       "    </tr>\n",
       "  </tbody>\n",
       "</table>\n",
       "</div>"
      ],
      "text/plain": [
       "                 E            A            D           DMG             H  \\\n",
       "count  1540.000000  1540.000000  1540.000000   1540.000000   1540.000000   \n",
       "mean     13.725325     7.490260     6.296753   6246.162338   3887.338961   \n",
       "std       9.916704     8.540195     3.797624   4507.895332   5215.489748   \n",
       "min       0.000000     0.000000     0.000000      0.000000      0.000000   \n",
       "25%       6.000000     1.000000     3.000000   2683.250000      0.000000   \n",
       "50%      12.000000     4.000000     6.000000   5360.000000    759.500000   \n",
       "75%      20.000000    12.000000     9.000000   9450.000000   7558.250000   \n",
       "max      56.000000    48.000000    21.000000  29354.000000  27756.000000   \n",
       "\n",
       "                MIT  \n",
       "count   1540.000000  \n",
       "mean    2306.469481  \n",
       "std     4590.090517  \n",
       "min        0.000000  \n",
       "25%        0.000000  \n",
       "50%      239.500000  \n",
       "75%     1801.250000  \n",
       "max    28366.000000  "
      ]
     },
     "execution_count": 8,
     "metadata": {},
     "output_type": "execute_result"
    }
   ],
   "source": [
    "scoreboard.describe()"
   ]
  },
  {
   "cell_type": "code",
   "execution_count": 9,
   "id": "b2e1a544-0e3b-4be1-abf2-4c324887ce28",
   "metadata": {
    "scrolled": true
   },
   "outputs": [],
   "source": [
    "import matplotlib.pyplot as plt\n",
    "\n",
    "# 그림을 저장할 위치\n",
    "PROJECT_ROOT_DIR = '.'\n",
    "IMAGES_PATH = os.path.join(PROJECT_ROOT_DIR, 'images')\n",
    "os.makedirs(IMAGES_PATH, exist_ok=True)\n",
    "\n",
    "\n",
    "def save_fig(fig_id, tight_layout=True, fig_extension='png', resolution=300):\n",
    "    path = os.path.join(IMAGES_PATH, fig_id + '.' + fig_extension)\n",
    "    print('그림 저장:', fig_id)\n",
    "    if tight_layout:\n",
    "        plt.tight_layout()\n",
    "    plt.savefig(path, dpi=resolution, format=fig_extension)"
   ]
  },
  {
   "cell_type": "code",
   "execution_count": 10,
   "id": "c39fc852-b225-44ab-9a1f-2e61510864fe",
   "metadata": {
    "scrolled": true
   },
   "outputs": [
    {
     "name": "stdout",
     "output_type": "stream",
     "text": [
      "그림 저장: attribute_histogram_plots\n"
     ]
    },
    {
     "data": {
      "image/png": "[encoded data removed]",
      "text/plain": [
       "<Figure size 2000x1500 with 6 Axes>"
      ]
     },
     "metadata": {},
     "output_type": "display_data"
    }
   ],
   "source": [
    "scoreboard.hist(bins=50, figsize=(20, 15))\n",
    "save_fig('attribute_histogram_plots')\n",
    "plt.show()"
   ]
  },
  {
   "cell_type": "code",
   "execution_count": 11,
   "id": "17b90075-7c0a-45c0-a975-04d8f80a3c59",
   "metadata": {
    "scrolled": true
   },
   "outputs": [],
   "source": [
    "from sklearn.model_selection import StratifiedShuffleSplit\n",
    "\n",
    "split = StratifiedShuffleSplit(1)\n",
    "for train_index, test_index in split.split(scoreboard, scoreboard['GAME']):\n",
    "    strat_train_set = scoreboard.loc[train_index[train_index % 10 == 0] // 10]\n",
    "    strat_test_set = scoreboard.loc[test_index[test_index % 10 == 0] // 10]"
   ]
  },
  {
   "cell_type": "code",
   "execution_count": 12,
   "id": "6ef1fb83-9419-43d4-8627-eecf91f1acaa",
   "metadata": {
    "scrolled": true
   },
   "outputs": [
    {
     "data": {
      "text/plain": [
       "GAME\n",
       "VICTORY    0.5\n",
       "DEFEAT     0.5\n",
       "Name: count, dtype: float64"
      ]
     },
     "execution_count": 12,
     "metadata": {},
     "output_type": "execute_result"
    }
   ],
   "source": [
    "strat_test_set['GAME'].value_counts() / len(strat_test_set)"
   ]
  },
  {
   "cell_type": "code",
   "execution_count": 13,
   "id": "0c97e203-80bb-45da-9133-c861fac219c5",
   "metadata": {
    "scrolled": true
   },
   "outputs": [
    {
     "data": {
      "text/plain": [
       "GAME\n",
       "DEFEAT     0.496753\n",
       "VICTORY    0.496753\n",
       "DRAW       0.006494\n",
       "Name: count, dtype: float64"
      ]
     },
     "execution_count": 13,
     "metadata": {},
     "output_type": "execute_result"
    }
   ],
   "source": [
    "scoreboard['GAME'].value_counts() / len(scoreboard)"
   ]
  },
  {
   "cell_type": "code",
   "execution_count": 14,
   "id": "dfa33f97-509d-4414-a0e1-6e73e9375621",
   "metadata": {
    "scrolled": true
   },
   "outputs": [],
   "source": [
    "scoreboard = strat_train_set.copy()"
   ]
  },
  {
   "cell_type": "code",
   "execution_count": 15,
   "id": "715e46d4-47ff-44d6-bd9c-a831c613cbb9",
   "metadata": {
    "scrolled": true
   },
   "outputs": [],
   "source": [
    "scoreboard['E_per_D'] = scoreboard['E'] / scoreboard['D']"
   ]
  },
  {
   "cell_type": "code",
   "execution_count": 16,
   "id": "a3874553-95a2-4193-a1f7-ee764986e0f0",
   "metadata": {
    "scrolled": true
   },
   "outputs": [
    {
     "data": {
      "text/html": [
       "<div>\n",
       "<style scoped>\n",
       "    .dataframe tbody tr th:only-of-type {\n",
       "        vertical-align: middle;\n",
       "    }\n",
       "\n",
       "    .dataframe tbody tr th {\n",
       "        vertical-align: top;\n",
       "    }\n",
       "\n",
       "    .dataframe thead th {\n",
       "        text-align: right;\n",
       "    }\n",
       "</style>\n",
       "<table border=\"1\" class=\"dataframe\">\n",
       "  <thead>\n",
       "    <tr style=\"text-align: right;\">\n",
       "      <th></th>\n",
       "      <th>E</th>\n",
       "      <th>A</th>\n",
       "      <th>D</th>\n",
       "      <th>DMG</th>\n",
       "      <th>H</th>\n",
       "      <th>MIT</th>\n",
       "      <th>E_per_D</th>\n",
       "    </tr>\n",
       "  </thead>\n",
       "  <tbody>\n",
       "    <tr>\n",
       "      <th>count</th>\n",
       "      <td>1290.000000</td>\n",
       "      <td>1290.000000</td>\n",
       "      <td>1290.000000</td>\n",
       "      <td>1290.000000</td>\n",
       "      <td>1290.000000</td>\n",
       "      <td>1290.000000</td>\n",
       "      <td>1270.000</td>\n",
       "    </tr>\n",
       "    <tr>\n",
       "      <th>mean</th>\n",
       "      <td>13.457364</td>\n",
       "      <td>7.328682</td>\n",
       "      <td>6.208527</td>\n",
       "      <td>6121.607752</td>\n",
       "      <td>3802.504651</td>\n",
       "      <td>2223.455039</td>\n",
       "      <td>inf</td>\n",
       "    </tr>\n",
       "    <tr>\n",
       "      <th>std</th>\n",
       "      <td>9.719102</td>\n",
       "      <td>8.263346</td>\n",
       "      <td>3.730538</td>\n",
       "      <td>4340.155682</td>\n",
       "      <td>5039.105115</td>\n",
       "      <td>4391.926690</td>\n",
       "      <td>NaN</td>\n",
       "    </tr>\n",
       "    <tr>\n",
       "      <th>min</th>\n",
       "      <td>0.000000</td>\n",
       "      <td>0.000000</td>\n",
       "      <td>0.000000</td>\n",
       "      <td>0.000000</td>\n",
       "      <td>0.000000</td>\n",
       "      <td>0.000000</td>\n",
       "      <td>0.000</td>\n",
       "    </tr>\n",
       "    <tr>\n",
       "      <th>25%</th>\n",
       "      <td>6.000000</td>\n",
       "      <td>1.000000</td>\n",
       "      <td>3.000000</td>\n",
       "      <td>2649.000000</td>\n",
       "      <td>0.000000</td>\n",
       "      <td>0.000000</td>\n",
       "      <td>1.000</td>\n",
       "    </tr>\n",
       "    <tr>\n",
       "      <th>50%</th>\n",
       "      <td>12.000000</td>\n",
       "      <td>4.000000</td>\n",
       "      <td>6.000000</td>\n",
       "      <td>5295.500000</td>\n",
       "      <td>674.000000</td>\n",
       "      <td>230.000000</td>\n",
       "      <td>2.000</td>\n",
       "    </tr>\n",
       "    <tr>\n",
       "      <th>75%</th>\n",
       "      <td>20.000000</td>\n",
       "      <td>12.000000</td>\n",
       "      <td>9.000000</td>\n",
       "      <td>9301.000000</td>\n",
       "      <td>7516.000000</td>\n",
       "      <td>1692.500000</td>\n",
       "      <td>3.825</td>\n",
       "    </tr>\n",
       "    <tr>\n",
       "      <th>max</th>\n",
       "      <td>56.000000</td>\n",
       "      <td>48.000000</td>\n",
       "      <td>20.000000</td>\n",
       "      <td>29354.000000</td>\n",
       "      <td>23702.000000</td>\n",
       "      <td>28366.000000</td>\n",
       "      <td>inf</td>\n",
       "    </tr>\n",
       "  </tbody>\n",
       "</table>\n",
       "</div>"
      ],
      "text/plain": [
       "                 E            A            D           DMG             H  \\\n",
       "count  1290.000000  1290.000000  1290.000000   1290.000000   1290.000000   \n",
       "mean     13.457364     7.328682     6.208527   6121.607752   3802.504651   \n",
       "std       9.719102     8.263346     3.730538   4340.155682   5039.105115   \n",
       "min       0.000000     0.000000     0.000000      0.000000      0.000000   \n",
       "25%       6.000000     1.000000     3.000000   2649.000000      0.000000   \n",
       "50%      12.000000     4.000000     6.000000   5295.500000    674.000000   \n",
       "75%      20.000000    12.000000     9.000000   9301.000000   7516.000000   \n",
       "max      56.000000    48.000000    20.000000  29354.000000  23702.000000   \n",
       "\n",
       "                MIT   E_per_D  \n",
       "count   1290.000000  1270.000  \n",
       "mean    2223.455039       inf  \n",
       "std     4391.926690       NaN  \n",
       "min        0.000000     0.000  \n",
       "25%        0.000000     1.000  \n",
       "50%      230.000000     2.000  \n",
       "75%     1692.500000     3.825  \n",
       "max    28366.000000       inf  "
      ]
     },
     "execution_count": 16,
     "metadata": {},
     "output_type": "execute_result"
    }
   ],
   "source": [
    "scoreboard.describe()"
   ]
  },
  {
   "cell_type": "code",
   "execution_count": 17,
   "id": "4877a6ce-b24c-41cf-a5cc-0541369b3cc0",
   "metadata": {
    "scrolled": true
   },
   "outputs": [],
   "source": [
    "scoreboard = strat_train_set.drop(['GAME'], axis=1)\n",
    "scoreboard_labels = strat_train_set['GAME'].copy()[::10]"
   ]
  },
  {
   "cell_type": "code",
   "execution_count": 18,
   "id": "e3dbedde-8774-4253-a16d-ef2b28c56c52",
   "metadata": {
    "scrolled": true
   },
   "outputs": [],
   "source": [
    "from sklearn.base import BaseEstimator, TransformerMixin\n",
    "\n",
    "col_names = 'E', 'D'\n",
    "e_ix, d_ix = [scoreboard.columns.get_loc(c) for c in col_names]\n",
    "\n",
    "\n",
    "class CombinedAttributesAdder(BaseEstimator, TransformerMixin):\n",
    "    def fit(self, X, y=None):\n",
    "        return self\n",
    "\n",
    "    def transform(self, X):\n",
    "        X = X.to_numpy(np.float64)\n",
    "        e = X[:, e_ix]\n",
    "        d = X[:, d_ix]\n",
    "        e[e == 0] = 0.5\n",
    "        d[d == 0] = 0.5\n",
    "        e_per_d = e / d\n",
    "        return np.c_[X, e_per_d]\n",
    "\n",
    "\n",
    "attr_adder = CombinedAttributesAdder()\n",
    "scoreboard_extra_attribs = attr_adder.transform(scoreboard)"
   ]
  },
  {
   "cell_type": "code",
   "execution_count": 19,
   "id": "c78ac65f-2265-4b91-be43-c029ae1fd1f8",
   "metadata": {
    "scrolled": true
   },
   "outputs": [
    {
     "data": {
      "text/html": [
       "<div>\n",
       "<style scoped>\n",
       "    .dataframe tbody tr th:only-of-type {\n",
       "        vertical-align: middle;\n",
       "    }\n",
       "\n",
       "    .dataframe tbody tr th {\n",
       "        vertical-align: top;\n",
       "    }\n",
       "\n",
       "    .dataframe thead th {\n",
       "        text-align: right;\n",
       "    }\n",
       "</style>\n",
       "<table border=\"1\" class=\"dataframe\">\n",
       "  <thead>\n",
       "    <tr style=\"text-align: right;\">\n",
       "      <th></th>\n",
       "      <th></th>\n",
       "      <th>E</th>\n",
       "      <th>A</th>\n",
       "      <th>D</th>\n",
       "      <th>DMG</th>\n",
       "      <th>H</th>\n",
       "      <th>MIT</th>\n",
       "      <th>E_per_D</th>\n",
       "    </tr>\n",
       "  </thead>\n",
       "  <tbody>\n",
       "    <tr>\n",
       "      <th rowspan=\"10\" valign=\"top\">113</th>\n",
       "      <th>0</th>\n",
       "      <td>33.0</td>\n",
       "      <td>10.0</td>\n",
       "      <td>8.0</td>\n",
       "      <td>13853.0</td>\n",
       "      <td>0.0</td>\n",
       "      <td>13461.0</td>\n",
       "      <td>4.125000</td>\n",
       "    </tr>\n",
       "    <tr>\n",
       "      <th>1</th>\n",
       "      <td>19.0</td>\n",
       "      <td>7.0</td>\n",
       "      <td>13.0</td>\n",
       "      <td>7874.0</td>\n",
       "      <td>781.0</td>\n",
       "      <td>0.0</td>\n",
       "      <td>1.461538</td>\n",
       "    </tr>\n",
       "    <tr>\n",
       "      <th>2</th>\n",
       "      <td>28.0</td>\n",
       "      <td>5.0</td>\n",
       "      <td>9.0</td>\n",
       "      <td>13155.0</td>\n",
       "      <td>875.0</td>\n",
       "      <td>2308.0</td>\n",
       "      <td>3.111111</td>\n",
       "    </tr>\n",
       "    <tr>\n",
       "      <th>3</th>\n",
       "      <td>13.0</td>\n",
       "      <td>31.0</td>\n",
       "      <td>8.0</td>\n",
       "      <td>3820.0</td>\n",
       "      <td>13571.0</td>\n",
       "      <td>0.0</td>\n",
       "      <td>1.625000</td>\n",
       "    </tr>\n",
       "    <tr>\n",
       "      <th>4</th>\n",
       "      <td>10.0</td>\n",
       "      <td>22.0</td>\n",
       "      <td>9.0</td>\n",
       "      <td>4469.0</td>\n",
       "      <td>15109.0</td>\n",
       "      <td>1565.0</td>\n",
       "      <td>1.111111</td>\n",
       "    </tr>\n",
       "    <tr>\n",
       "      <th>5</th>\n",
       "      <td>19.0</td>\n",
       "      <td>2.0</td>\n",
       "      <td>11.0</td>\n",
       "      <td>12809.0</td>\n",
       "      <td>480.0</td>\n",
       "      <td>13039.0</td>\n",
       "      <td>1.727273</td>\n",
       "    </tr>\n",
       "    <tr>\n",
       "      <th>6</th>\n",
       "      <td>25.0</td>\n",
       "      <td>1.0</td>\n",
       "      <td>13.0</td>\n",
       "      <td>15363.0</td>\n",
       "      <td>480.0</td>\n",
       "      <td>0.0</td>\n",
       "      <td>1.923077</td>\n",
       "    </tr>\n",
       "    <tr>\n",
       "      <th>7</th>\n",
       "      <td>24.0</td>\n",
       "      <td>1.0</td>\n",
       "      <td>7.0</td>\n",
       "      <td>11094.0</td>\n",
       "      <td>0.0</td>\n",
       "      <td>0.0</td>\n",
       "      <td>3.428571</td>\n",
       "    </tr>\n",
       "    <tr>\n",
       "      <th>8</th>\n",
       "      <td>11.0</td>\n",
       "      <td>17.0</td>\n",
       "      <td>10.0</td>\n",
       "      <td>3488.0</td>\n",
       "      <td>11095.0</td>\n",
       "      <td>1317.0</td>\n",
       "      <td>1.100000</td>\n",
       "    </tr>\n",
       "    <tr>\n",
       "      <th>9</th>\n",
       "      <td>14.0</td>\n",
       "      <td>24.0</td>\n",
       "      <td>6.0</td>\n",
       "      <td>4426.0</td>\n",
       "      <td>12868.0</td>\n",
       "      <td>4461.0</td>\n",
       "      <td>2.333333</td>\n",
       "    </tr>\n",
       "  </tbody>\n",
       "</table>\n",
       "</div>"
      ],
      "text/plain": [
       "          E     A     D      DMG        H      MIT   E_per_D\n",
       "113 0  33.0  10.0   8.0  13853.0      0.0  13461.0  4.125000\n",
       "    1  19.0   7.0  13.0   7874.0    781.0      0.0  1.461538\n",
       "    2  28.0   5.0   9.0  13155.0    875.0   2308.0  3.111111\n",
       "    3  13.0  31.0   8.0   3820.0  13571.0      0.0  1.625000\n",
       "    4  10.0  22.0   9.0   4469.0  15109.0   1565.0  1.111111\n",
       "    5  19.0   2.0  11.0  12809.0    480.0  13039.0  1.727273\n",
       "    6  25.0   1.0  13.0  15363.0    480.0      0.0  1.923077\n",
       "    7  24.0   1.0   7.0  11094.0      0.0      0.0  3.428571\n",
       "    8  11.0  17.0  10.0   3488.0  11095.0   1317.0  1.100000\n",
       "    9  14.0  24.0   6.0   4426.0  12868.0   4461.0  2.333333"
      ]
     },
     "execution_count": 19,
     "metadata": {},
     "output_type": "execute_result"
    }
   ],
   "source": [
    "scoreboard_extra_attribs = pd.DataFrame(\n",
    "    scoreboard_extra_attribs, scoreboard.index, list(scoreboard.columns) + ['E_per_D']\n",
    ")\n",
    "scoreboard_extra_attribs.head(10)"
   ]
  },
  {
   "cell_type": "code",
   "execution_count": 20,
   "id": "5d365773-c34b-4720-b4c4-14a8a6fc9a9c",
   "metadata": {
    "scrolled": true
   },
   "outputs": [],
   "source": [
    "from sklearn.pipeline import Pipeline\n",
    "from sklearn.preprocessing import StandardScaler\n",
    "\n",
    "full_pipeline = Pipeline([('attribs_adder', CombinedAttributesAdder()), ('std_scaler', StandardScaler())])\n",
    "scoreboard_tr = full_pipeline.fit_transform(scoreboard)"
   ]
  },
  {
   "cell_type": "code",
   "execution_count": 21,
   "id": "105d7dcd-cd87-4b48-b325-a0199115e176",
   "metadata": {
    "scrolled": true
   },
   "outputs": [
    {
     "data": {
      "text/plain": [
       "array([[ 2.01662105,  0.32339852,  0.4788571 , ..., -0.75489184,\n",
       "         2.55967459,  0.08777213],\n",
       "       [ 0.56985456, -0.03979134,  1.83441043, ..., -0.5998439 ,\n",
       "        -0.50645594, -0.40379213],\n",
       "       [ 1.49991873, -0.28191792,  0.74996776, ..., -0.58118256,\n",
       "         0.01925755, -0.09934961],\n",
       "       ...,\n",
       "       [ 1.08655688, -0.76617107,  1.83441043, ..., -0.75489184,\n",
       "        -0.50645594, -0.33280812],\n",
       "       [-0.05018822,  0.68658838,  1.2921891 , ...,  2.31628831,\n",
       "        -0.31739953, -0.45541686],\n",
       "       [-0.46355007,  2.13934784,  1.02107843, ...,  2.76932212,\n",
       "        -0.50645594, -0.50742878]])"
      ]
     },
     "execution_count": 21,
     "metadata": {},
     "output_type": "execute_result"
    }
   ],
   "source": [
    "scoreboard_tr"
   ]
  },
  {
   "cell_type": "code",
   "execution_count": 22,
   "id": "9d576805-aed0-400a-86bb-b72ecc78dea9",
   "metadata": {
    "scrolled": true
   },
   "outputs": [],
   "source": [
    "scoreboard_prepared = full_pipeline.fit_transform(scoreboard).reshape(-1, 70)"
   ]
  },
  {
   "cell_type": "code",
   "execution_count": 23,
   "id": "b5dc6e89-8418-4e1a-8a13-13993afbb86e",
   "metadata": {
    "scrolled": true
   },
   "outputs": [
    {
     "data": {
      "text/plain": [
       "array([[ 2.01662105,  0.32339852,  0.4788571 , ...,  1.79972653,\n",
       "         0.50966532, -0.24289505],\n",
       "       [ 2.84334475, -0.28191792,  1.2921891 , ...,  2.18843828,\n",
       "        -0.48550029, -0.4120736 ],\n",
       "       [ 0.77653549, -0.5240445 , -0.06336424, ...,  0.98239953,\n",
       "        -0.50645594, -0.55049242],\n",
       "       ...,\n",
       "       [-0.25686914, -0.5240445 , -0.60558557, ...,  0.74575785,\n",
       "        -0.50645594, -0.02757689],\n",
       "       [ 0.77653549, -0.76617107, -1.41891757, ...,  0.2621512 ,\n",
       "        -0.38299982, -0.62739176],\n",
       "       [ 0.98321641, -0.03979134,  1.02107843, ...,  2.76932212,\n",
       "        -0.50645594, -0.50742878]])"
      ]
     },
     "execution_count": 23,
     "metadata": {},
     "output_type": "execute_result"
    }
   ],
   "source": [
    "scoreboard_prepared"
   ]
  },
  {
   "cell_type": "code",
   "execution_count": 24,
   "id": "69aaa066-91a4-41ac-98ec-7c60fed8ec36",
   "metadata": {
    "scrolled": true
   },
   "outputs": [
    {
     "data": {
      "text/plain": [
       "(129, 70)"
      ]
     },
     "execution_count": 24,
     "metadata": {},
     "output_type": "execute_result"
    }
   ],
   "source": [
    "scoreboard_prepared.shape"
   ]
  },
  {
   "cell_type": "code",
   "execution_count": 25,
   "id": "14016f78-2288-4177-bec8-76e8d27274f9",
   "metadata": {
    "scrolled": true
   },
   "outputs": [],
   "source": [
    "test_prepared = full_pipeline.transform(strat_test_set.drop(['GAME'], axis=1)).reshape(-1, 70)\n",
    "test_labels = strat_test_set['GAME'].copy()[::10]"
   ]
  },
  {
   "cell_type": "code",
   "execution_count": 26,
   "id": "cd01570c-eaf2-4be4-8a6a-12bb7bcf8075",
   "metadata": {
    "scrolled": true
   },
   "outputs": [
    {
     "data": {
      "text/plain": [
       "0.8"
      ]
     },
     "execution_count": 26,
     "metadata": {},
     "output_type": "execute_result"
    }
   ],
   "source": [
    "from sklearn.linear_model import SGDClassifier\n",
    "\n",
    "sgd_clf = SGDClassifier(n_jobs=-1)\n",
    "sgd_clf.fit(scoreboard_prepared, scoreboard_labels)\n",
    "sgd_clf.score(test_prepared, test_labels)"
   ]
  },
  {
   "cell_type": "code",
   "execution_count": 27,
   "id": "981d6fd5-d1c8-4daf-b6b1-b61b5c5d799a",
   "metadata": {
    "scrolled": true
   },
   "outputs": [
    {
     "data": {
      "text/plain": [
       "0.96"
      ]
     },
     "execution_count": 27,
     "metadata": {},
     "output_type": "execute_result"
    }
   ],
   "source": [
    "from sklearn.ensemble import RandomForestClassifier\n",
    "\n",
    "forest_clf = RandomForestClassifier(n_jobs=-1)\n",
    "forest_clf.fit(scoreboard_prepared, scoreboard_labels)\n",
    "forest_clf.score(test_prepared, test_labels)"
   ]
  },
  {
   "cell_type": "code",
   "execution_count": 28,
   "id": "c343e2b0-be74-475e-9c4d-1e2091eac864",
   "metadata": {
    "scrolled": true
   },
   "outputs": [
    {
     "data": {
      "text/plain": [
       "array(['VICTORY', 'VICTORY', 'VICTORY', 'VICTORY', 'VICTORY', 'VICTORY',\n",
       "       'DEFEAT', 'DEFEAT', 'DEFEAT', 'DEFEAT', 'VICTORY', 'DEFEAT',\n",
       "       'DEFEAT', 'DEFEAT', 'VICTORY', 'DEFEAT', 'DEFEAT', 'VICTORY',\n",
       "       'DEFEAT', 'DEFEAT', 'VICTORY', 'DEFEAT', 'DEFEAT', 'VICTORY',\n",
       "       'DEFEAT'], dtype=object)"
      ]
     },
     "execution_count": 28,
     "metadata": {},
     "output_type": "execute_result"
    }
   ],
   "source": [
    "test_labels.values"
   ]
  },
  {
   "cell_type": "code",
   "execution_count": 29,
   "id": "65276922-9885-4fb4-8d2d-1f7df72c2dd8",
   "metadata": {
    "scrolled": true
   },
   "outputs": [
    {
     "data": {
      "text/plain": [
       "array(['VICTORY', 'VICTORY', 'DEFEAT', 'DEFEAT', 'DEFEAT', 'VICTORY',\n",
       "       'DEFEAT', 'DEFEAT', 'DEFEAT', 'DEFEAT', 'VICTORY', 'DEFEAT',\n",
       "       'DEFEAT', 'DEFEAT', 'VICTORY', 'DEFEAT', 'DEFEAT', 'VICTORY',\n",
       "       'DEFEAT', 'DEFEAT', 'VICTORY', 'VICTORY', 'VICTORY', 'VICTORY',\n",
       "       'DEFEAT'], dtype='<U7')"
      ]
     },
     "execution_count": 29,
     "metadata": {},
     "output_type": "execute_result"
    }
   ],
   "source": [
    "sgd_clf.predict(test_prepared)"
   ]
  },
  {
   "cell_type": "code",
   "execution_count": 30,
   "id": "6b9cd5c0-a7bf-4d0c-b978-fa0b867f016b",
   "metadata": {
    "scrolled": true
   },
   "outputs": [
    {
     "data": {
      "text/plain": [
       "array(['VICTORY', 'VICTORY', 'VICTORY', 'VICTORY', 'VICTORY', 'VICTORY',\n",
       "       'DEFEAT', 'DEFEAT', 'DEFEAT', 'DEFEAT', 'VICTORY', 'DEFEAT',\n",
       "       'DEFEAT', 'DEFEAT', 'VICTORY', 'DEFEAT', 'DEFEAT', 'VICTORY',\n",
       "       'DEFEAT', 'DEFEAT', 'VICTORY', 'VICTORY', 'DEFEAT', 'VICTORY',\n",
       "       'DEFEAT'], dtype=object)"
      ]
     },
     "execution_count": 30,
     "metadata": {},
     "output_type": "execute_result"
    }
   ],
   "source": [
    "forest_clf.predict(test_prepared)"
   ]
  },
  {
   "cell_type": "code",
   "execution_count": 55,
   "id": "936bd833-5385-46b2-a72f-90146cfcff16",
   "metadata": {},
   "outputs": [
    {
     "name": "stdout",
     "output_type": "stream",
     "text": [
      "**특성 중요도**\n",
      "목숨당 처치: 52.2%\n",
      "죽음: 12.7%\n",
      "처치: 12.0%\n",
      "도움: 8.1%\n",
      "피해: 6.2%\n",
      "치유: 4.5%\n",
      "경감: 4.3%\n"
     ]
    }
   ],
   "source": [
    "feature = '처치', '도움', '죽음', '피해', '치유', '경감', '목숨당 처치'\n",
    "print('**특성 중요도**')\n",
    "for s, f in sorted(zip(importances.sum(0), feature), reverse=True):\n",
    "    print(f'{f}: {s * 100:.1f}%')"
   ]
  },
  {
   "cell_type": "code",
   "execution_count": 33,
   "id": "7f3571bf-cc07-4a99-8430-8304f8157274",
   "metadata": {
    "scrolled": true
   },
   "outputs": [],
   "source": [
    "tank = importances[[0, 5]]\n",
    "damage = importances[[1, 2, 6, 7]]\n",
    "support = importances[[3, 4, 8, 9]]"
   ]
  },
  {
   "cell_type": "code",
   "execution_count": 56,
   "id": "ccaa2763-62cd-4fc7-a539-71e9dbfaa282",
   "metadata": {
    "scrolled": true
   },
   "outputs": [
    {
     "name": "stdout",
     "output_type": "stream",
     "text": [
      "**역할 중요도**\n",
      "공격: 36.0%\n",
      "돌격: 35.8%\n",
      "지원: 28.2%\n"
     ]
    }
   ],
   "source": [
    "feature = '돌격', '공격', '지원'\n",
    "sum_ = tank.sum(), damage.sum(), support.sum()\n",
    "print('**역할 중요도**')\n",
    "for s, f in sorted(zip(sum_, feature), reverse=True):\n",
    "    print(f'{f}: {s * 100:.1f}%')"
   ]
  },
  {
   "cell_type": "code",
   "execution_count": 51,
   "id": "ddc53a76-ef71-48e2-8170-c6d408efa4d2",
   "metadata": {
    "scrolled": true
   },
   "outputs": [
    {
     "name": "stdout",
     "output_type": "stream",
     "text": [
      "**1인 역할 중요도**\n",
      "공격: 18%\n",
      "지원: 14%\n"
     ]
    }
   ],
   "source": [
    "feature = '공격', '지원'\n",
    "sum_ = damage.sum() / 2, support.sum() / 2\n",
    "print('**1인 역할 중요도**')\n",
    "for s, f in sorted(zip(sum_, feature), reverse=True):\n",
    "    print(f'{f}: {s * 100:.0f}%')"
   ]
  },
  {
   "cell_type": "code",
   "execution_count": 65,
   "id": "c3f4dc81-3b53-444b-8bfe-29ccb820f763",
   "metadata": {
    "scrolled": true
   },
   "outputs": [
    {
     "name": "stdout",
     "output_type": "stream",
     "text": [
      "**돌격 특성 중요도**\n",
      "목숨당 처치: 19.8%\n",
      "죽음: 6.6%\n",
      "처치: 4.4%\n",
      "도움: 1.7%\n",
      "피해: 1.6%\n",
      "경감: 1.3%\n",
      "치유: 0.4%\n",
      "\n",
      "**공격 특성 중요도**\n",
      "목숨당 처치: 22.9%\n",
      "처치: 5.3%\n",
      "피해: 2.6%\n",
      "죽음: 2.0%\n",
      "치유: 1.9%\n",
      "도움: 0.8%\n",
      "경감: 0.6%\n",
      "\n",
      "**지원 특성 중요도**\n",
      "목숨당 처치: 9%\n",
      "도움: 6%\n",
      "죽음: 4%\n",
      "경감: 2%\n",
      "처치: 2%\n",
      "치유: 2%\n",
      "피해: 2%\n",
      "\n",
      "**1인 공격 특성 중요도**\n",
      "목숨당 처치: 11.5%\n",
      "처치: 2.6%\n",
      "피해: 1.3%\n",
      "죽음: 1.0%\n",
      "치유: 0.9%\n",
      "도움: 0.4%\n",
      "경감: 0.3%\n",
      "\n",
      "**1인 지원 특성 중요도**\n",
      "목숨당 처치: 4.73%\n",
      "도움: 2.83%\n",
      "죽음: 2.07%\n",
      "경감: 1.19%\n",
      "처치: 1.17%\n",
      "치유: 1.10%\n",
      "피해: 1.03%\n"
     ]
    }
   ],
   "source": [
    "feature = '처치', '도움', '죽음', '피해', '치유', '경감', '목숨당 처치'\n",
    "\n",
    "print('**돌격 특성 중요도**')\n",
    "for s, f in sorted(zip(tank.sum(0), feature), reverse=True):\n",
    "    print(f'{f}: {s * 100:.1f}%')\n",
    "\n",
    "print()\n",
    "\n",
    "print('**공격 특성 중요도**')\n",
    "for s, f in sorted(zip(damage.sum(0), feature), reverse=True):\n",
    "    print(f'{f}: {s * 100:.1f}%')\n",
    "\n",
    "print()\n",
    "\n",
    "print('**지원 특성 중요도**')\n",
    "for s, f in sorted(zip(support.sum(0), feature), reverse=True):\n",
    "    print(f'{f}: {s * 100:.0f}%')\n",
    "\n",
    "print()\n",
    "\n",
    "print('**1인 공격 특성 중요도**')\n",
    "for s, f in sorted(zip(damage.sum(0) / 2, feature), reverse=True):\n",
    "    print(f'{f}: {s * 100:.1f}%')\n",
    "\n",
    "print()\n",
    "\n",
    "print('**1인 지원 특성 중요도**')\n",
    "for s, f in sorted(zip(support.sum(0) / 2, feature), reverse=True):\n",
    "    print(f'{f}: {s * 100:.2f}%')"
   ]
  }
 ],
 "metadata": {
  "kernelspec": {
   "display_name": "Python 3 (ipykernel)",
   "language": "python",
   "name": "python3"
  },
  "language_info": {
   "codemirror_mode": {
    "name": "ipython",
    "version": 3
   },
   "file_extension": ".py",
   "mimetype": "text/x-python",
   "name": "python",
   "nbconvert_exporter": "python",
   "pygments_lexer": "ipython3",
   "version": "3.8.10"
  }
 },
 "nbformat": 4,
 "nbformat_minor": 5
}
