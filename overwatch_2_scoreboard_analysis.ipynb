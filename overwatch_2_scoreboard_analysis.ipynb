{
 "cells": [
  {
   "cell_type": "markdown",
   "id": "2fbe0807-a0e5-4d85-a722-405c4559730f",
   "metadata": {},
   "source": [
    "# 오버워치 2 점수판 분석 AI"
   ]
  },
  {
   "cell_type": "code",
   "execution_count": 1,
   "id": "00a436e0-b9e5-4965-8514-f05fed8ac0b4",
   "metadata": {
    "scrolled": true
   },
   "outputs": [],
   "source": [
    "import pandas as pd\n",
    "\n",
    "\n",
    "def prepare_scoreboard(defeat, victory):\n",
    "    scoreboard = pd.concat([defeat, victory])\n",
    "    scoreboard.set_index(pd.Index((i, j) for i in range(len(scoreboard) // 10) for j in range(10)), inplace=True)\n",
    "    return scoreboard"
   ]
  },
  {
   "cell_type": "code",
   "execution_count": 2,
   "id": "59f15676-d477-4113-9a6c-b491c943c223",
   "metadata": {
    "scrolled": true
   },
   "outputs": [],
   "source": [
    "import os\n",
    "\n",
    "datapath = os.path.join('datasets', '')"
   ]
  },
  {
   "cell_type": "code",
   "execution_count": 3,
   "id": "b6066a18-880e-43ff-ab33-7a637dacc80b",
   "metadata": {
    "scrolled": true
   },
   "outputs": [],
   "source": [
    "# 주피터에 그래프를 깔끔하게 그리기 위해서\n",
    "import matplotlib as mpl\n",
    "\n",
    "mpl.rc('axes', labelsize=14)\n",
    "mpl.rc('xtick', labelsize=12)\n",
    "mpl.rc('ytick', labelsize=12)"
   ]
  },
  {
   "cell_type": "code",
   "execution_count": 4,
   "id": "29daeaaa-1eb5-4d29-ac0d-09f07e129ef1",
   "metadata": {
    "scrolled": true
   },
   "outputs": [
    {
     "data": {
      "text/html": [
       "<style>#sk-container-id-1 {color: black;}#sk-container-id-1 pre{padding: 0;}#sk-container-id-1 div.sk-toggleable {background-color: white;}#sk-container-id-1 label.sk-toggleable__label {cursor: pointer;display: block;width: 100%;margin-bottom: 0;padding: 0.3em;box-sizing: border-box;text-align: center;}#sk-container-id-1 label.sk-toggleable__label-arrow:before {content: \"▸\";float: left;margin-right: 0.25em;color: #696969;}#sk-container-id-1 label.sk-toggleable__label-arrow:hover:before {color: black;}#sk-container-id-1 div.sk-estimator:hover label.sk-toggleable__label-arrow:before {color: black;}#sk-container-id-1 div.sk-toggleable__content {max-height: 0;max-width: 0;overflow: hidden;text-align: left;background-color: #f0f8ff;}#sk-container-id-1 div.sk-toggleable__content pre {margin: 0.2em;color: black;border-radius: 0.25em;background-color: #f0f8ff;}#sk-container-id-1 input.sk-toggleable__control:checked~div.sk-toggleable__content {max-height: 200px;max-width: 100%;overflow: auto;}#sk-container-id-1 input.sk-toggleable__control:checked~label.sk-toggleable__label-arrow:before {content: \"▾\";}#sk-container-id-1 div.sk-estimator input.sk-toggleable__control:checked~label.sk-toggleable__label {background-color: #d4ebff;}#sk-container-id-1 div.sk-label input.sk-toggleable__control:checked~label.sk-toggleable__label {background-color: #d4ebff;}#sk-container-id-1 input.sk-hidden--visually {border: 0;clip: rect(1px 1px 1px 1px);clip: rect(1px, 1px, 1px, 1px);height: 1px;margin: -1px;overflow: hidden;padding: 0;position: absolute;width: 1px;}#sk-container-id-1 div.sk-estimator {font-family: monospace;background-color: #f0f8ff;border: 1px dotted black;border-radius: 0.25em;box-sizing: border-box;margin-bottom: 0.5em;}#sk-container-id-1 div.sk-estimator:hover {background-color: #d4ebff;}#sk-container-id-1 div.sk-parallel-item::after {content: \"\";width: 100%;border-bottom: 1px solid gray;flex-grow: 1;}#sk-container-id-1 div.sk-label:hover label.sk-toggleable__label {background-color: #d4ebff;}#sk-container-id-1 div.sk-serial::before {content: \"\";position: absolute;border-left: 1px solid gray;box-sizing: border-box;top: 0;bottom: 0;left: 50%;z-index: 0;}#sk-container-id-1 div.sk-serial {display: flex;flex-direction: column;align-items: center;background-color: white;padding-right: 0.2em;padding-left: 0.2em;position: relative;}#sk-container-id-1 div.sk-item {position: relative;z-index: 1;}#sk-container-id-1 div.sk-parallel {display: flex;align-items: stretch;justify-content: center;background-color: white;position: relative;}#sk-container-id-1 div.sk-item::before, #sk-container-id-1 div.sk-parallel-item::before {content: \"\";position: absolute;border-left: 1px solid gray;box-sizing: border-box;top: 0;bottom: 0;left: 50%;z-index: -1;}#sk-container-id-1 div.sk-parallel-item {display: flex;flex-direction: column;z-index: 1;position: relative;background-color: white;}#sk-container-id-1 div.sk-parallel-item:first-child::after {align-self: flex-end;width: 50%;}#sk-container-id-1 div.sk-parallel-item:last-child::after {align-self: flex-start;width: 50%;}#sk-container-id-1 div.sk-parallel-item:only-child::after {width: 0;}#sk-container-id-1 div.sk-dashed-wrapped {border: 1px dashed gray;margin: 0 0.4em 0.5em 0.4em;box-sizing: border-box;padding-bottom: 0.4em;background-color: white;}#sk-container-id-1 div.sk-label label {font-family: monospace;font-weight: bold;display: inline-block;line-height: 1.2em;}#sk-container-id-1 div.sk-label-container {text-align: center;}#sk-container-id-1 div.sk-container {/* jupyter's `normalize.less` sets `[hidden] { display: none; }` but bootstrap.min.css set `[hidden] { display: none !important; }` so we also need the `!important` here to be able to override the default hidden behavior on the sphinx rendered scikit-learn.org. See: https://github.com/scikit-learn/scikit-learn/issues/21755 */display: inline-block !important;position: relative;}#sk-container-id-1 div.sk-text-repr-fallback {display: none;}</style><div id=\"sk-container-id-1\" class=\"sk-top-container\"><div class=\"sk-text-repr-fallback\"><pre>SGDClassifier(early_stopping=True, n_jobs=-1)</pre><b>In a Jupyter environment, please rerun this cell to show the HTML representation or trust the notebook. <br />On GitHub, the HTML representation is unable to render, please try loading this page with nbviewer.org.</b></div><div class=\"sk-container\" hidden><div class=\"sk-item\"><div class=\"sk-estimator sk-toggleable\"><input class=\"sk-toggleable__control sk-hidden--visually\" id=\"sk-estimator-id-1\" type=\"checkbox\" checked><label for=\"sk-estimator-id-1\" class=\"sk-toggleable__label sk-toggleable__label-arrow\">SGDClassifier</label><div class=\"sk-toggleable__content\"><pre>SGDClassifier(early_stopping=True, n_jobs=-1)</pre></div></div></div></div></div>"
      ],
      "text/plain": [
       "SGDClassifier(early_stopping=True, n_jobs=-1)"
      ]
     },
     "execution_count": 4,
     "metadata": {},
     "output_type": "execute_result"
    }
   ],
   "source": [
    "import numpy as np\n",
    "from sklearn.preprocessing import OrdinalEncoder\n",
    "from sklearn.linear_model import SGDClassifier\n",
    "\n",
    "# 데이터 적재\n",
    "defeat = pd.read_csv(datapath + 'defeat.csv', index_col=0)\n",
    "victory = pd.read_csv(datapath + 'victory.csv', index_col=0)\n",
    "\n",
    "# 데이터 준비\n",
    "scoreboard = prepare_scoreboard(defeat, victory)\n",
    "X = np.c_[scoreboard[['E', 'A', 'D', 'DMG', 'H', 'MIT']]].reshape((-1, 60))\n",
    "y = np.c_[scoreboard['GAME']][::10].ravel()\n",
    "\n",
    "# 모델 선택\n",
    "sgd_clf = SGDClassifier(n_jobs=-1, early_stopping=True)\n",
    "\n",
    "# 모델 훈련\n",
    "sgd_clf.fit(X, y)"
   ]
  },
  {
   "cell_type": "code",
   "execution_count": 5,
   "id": "d9c6696f-f901-45df-ac77-ddee3a81213b",
   "metadata": {
    "scrolled": true
   },
   "outputs": [
    {
     "data": {
      "text/plain": [
       "array([0.51724138, 0.51724138, 0.5       , 0.5       , 0.57142857])"
      ]
     },
     "execution_count": 5,
     "metadata": {},
     "output_type": "execute_result"
    }
   ],
   "source": [
    "from sklearn.model_selection import cross_val_score\n",
    "\n",
    "cross_val_score(sgd_clf, X, y, n_jobs=-1)"
   ]
  },
  {
   "cell_type": "code",
   "execution_count": 6,
   "id": "bef2a6ec-687f-48e6-a2c7-96bd9385a5d0",
   "metadata": {
    "scrolled": true
   },
   "outputs": [
    {
     "data": {
      "text/html": [
       "<style>#sk-container-id-2 {color: black;}#sk-container-id-2 pre{padding: 0;}#sk-container-id-2 div.sk-toggleable {background-color: white;}#sk-container-id-2 label.sk-toggleable__label {cursor: pointer;display: block;width: 100%;margin-bottom: 0;padding: 0.3em;box-sizing: border-box;text-align: center;}#sk-container-id-2 label.sk-toggleable__label-arrow:before {content: \"▸\";float: left;margin-right: 0.25em;color: #696969;}#sk-container-id-2 label.sk-toggleable__label-arrow:hover:before {color: black;}#sk-container-id-2 div.sk-estimator:hover label.sk-toggleable__label-arrow:before {color: black;}#sk-container-id-2 div.sk-toggleable__content {max-height: 0;max-width: 0;overflow: hidden;text-align: left;background-color: #f0f8ff;}#sk-container-id-2 div.sk-toggleable__content pre {margin: 0.2em;color: black;border-radius: 0.25em;background-color: #f0f8ff;}#sk-container-id-2 input.sk-toggleable__control:checked~div.sk-toggleable__content {max-height: 200px;max-width: 100%;overflow: auto;}#sk-container-id-2 input.sk-toggleable__control:checked~label.sk-toggleable__label-arrow:before {content: \"▾\";}#sk-container-id-2 div.sk-estimator input.sk-toggleable__control:checked~label.sk-toggleable__label {background-color: #d4ebff;}#sk-container-id-2 div.sk-label input.sk-toggleable__control:checked~label.sk-toggleable__label {background-color: #d4ebff;}#sk-container-id-2 input.sk-hidden--visually {border: 0;clip: rect(1px 1px 1px 1px);clip: rect(1px, 1px, 1px, 1px);height: 1px;margin: -1px;overflow: hidden;padding: 0;position: absolute;width: 1px;}#sk-container-id-2 div.sk-estimator {font-family: monospace;background-color: #f0f8ff;border: 1px dotted black;border-radius: 0.25em;box-sizing: border-box;margin-bottom: 0.5em;}#sk-container-id-2 div.sk-estimator:hover {background-color: #d4ebff;}#sk-container-id-2 div.sk-parallel-item::after {content: \"\";width: 100%;border-bottom: 1px solid gray;flex-grow: 1;}#sk-container-id-2 div.sk-label:hover label.sk-toggleable__label {background-color: #d4ebff;}#sk-container-id-2 div.sk-serial::before {content: \"\";position: absolute;border-left: 1px solid gray;box-sizing: border-box;top: 0;bottom: 0;left: 50%;z-index: 0;}#sk-container-id-2 div.sk-serial {display: flex;flex-direction: column;align-items: center;background-color: white;padding-right: 0.2em;padding-left: 0.2em;position: relative;}#sk-container-id-2 div.sk-item {position: relative;z-index: 1;}#sk-container-id-2 div.sk-parallel {display: flex;align-items: stretch;justify-content: center;background-color: white;position: relative;}#sk-container-id-2 div.sk-item::before, #sk-container-id-2 div.sk-parallel-item::before {content: \"\";position: absolute;border-left: 1px solid gray;box-sizing: border-box;top: 0;bottom: 0;left: 50%;z-index: -1;}#sk-container-id-2 div.sk-parallel-item {display: flex;flex-direction: column;z-index: 1;position: relative;background-color: white;}#sk-container-id-2 div.sk-parallel-item:first-child::after {align-self: flex-end;width: 50%;}#sk-container-id-2 div.sk-parallel-item:last-child::after {align-self: flex-start;width: 50%;}#sk-container-id-2 div.sk-parallel-item:only-child::after {width: 0;}#sk-container-id-2 div.sk-dashed-wrapped {border: 1px dashed gray;margin: 0 0.4em 0.5em 0.4em;box-sizing: border-box;padding-bottom: 0.4em;background-color: white;}#sk-container-id-2 div.sk-label label {font-family: monospace;font-weight: bold;display: inline-block;line-height: 1.2em;}#sk-container-id-2 div.sk-label-container {text-align: center;}#sk-container-id-2 div.sk-container {/* jupyter's `normalize.less` sets `[hidden] { display: none; }` but bootstrap.min.css set `[hidden] { display: none !important; }` so we also need the `!important` here to be able to override the default hidden behavior on the sphinx rendered scikit-learn.org. See: https://github.com/scikit-learn/scikit-learn/issues/21755 */display: inline-block !important;position: relative;}#sk-container-id-2 div.sk-text-repr-fallback {display: none;}</style><div id=\"sk-container-id-2\" class=\"sk-top-container\"><div class=\"sk-text-repr-fallback\"><pre>SVC()</pre><b>In a Jupyter environment, please rerun this cell to show the HTML representation or trust the notebook. <br />On GitHub, the HTML representation is unable to render, please try loading this page with nbviewer.org.</b></div><div class=\"sk-container\" hidden><div class=\"sk-item\"><div class=\"sk-estimator sk-toggleable\"><input class=\"sk-toggleable__control sk-hidden--visually\" id=\"sk-estimator-id-2\" type=\"checkbox\" checked><label for=\"sk-estimator-id-2\" class=\"sk-toggleable__label sk-toggleable__label-arrow\">SVC</label><div class=\"sk-toggleable__content\"><pre>SVC()</pre></div></div></div></div></div>"
      ],
      "text/plain": [
       "SVC()"
      ]
     },
     "execution_count": 6,
     "metadata": {},
     "output_type": "execute_result"
    }
   ],
   "source": [
    "from sklearn.svm import SVC\n",
    "\n",
    "svm_clf = SVC()\n",
    "svm_clf.fit(X, y)"
   ]
  },
  {
   "cell_type": "code",
   "execution_count": 7,
   "id": "f475569c-bc1c-4c36-be6c-cf852358216c",
   "metadata": {
    "scrolled": true
   },
   "outputs": [
    {
     "data": {
      "text/plain": [
       "array([0.5862069 , 0.68965517, 0.57142857, 0.75      , 0.5       ])"
      ]
     },
     "execution_count": 7,
     "metadata": {},
     "output_type": "execute_result"
    }
   ],
   "source": [
    "cross_val_score(svm_clf, X, y, n_jobs=-1)"
   ]
  },
  {
   "cell_type": "code",
   "execution_count": 8,
   "id": "9a8bec95-d4bd-40da-966e-0eba26821eb3",
   "metadata": {
    "scrolled": true
   },
   "outputs": [
    {
     "data": {
      "text/html": [
       "<div>\n",
       "<style scoped>\n",
       "    .dataframe tbody tr th:only-of-type {\n",
       "        vertical-align: middle;\n",
       "    }\n",
       "\n",
       "    .dataframe tbody tr th {\n",
       "        vertical-align: top;\n",
       "    }\n",
       "\n",
       "    .dataframe thead th {\n",
       "        text-align: right;\n",
       "    }\n",
       "</style>\n",
       "<table border=\"1\" class=\"dataframe\">\n",
       "  <thead>\n",
       "    <tr style=\"text-align: right;\">\n",
       "      <th></th>\n",
       "      <th></th>\n",
       "      <th>TEAM</th>\n",
       "      <th>ROLE</th>\n",
       "      <th>E</th>\n",
       "      <th>A</th>\n",
       "      <th>D</th>\n",
       "      <th>DMG</th>\n",
       "      <th>H</th>\n",
       "      <th>MIT</th>\n",
       "      <th>GAME</th>\n",
       "    </tr>\n",
       "  </thead>\n",
       "  <tbody>\n",
       "    <tr>\n",
       "      <th rowspan=\"10\" valign=\"top\">0</th>\n",
       "      <th>0</th>\n",
       "      <td>1</td>\n",
       "      <td>TANK</td>\n",
       "      <td>7</td>\n",
       "      <td>3</td>\n",
       "      <td>6</td>\n",
       "      <td>5933</td>\n",
       "      <td>1068</td>\n",
       "      <td>6199</td>\n",
       "      <td>DEFEAT</td>\n",
       "    </tr>\n",
       "    <tr>\n",
       "      <th>1</th>\n",
       "      <td>1</td>\n",
       "      <td>DAMAGE</td>\n",
       "      <td>7</td>\n",
       "      <td>0</td>\n",
       "      <td>10</td>\n",
       "      <td>3601</td>\n",
       "      <td>747</td>\n",
       "      <td>0</td>\n",
       "      <td>DEFEAT</td>\n",
       "    </tr>\n",
       "    <tr>\n",
       "      <th>2</th>\n",
       "      <td>1</td>\n",
       "      <td>DAMAGE</td>\n",
       "      <td>9</td>\n",
       "      <td>1</td>\n",
       "      <td>6</td>\n",
       "      <td>4352</td>\n",
       "      <td>0</td>\n",
       "      <td>0</td>\n",
       "      <td>DEFEAT</td>\n",
       "    </tr>\n",
       "    <tr>\n",
       "      <th>3</th>\n",
       "      <td>1</td>\n",
       "      <td>SUPPORT</td>\n",
       "      <td>7</td>\n",
       "      <td>7</td>\n",
       "      <td>2</td>\n",
       "      <td>2332</td>\n",
       "      <td>6325</td>\n",
       "      <td>0</td>\n",
       "      <td>DEFEAT</td>\n",
       "    </tr>\n",
       "    <tr>\n",
       "      <th>4</th>\n",
       "      <td>1</td>\n",
       "      <td>SUPPORT</td>\n",
       "      <td>6</td>\n",
       "      <td>4</td>\n",
       "      <td>2</td>\n",
       "      <td>3410</td>\n",
       "      <td>5979</td>\n",
       "      <td>606</td>\n",
       "      <td>DEFEAT</td>\n",
       "    </tr>\n",
       "    <tr>\n",
       "      <th>5</th>\n",
       "      <td>2</td>\n",
       "      <td>TANK</td>\n",
       "      <td>14</td>\n",
       "      <td>0</td>\n",
       "      <td>4</td>\n",
       "      <td>4553</td>\n",
       "      <td>0</td>\n",
       "      <td>7781</td>\n",
       "      <td>VICTORY</td>\n",
       "    </tr>\n",
       "    <tr>\n",
       "      <th>6</th>\n",
       "      <td>2</td>\n",
       "      <td>DAMAGE</td>\n",
       "      <td>16</td>\n",
       "      <td>0</td>\n",
       "      <td>3</td>\n",
       "      <td>6120</td>\n",
       "      <td>0</td>\n",
       "      <td>1271</td>\n",
       "      <td>VICTORY</td>\n",
       "    </tr>\n",
       "    <tr>\n",
       "      <th>7</th>\n",
       "      <td>2</td>\n",
       "      <td>DAMAGE</td>\n",
       "      <td>17</td>\n",
       "      <td>0</td>\n",
       "      <td>3</td>\n",
       "      <td>7512</td>\n",
       "      <td>1215</td>\n",
       "      <td>0</td>\n",
       "      <td>VICTORY</td>\n",
       "    </tr>\n",
       "    <tr>\n",
       "      <th>8</th>\n",
       "      <td>2</td>\n",
       "      <td>SUPPORT</td>\n",
       "      <td>15</td>\n",
       "      <td>16</td>\n",
       "      <td>2</td>\n",
       "      <td>4726</td>\n",
       "      <td>6868</td>\n",
       "      <td>0</td>\n",
       "      <td>VICTORY</td>\n",
       "    </tr>\n",
       "    <tr>\n",
       "      <th>9</th>\n",
       "      <td>2</td>\n",
       "      <td>SUPPORT</td>\n",
       "      <td>7</td>\n",
       "      <td>12</td>\n",
       "      <td>1</td>\n",
       "      <td>856</td>\n",
       "      <td>6071</td>\n",
       "      <td>173</td>\n",
       "      <td>VICTORY</td>\n",
       "    </tr>\n",
       "  </tbody>\n",
       "</table>\n",
       "</div>"
      ],
      "text/plain": [
       "     TEAM     ROLE   E   A   D   DMG     H   MIT     GAME\n",
       "0 0     1     TANK   7   3   6  5933  1068  6199   DEFEAT\n",
       "  1     1   DAMAGE   7   0  10  3601   747     0   DEFEAT\n",
       "  2     1   DAMAGE   9   1   6  4352     0     0   DEFEAT\n",
       "  3     1  SUPPORT   7   7   2  2332  6325     0   DEFEAT\n",
       "  4     1  SUPPORT   6   4   2  3410  5979   606   DEFEAT\n",
       "  5     2     TANK  14   0   4  4553     0  7781  VICTORY\n",
       "  6     2   DAMAGE  16   0   3  6120     0  1271  VICTORY\n",
       "  7     2   DAMAGE  17   0   3  7512  1215     0  VICTORY\n",
       "  8     2  SUPPORT  15  16   2  4726  6868     0  VICTORY\n",
       "  9     2  SUPPORT   7  12   1   856  6071   173  VICTORY"
      ]
     },
     "execution_count": 8,
     "metadata": {},
     "output_type": "execute_result"
    }
   ],
   "source": [
    "scoreboard.head(10)"
   ]
  },
  {
   "cell_type": "code",
   "execution_count": 9,
   "id": "ec6ee498-7a16-4ffe-a66f-6f4c56254aa5",
   "metadata": {
    "scrolled": true
   },
   "outputs": [
    {
     "name": "stdout",
     "output_type": "stream",
     "text": [
      "<class 'pandas.core.frame.DataFrame'>\n",
      "MultiIndex: 1420 entries, (0, 0) to (141, 9)\n",
      "Data columns (total 9 columns):\n",
      " #   Column  Non-Null Count  Dtype \n",
      "---  ------  --------------  ----- \n",
      " 0   TEAM    1420 non-null   int64 \n",
      " 1   ROLE    1420 non-null   object\n",
      " 2   E       1420 non-null   int64 \n",
      " 3   A       1420 non-null   int64 \n",
      " 4   D       1420 non-null   int64 \n",
      " 5   DMG     1420 non-null   int64 \n",
      " 6   H       1420 non-null   int64 \n",
      " 7   MIT     1420 non-null   int64 \n",
      " 8   GAME    1420 non-null   object\n",
      "dtypes: int64(7), object(2)\n",
      "memory usage: 109.6+ KB\n"
     ]
    }
   ],
   "source": [
    "scoreboard.info()"
   ]
  },
  {
   "cell_type": "code",
   "execution_count": 10,
   "id": "085d4528-396f-430c-a4cd-94864201d877",
   "metadata": {
    "scrolled": true
   },
   "outputs": [
    {
     "data": {
      "text/plain": [
       "GAME\n",
       "DEFEAT     710\n",
       "VICTORY    710\n",
       "Name: count, dtype: int64"
      ]
     },
     "execution_count": 10,
     "metadata": {},
     "output_type": "execute_result"
    }
   ],
   "source": [
    "scoreboard['GAME'].value_counts()"
   ]
  },
  {
   "cell_type": "code",
   "execution_count": 11,
   "id": "0d417f53-4032-474c-8a17-7751f3bcfb72",
   "metadata": {
    "scrolled": true
   },
   "outputs": [
    {
     "data": {
      "text/html": [
       "<div>\n",
       "<style scoped>\n",
       "    .dataframe tbody tr th:only-of-type {\n",
       "        vertical-align: middle;\n",
       "    }\n",
       "\n",
       "    .dataframe tbody tr th {\n",
       "        vertical-align: top;\n",
       "    }\n",
       "\n",
       "    .dataframe thead th {\n",
       "        text-align: right;\n",
       "    }\n",
       "</style>\n",
       "<table border=\"1\" class=\"dataframe\">\n",
       "  <thead>\n",
       "    <tr style=\"text-align: right;\">\n",
       "      <th></th>\n",
       "      <th>TEAM</th>\n",
       "      <th>E</th>\n",
       "      <th>A</th>\n",
       "      <th>D</th>\n",
       "      <th>DMG</th>\n",
       "      <th>H</th>\n",
       "      <th>MIT</th>\n",
       "    </tr>\n",
       "  </thead>\n",
       "  <tbody>\n",
       "    <tr>\n",
       "      <th>count</th>\n",
       "      <td>1420.000000</td>\n",
       "      <td>1420.000000</td>\n",
       "      <td>1420.000000</td>\n",
       "      <td>1420.000000</td>\n",
       "      <td>1420.000000</td>\n",
       "      <td>1420.000000</td>\n",
       "      <td>1420.000000</td>\n",
       "    </tr>\n",
       "    <tr>\n",
       "      <th>mean</th>\n",
       "      <td>1.500000</td>\n",
       "      <td>13.526056</td>\n",
       "      <td>7.380986</td>\n",
       "      <td>6.209859</td>\n",
       "      <td>6188.401408</td>\n",
       "      <td>3848.818310</td>\n",
       "      <td>2281.254930</td>\n",
       "    </tr>\n",
       "    <tr>\n",
       "      <th>std</th>\n",
       "      <td>0.500176</td>\n",
       "      <td>9.722073</td>\n",
       "      <td>8.312217</td>\n",
       "      <td>3.746877</td>\n",
       "      <td>4424.310755</td>\n",
       "      <td>5164.099569</td>\n",
       "      <td>4547.848012</td>\n",
       "    </tr>\n",
       "    <tr>\n",
       "      <th>min</th>\n",
       "      <td>1.000000</td>\n",
       "      <td>0.000000</td>\n",
       "      <td>0.000000</td>\n",
       "      <td>0.000000</td>\n",
       "      <td>0.000000</td>\n",
       "      <td>0.000000</td>\n",
       "      <td>0.000000</td>\n",
       "    </tr>\n",
       "    <tr>\n",
       "      <th>25%</th>\n",
       "      <td>1.000000</td>\n",
       "      <td>6.000000</td>\n",
       "      <td>1.000000</td>\n",
       "      <td>3.000000</td>\n",
       "      <td>2683.250000</td>\n",
       "      <td>0.000000</td>\n",
       "      <td>0.000000</td>\n",
       "    </tr>\n",
       "    <tr>\n",
       "      <th>50%</th>\n",
       "      <td>1.500000</td>\n",
       "      <td>12.000000</td>\n",
       "      <td>4.000000</td>\n",
       "      <td>6.000000</td>\n",
       "      <td>5295.500000</td>\n",
       "      <td>759.500000</td>\n",
       "      <td>244.000000</td>\n",
       "    </tr>\n",
       "    <tr>\n",
       "      <th>75%</th>\n",
       "      <td>2.000000</td>\n",
       "      <td>20.000000</td>\n",
       "      <td>12.000000</td>\n",
       "      <td>9.000000</td>\n",
       "      <td>9403.500000</td>\n",
       "      <td>7409.750000</td>\n",
       "      <td>1805.000000</td>\n",
       "    </tr>\n",
       "    <tr>\n",
       "      <th>max</th>\n",
       "      <td>2.000000</td>\n",
       "      <td>52.000000</td>\n",
       "      <td>45.000000</td>\n",
       "      <td>21.000000</td>\n",
       "      <td>26666.000000</td>\n",
       "      <td>27756.000000</td>\n",
       "      <td>28366.000000</td>\n",
       "    </tr>\n",
       "  </tbody>\n",
       "</table>\n",
       "</div>"
      ],
      "text/plain": [
       "              TEAM            E            A            D           DMG  \\\n",
       "count  1420.000000  1420.000000  1420.000000  1420.000000   1420.000000   \n",
       "mean      1.500000    13.526056     7.380986     6.209859   6188.401408   \n",
       "std       0.500176     9.722073     8.312217     3.746877   4424.310755   \n",
       "min       1.000000     0.000000     0.000000     0.000000      0.000000   \n",
       "25%       1.000000     6.000000     1.000000     3.000000   2683.250000   \n",
       "50%       1.500000    12.000000     4.000000     6.000000   5295.500000   \n",
       "75%       2.000000    20.000000    12.000000     9.000000   9403.500000   \n",
       "max       2.000000    52.000000    45.000000    21.000000  26666.000000   \n",
       "\n",
       "                  H           MIT  \n",
       "count   1420.000000   1420.000000  \n",
       "mean    3848.818310   2281.254930  \n",
       "std     5164.099569   4547.848012  \n",
       "min        0.000000      0.000000  \n",
       "25%        0.000000      0.000000  \n",
       "50%      759.500000    244.000000  \n",
       "75%     7409.750000   1805.000000  \n",
       "max    27756.000000  28366.000000  "
      ]
     },
     "execution_count": 11,
     "metadata": {},
     "output_type": "execute_result"
    }
   ],
   "source": [
    "scoreboard.describe()"
   ]
  },
  {
   "cell_type": "code",
   "execution_count": 15,
   "id": "b2e1a544-0e3b-4be1-abf2-4c324887ce28",
   "metadata": {
    "scrolled": true
   },
   "outputs": [],
   "source": [
    "import matplotlib.pyplot as plt\n",
    "\n",
    "# 그림을 저장할 위치\n",
    "PROJECT_ROOT_DIR = '.'\n",
    "IMAGES_PATH = os.path.join(PROJECT_ROOT_DIR, 'images')\n",
    "os.makedirs(IMAGES_PATH, exist_ok=True)\n",
    "\n",
    "\n",
    "def save_fig(fig_id, tight_layout=True, fig_extension='png', resolution=300):\n",
    "    path = os.path.join(IMAGES_PATH, fig_id + '.' + fig_extension)\n",
    "    print('그림 저장:', fig_id)\n",
    "    if tight_layout:\n",
    "        plt.tight_layout()\n",
    "    plt.savefig(path, dpi=resolution, format=fig_extension)"
   ]
  },
  {
   "cell_type": "code",
   "execution_count": 16,
   "id": "c39fc852-b225-44ab-9a1f-2e61510864fe",
   "metadata": {
    "scrolled": true
   },
   "outputs": [
    {
     "name": "stdout",
     "output_type": "stream",
     "text": [
      "그림 저장: attribute_histogram_plots\n"
     ]
    },
    {
     "data": {
      "image/png": "[encoded data removed]",
      "text/plain": [
       "<Figure size 2000x1500 with 9 Axes>"
      ]
     },
     "metadata": {},
     "output_type": "display_data"
    }
   ],
   "source": [
    "scoreboard.hist(bins=50, figsize=(20, 15))\n",
    "save_fig('attribute_histogram_plots')\n",
    "plt.show()"
   ]
  },
  {
   "cell_type": "code",
   "execution_count": 23,
   "id": "17b90075-7c0a-45c0-a975-04d8f80a3c59",
   "metadata": {
    "scrolled": true
   },
   "outputs": [],
   "source": [
    "from sklearn.model_selection import StratifiedShuffleSplit\n",
    "\n",
    "split = StratifiedShuffleSplit(1)\n",
    "for train_index, test_index in split.split(scoreboard, scoreboard['GAME']):\n",
    "    strat_train_set = scoreboard.loc[train_index[train_index % 10 == 0] // 10]\n",
    "    strat_test_set = scoreboard.loc[test_index[test_index % 10 == 0] // 10]"
   ]
  },
  {
   "cell_type": "code",
   "execution_count": 25,
   "id": "6ef1fb83-9419-43d4-8627-eecf91f1acaa",
   "metadata": {
    "scrolled": true
   },
   "outputs": [
    {
     "data": {
      "text/plain": [
       "GAME\n",
       "DEFEAT     0.5\n",
       "VICTORY    0.5\n",
       "Name: count, dtype: float64"
      ]
     },
     "execution_count": 25,
     "metadata": {},
     "output_type": "execute_result"
    }
   ],
   "source": [
    "strat_test_set['GAME'].value_counts() / len(strat_test_set)"
   ]
  },
  {
   "cell_type": "code",
   "execution_count": 26,
   "id": "0c97e203-80bb-45da-9133-c861fac219c5",
   "metadata": {
    "scrolled": true
   },
   "outputs": [
    {
     "data": {
      "text/plain": [
       "GAME\n",
       "DEFEAT     0.5\n",
       "VICTORY    0.5\n",
       "Name: count, dtype: float64"
      ]
     },
     "execution_count": 26,
     "metadata": {},
     "output_type": "execute_result"
    }
   ],
   "source": [
    "scoreboard['GAME'].value_counts() / len(scoreboard)"
   ]
  },
  {
   "cell_type": "code",
   "execution_count": 27,
   "id": "dfa33f97-509d-4414-a0e1-6e73e9375621",
   "metadata": {
    "scrolled": true
   },
   "outputs": [],
   "source": [
    "scoreboard = strat_train_set.copy()"
   ]
  },
  {
   "cell_type": "code",
   "execution_count": 29,
   "id": "927d7f95-b5f4-48ec-85c2-a029de4dba9f",
   "metadata": {
    "scrolled": true
   },
   "outputs": [
    {
     "data": {
      "text/html": [
       "<div>\n",
       "<style scoped>\n",
       "    .dataframe tbody tr th:only-of-type {\n",
       "        vertical-align: middle;\n",
       "    }\n",
       "\n",
       "    .dataframe tbody tr th {\n",
       "        vertical-align: top;\n",
       "    }\n",
       "\n",
       "    .dataframe thead th {\n",
       "        text-align: right;\n",
       "    }\n",
       "</style>\n",
       "<table border=\"1\" class=\"dataframe\">\n",
       "  <thead>\n",
       "    <tr style=\"text-align: right;\">\n",
       "      <th></th>\n",
       "      <th>TEAM</th>\n",
       "      <th>E</th>\n",
       "      <th>A</th>\n",
       "      <th>D</th>\n",
       "      <th>DMG</th>\n",
       "      <th>H</th>\n",
       "      <th>MIT</th>\n",
       "    </tr>\n",
       "  </thead>\n",
       "  <tbody>\n",
       "    <tr>\n",
       "      <th>TEAM</th>\n",
       "      <td>1.000000</td>\n",
       "      <td>-0.178078</td>\n",
       "      <td>-0.130233</td>\n",
       "      <td>0.126093</td>\n",
       "      <td>-0.015160</td>\n",
       "      <td>-0.019877</td>\n",
       "      <td>-0.019364</td>\n",
       "    </tr>\n",
       "    <tr>\n",
       "      <th>E</th>\n",
       "      <td>-0.178078</td>\n",
       "      <td>1.000000</td>\n",
       "      <td>-0.047195</td>\n",
       "      <td>0.264661</td>\n",
       "      <td>0.815243</td>\n",
       "      <td>-0.276568</td>\n",
       "      <td>0.334378</td>\n",
       "    </tr>\n",
       "    <tr>\n",
       "      <th>A</th>\n",
       "      <td>-0.130233</td>\n",
       "      <td>-0.047195</td>\n",
       "      <td>1.000000</td>\n",
       "      <td>-0.042920</td>\n",
       "      <td>-0.293709</td>\n",
       "      <td>0.828606</td>\n",
       "      <td>-0.084450</td>\n",
       "    </tr>\n",
       "    <tr>\n",
       "      <th>D</th>\n",
       "      <td>0.126093</td>\n",
       "      <td>0.264661</td>\n",
       "      <td>-0.042920</td>\n",
       "      <td>1.000000</td>\n",
       "      <td>0.463854</td>\n",
       "      <td>0.006756</td>\n",
       "      <td>0.064497</td>\n",
       "    </tr>\n",
       "    <tr>\n",
       "      <th>DMG</th>\n",
       "      <td>-0.015160</td>\n",
       "      <td>0.815243</td>\n",
       "      <td>-0.293709</td>\n",
       "      <td>0.463854</td>\n",
       "      <td>1.000000</td>\n",
       "      <td>-0.456804</td>\n",
       "      <td>0.427078</td>\n",
       "    </tr>\n",
       "    <tr>\n",
       "      <th>H</th>\n",
       "      <td>-0.019877</td>\n",
       "      <td>-0.276568</td>\n",
       "      <td>0.828606</td>\n",
       "      <td>0.006756</td>\n",
       "      <td>-0.456804</td>\n",
       "      <td>1.000000</td>\n",
       "      <td>-0.265976</td>\n",
       "    </tr>\n",
       "    <tr>\n",
       "      <th>MIT</th>\n",
       "      <td>-0.019364</td>\n",
       "      <td>0.334378</td>\n",
       "      <td>-0.084450</td>\n",
       "      <td>0.064497</td>\n",
       "      <td>0.427078</td>\n",
       "      <td>-0.265976</td>\n",
       "      <td>1.000000</td>\n",
       "    </tr>\n",
       "  </tbody>\n",
       "</table>\n",
       "</div>"
      ],
      "text/plain": [
       "          TEAM         E         A         D       DMG         H       MIT\n",
       "TEAM  1.000000 -0.178078 -0.130233  0.126093 -0.015160 -0.019877 -0.019364\n",
       "E    -0.178078  1.000000 -0.047195  0.264661  0.815243 -0.276568  0.334378\n",
       "A    -0.130233 -0.047195  1.000000 -0.042920 -0.293709  0.828606 -0.084450\n",
       "D     0.126093  0.264661 -0.042920  1.000000  0.463854  0.006756  0.064497\n",
       "DMG  -0.015160  0.815243 -0.293709  0.463854  1.000000 -0.456804  0.427078\n",
       "H    -0.019877 -0.276568  0.828606  0.006756 -0.456804  1.000000 -0.265976\n",
       "MIT  -0.019364  0.334378 -0.084450  0.064497  0.427078 -0.265976  1.000000"
      ]
     },
     "execution_count": 29,
     "metadata": {},
     "output_type": "execute_result"
    }
   ],
   "source": [
    "scoreboard.corr(numeric_only=True)"
   ]
  },
  {
   "cell_type": "code",
   "execution_count": null,
   "id": "715e46d4-47ff-44d6-bd9c-a831c613cbb9",
   "metadata": {},
   "outputs": [],
   "source": []
  }
 ],
 "metadata": {
  "kernelspec": {
   "display_name": "Python 3 (ipykernel)",
   "language": "python",
   "name": "python3"
  },
  "language_info": {
   "codemirror_mode": {
    "name": "ipython",
    "version": 3
   },
   "file_extension": ".py",
   "mimetype": "text/x-python",
   "name": "python",
   "nbconvert_exporter": "python",
   "pygments_lexer": "ipython3",
   "version": "3.8.10"
  }
 },
 "nbformat": 4,
 "nbformat_minor": 5
}
