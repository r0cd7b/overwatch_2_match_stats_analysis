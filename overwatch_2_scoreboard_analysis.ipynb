{
 "cells": [
  {
   "cell_type": "markdown",
   "id": "2fbe0807-a0e5-4d85-a722-405c4559730f",
   "metadata": {},
   "source": [
    "# 오버워치 2 점수판 분석 AI"
   ]
  },
  {
   "cell_type": "code",
   "execution_count": 1,
   "id": "29daeaaa-1eb5-4d29-ac0d-09f07e129ef1",
   "metadata": {
    "scrolled": true
   },
   "outputs": [
    {
     "data": {
      "text/html": [
       "<div>\n",
       "<style scoped>\n",
       "    .dataframe tbody tr th:only-of-type {\n",
       "        vertical-align: middle;\n",
       "    }\n",
       "\n",
       "    .dataframe tbody tr th {\n",
       "        vertical-align: top;\n",
       "    }\n",
       "\n",
       "    .dataframe thead th {\n",
       "        text-align: right;\n",
       "    }\n",
       "</style>\n",
       "<table border=\"1\" class=\"dataframe\">\n",
       "  <thead>\n",
       "    <tr style=\"text-align: right;\">\n",
       "      <th></th>\n",
       "      <th></th>\n",
       "      <th>E</th>\n",
       "      <th>A</th>\n",
       "      <th>D</th>\n",
       "      <th>DMG</th>\n",
       "      <th>H</th>\n",
       "      <th>MIT</th>\n",
       "      <th>GAME</th>\n",
       "    </tr>\n",
       "  </thead>\n",
       "  <tbody>\n",
       "    <tr>\n",
       "      <th rowspan=\"5\" valign=\"top\">0</th>\n",
       "      <th>0</th>\n",
       "      <td>7</td>\n",
       "      <td>3</td>\n",
       "      <td>6</td>\n",
       "      <td>5933</td>\n",
       "      <td>1068</td>\n",
       "      <td>6199</td>\n",
       "      <td>DEFEAT</td>\n",
       "    </tr>\n",
       "    <tr>\n",
       "      <th>1</th>\n",
       "      <td>7</td>\n",
       "      <td>0</td>\n",
       "      <td>10</td>\n",
       "      <td>3601</td>\n",
       "      <td>747</td>\n",
       "      <td>0</td>\n",
       "      <td>DEFEAT</td>\n",
       "    </tr>\n",
       "    <tr>\n",
       "      <th>2</th>\n",
       "      <td>9</td>\n",
       "      <td>1</td>\n",
       "      <td>6</td>\n",
       "      <td>4352</td>\n",
       "      <td>0</td>\n",
       "      <td>0</td>\n",
       "      <td>DEFEAT</td>\n",
       "    </tr>\n",
       "    <tr>\n",
       "      <th>3</th>\n",
       "      <td>7</td>\n",
       "      <td>7</td>\n",
       "      <td>2</td>\n",
       "      <td>2332</td>\n",
       "      <td>6325</td>\n",
       "      <td>0</td>\n",
       "      <td>DEFEAT</td>\n",
       "    </tr>\n",
       "    <tr>\n",
       "      <th>4</th>\n",
       "      <td>6</td>\n",
       "      <td>4</td>\n",
       "      <td>2</td>\n",
       "      <td>3410</td>\n",
       "      <td>5979</td>\n",
       "      <td>606</td>\n",
       "      <td>DEFEAT</td>\n",
       "    </tr>\n",
       "    <tr>\n",
       "      <th>...</th>\n",
       "      <th>...</th>\n",
       "      <td>...</td>\n",
       "      <td>...</td>\n",
       "      <td>...</td>\n",
       "      <td>...</td>\n",
       "      <td>...</td>\n",
       "      <td>...</td>\n",
       "      <td>...</td>\n",
       "    </tr>\n",
       "    <tr>\n",
       "      <th rowspan=\"5\" valign=\"top\">249</th>\n",
       "      <th>5</th>\n",
       "      <td>34</td>\n",
       "      <td>9</td>\n",
       "      <td>7</td>\n",
       "      <td>15597</td>\n",
       "      <td>1508</td>\n",
       "      <td>15282</td>\n",
       "      <td>DEFEAT</td>\n",
       "    </tr>\n",
       "    <tr>\n",
       "      <th>6</th>\n",
       "      <td>28</td>\n",
       "      <td>1</td>\n",
       "      <td>12</td>\n",
       "      <td>14064</td>\n",
       "      <td>1339</td>\n",
       "      <td>238</td>\n",
       "      <td>DEFEAT</td>\n",
       "    </tr>\n",
       "    <tr>\n",
       "      <th>7</th>\n",
       "      <td>29</td>\n",
       "      <td>1</td>\n",
       "      <td>13</td>\n",
       "      <td>12145</td>\n",
       "      <td>0</td>\n",
       "      <td>48</td>\n",
       "      <td>DEFEAT</td>\n",
       "    </tr>\n",
       "    <tr>\n",
       "      <th>8</th>\n",
       "      <td>11</td>\n",
       "      <td>26</td>\n",
       "      <td>9</td>\n",
       "      <td>2798</td>\n",
       "      <td>16190</td>\n",
       "      <td>1352</td>\n",
       "      <td>DEFEAT</td>\n",
       "    </tr>\n",
       "    <tr>\n",
       "      <th>9</th>\n",
       "      <td>4</td>\n",
       "      <td>24</td>\n",
       "      <td>8</td>\n",
       "      <td>743</td>\n",
       "      <td>20730</td>\n",
       "      <td>176</td>\n",
       "      <td>DEFEAT</td>\n",
       "    </tr>\n",
       "  </tbody>\n",
       "</table>\n",
       "<p>2500 rows × 7 columns</p>\n",
       "</div>"
      ],
      "text/plain": [
       "        E   A   D    DMG      H    MIT    GAME\n",
       "0   0   7   3   6   5933   1068   6199  DEFEAT\n",
       "    1   7   0  10   3601    747      0  DEFEAT\n",
       "    2   9   1   6   4352      0      0  DEFEAT\n",
       "    3   7   7   2   2332   6325      0  DEFEAT\n",
       "    4   6   4   2   3410   5979    606  DEFEAT\n",
       "...    ..  ..  ..    ...    ...    ...     ...\n",
       "249 5  34   9   7  15597   1508  15282  DEFEAT\n",
       "    6  28   1  12  14064   1339    238  DEFEAT\n",
       "    7  29   1  13  12145      0     48  DEFEAT\n",
       "    8  11  26   9   2798  16190   1352  DEFEAT\n",
       "    9   4  24   8    743  20730    176  DEFEAT\n",
       "\n",
       "[2500 rows x 7 columns]"
      ]
     },
     "execution_count": 1,
     "metadata": {},
     "output_type": "execute_result"
    }
   ],
   "source": [
    "import os\n",
    "import pandas as pd\n",
    "\n",
    "players = 10\n",
    "\n",
    "\n",
    "def prepare_scoreboards(defeat_, draw_, victory_):\n",
    "    scoreboards_ = pd.concat([defeat_, draw_, victory_])\n",
    "    scoreboards_.set_index(\n",
    "        pd.Index((i, j) for i in range(len(scoreboards_.index) // players) for j in range(players)), inplace=True\n",
    "    )\n",
    "    return scoreboards_\n",
    "\n",
    "\n",
    "datapath = os.path.join('datasets', '')\n",
    "range_ = range(3, 10)\n",
    "defeat = pd.read_csv(datapath + 'defeat.csv', usecols=range_)\n",
    "draw = pd.read_csv(datapath + 'draw.csv', usecols=range_)\n",
    "victory = pd.read_csv(datapath + 'victory.csv', usecols=range_)\n",
    "scoreboards = prepare_scoreboards(defeat, draw, victory)\n",
    "scoreboards.loc[\n",
    "    (\n",
    "            scoreboards['E'] == 0\n",
    "    ) & (\n",
    "            scoreboards['A'] == 0\n",
    "    ) & (\n",
    "            scoreboards['D'] == 0\n",
    "    ) & (\n",
    "            scoreboards['DMG'] == 0\n",
    "    ) & (\n",
    "            scoreboards['H'] == 0\n",
    "    ) & (\n",
    "            scoreboards['MIT'] == 0\n",
    "    ), 'D'\n",
    "] = scoreboards['D'].max()\n",
    "scoreboards"
   ]
  },
  {
   "cell_type": "code",
   "execution_count": 2,
   "id": "ec6ee498-7a16-4ffe-a66f-6f4c56254aa5",
   "metadata": {
    "scrolled": true
   },
   "outputs": [
    {
     "name": "stdout",
     "output_type": "stream",
     "text": [
      "<class 'pandas.core.frame.DataFrame'>\n",
      "MultiIndex: 2500 entries, (0, 0) to (249, 9)\n",
      "Data columns (total 7 columns):\n",
      " #   Column  Non-Null Count  Dtype \n",
      "---  ------  --------------  ----- \n",
      " 0   E       2500 non-null   int64 \n",
      " 1   A       2500 non-null   int64 \n",
      " 2   D       2500 non-null   int64 \n",
      " 3   DMG     2500 non-null   int64 \n",
      " 4   H       2500 non-null   int64 \n",
      " 5   MIT     2500 non-null   int64 \n",
      " 6   GAME    2500 non-null   object\n",
      "dtypes: int64(6), object(1)\n",
      "memory usage: 154.5+ KB\n"
     ]
    }
   ],
   "source": [
    "scoreboards.info()"
   ]
  },
  {
   "cell_type": "code",
   "execution_count": 3,
   "id": "0d417f53-4032-474c-8a17-7751f3bcfb72",
   "metadata": {
    "scrolled": true
   },
   "outputs": [
    {
     "data": {
      "text/html": [
       "<div>\n",
       "<style scoped>\n",
       "    .dataframe tbody tr th:only-of-type {\n",
       "        vertical-align: middle;\n",
       "    }\n",
       "\n",
       "    .dataframe tbody tr th {\n",
       "        vertical-align: top;\n",
       "    }\n",
       "\n",
       "    .dataframe thead th {\n",
       "        text-align: right;\n",
       "    }\n",
       "</style>\n",
       "<table border=\"1\" class=\"dataframe\">\n",
       "  <thead>\n",
       "    <tr style=\"text-align: right;\">\n",
       "      <th></th>\n",
       "      <th>E</th>\n",
       "      <th>A</th>\n",
       "      <th>D</th>\n",
       "      <th>DMG</th>\n",
       "      <th>H</th>\n",
       "      <th>MIT</th>\n",
       "    </tr>\n",
       "  </thead>\n",
       "  <tbody>\n",
       "    <tr>\n",
       "      <th>count</th>\n",
       "      <td>2500.000000</td>\n",
       "      <td>2500.000000</td>\n",
       "      <td>2500.000000</td>\n",
       "      <td>2500.000000</td>\n",
       "      <td>2500.000000</td>\n",
       "      <td>2500.000000</td>\n",
       "    </tr>\n",
       "    <tr>\n",
       "      <th>mean</th>\n",
       "      <td>14.008800</td>\n",
       "      <td>7.459600</td>\n",
       "      <td>6.619600</td>\n",
       "      <td>6291.723200</td>\n",
       "      <td>3898.748800</td>\n",
       "      <td>2326.210800</td>\n",
       "    </tr>\n",
       "    <tr>\n",
       "      <th>std</th>\n",
       "      <td>10.436297</td>\n",
       "      <td>8.806281</td>\n",
       "      <td>4.130584</td>\n",
       "      <td>4705.203181</td>\n",
       "      <td>5213.572767</td>\n",
       "      <td>4696.423124</td>\n",
       "    </tr>\n",
       "    <tr>\n",
       "      <th>min</th>\n",
       "      <td>0.000000</td>\n",
       "      <td>0.000000</td>\n",
       "      <td>0.000000</td>\n",
       "      <td>0.000000</td>\n",
       "      <td>0.000000</td>\n",
       "      <td>0.000000</td>\n",
       "    </tr>\n",
       "    <tr>\n",
       "      <th>25%</th>\n",
       "      <td>6.000000</td>\n",
       "      <td>1.000000</td>\n",
       "      <td>4.000000</td>\n",
       "      <td>2681.250000</td>\n",
       "      <td>0.000000</td>\n",
       "      <td>0.000000</td>\n",
       "    </tr>\n",
       "    <tr>\n",
       "      <th>50%</th>\n",
       "      <td>12.000000</td>\n",
       "      <td>4.000000</td>\n",
       "      <td>6.000000</td>\n",
       "      <td>5346.000000</td>\n",
       "      <td>799.500000</td>\n",
       "      <td>242.500000</td>\n",
       "    </tr>\n",
       "    <tr>\n",
       "      <th>75%</th>\n",
       "      <td>20.000000</td>\n",
       "      <td>12.000000</td>\n",
       "      <td>9.000000</td>\n",
       "      <td>9339.250000</td>\n",
       "      <td>7438.500000</td>\n",
       "      <td>1708.500000</td>\n",
       "    </tr>\n",
       "    <tr>\n",
       "      <th>max</th>\n",
       "      <td>56.000000</td>\n",
       "      <td>48.000000</td>\n",
       "      <td>21.000000</td>\n",
       "      <td>29354.000000</td>\n",
       "      <td>27756.000000</td>\n",
       "      <td>41092.000000</td>\n",
       "    </tr>\n",
       "  </tbody>\n",
       "</table>\n",
       "</div>"
      ],
      "text/plain": [
       "                 E            A            D           DMG             H  \\\n",
       "count  2500.000000  2500.000000  2500.000000   2500.000000   2500.000000   \n",
       "mean     14.008800     7.459600     6.619600   6291.723200   3898.748800   \n",
       "std      10.436297     8.806281     4.130584   4705.203181   5213.572767   \n",
       "min       0.000000     0.000000     0.000000      0.000000      0.000000   \n",
       "25%       6.000000     1.000000     4.000000   2681.250000      0.000000   \n",
       "50%      12.000000     4.000000     6.000000   5346.000000    799.500000   \n",
       "75%      20.000000    12.000000     9.000000   9339.250000   7438.500000   \n",
       "max      56.000000    48.000000    21.000000  29354.000000  27756.000000   \n",
       "\n",
       "                MIT  \n",
       "count   2500.000000  \n",
       "mean    2326.210800  \n",
       "std     4696.423124  \n",
       "min        0.000000  \n",
       "25%        0.000000  \n",
       "50%      242.500000  \n",
       "75%     1708.500000  \n",
       "max    41092.000000  "
      ]
     },
     "execution_count": 3,
     "metadata": {},
     "output_type": "execute_result"
    }
   ],
   "source": [
    "scoreboards.describe()"
   ]
  },
  {
   "cell_type": "code",
   "execution_count": 4,
   "id": "b2e1a544-0e3b-4be1-abf2-4c324887ce28",
   "metadata": {
    "scrolled": true
   },
   "outputs": [],
   "source": [
    "import matplotlib as mpl\n",
    "import matplotlib.pyplot as plt\n",
    "\n",
    "mpl.rc('axes', labelsize=14)\n",
    "mpl.rc('xtick', labelsize=12)\n",
    "mpl.rc('ytick', labelsize=12)\n",
    "IMAGES_PATH = os.path.join('.', 'images')\n",
    "os.makedirs(IMAGES_PATH, exist_ok=True)\n",
    "\n",
    "\n",
    "def save_fig(fig_id, tight_layout=True, fig_extension='png', resolution=300):\n",
    "    path = os.path.join(IMAGES_PATH, fig_id + '.' + fig_extension)\n",
    "    print('그림 저장:' + fig_id)\n",
    "    if tight_layout:\n",
    "        plt.tight_layout()\n",
    "    plt.savefig(path, dpi=resolution, format=fig_extension)"
   ]
  },
  {
   "cell_type": "code",
   "execution_count": 5,
   "id": "0aeb4436-9d57-41bd-ab88-a4c985255633",
   "metadata": {
    "scrolled": true
   },
   "outputs": [],
   "source": [
    "tank = scoreboards[::players]\n",
    "damage = pd.concat([scoreboards[1::players], scoreboards[2::players]])\n",
    "support = pd.concat([scoreboards[3::players], scoreboards[4::players]])"
   ]
  },
  {
   "cell_type": "code",
   "execution_count": 6,
   "id": "cbe2f0d8-6a73-4cd6-9c1e-b7b4798dcf02",
   "metadata": {
    "scrolled": true
   },
   "outputs": [
    {
     "name": "stdout",
     "output_type": "stream",
     "text": [
      "그림 저장:tank_hist\n"
     ]
    },
    {
     "data": {
      "image/png": "[encoded data removed]",
      "text/plain": [
       "<Figure size 2000x1500 with 6 Axes>"
      ]
     },
     "metadata": {},
     "output_type": "display_data"
    }
   ],
   "source": [
    "tank.hist(bins=50, figsize=(20, 15))\n",
    "save_fig('tank_hist')\n",
    "plt.show()"
   ]
  },
  {
   "cell_type": "code",
   "execution_count": 7,
   "id": "0a5a815e-1603-4118-9167-a410f89fbcf6",
   "metadata": {
    "scrolled": true
   },
   "outputs": [
    {
     "name": "stdout",
     "output_type": "stream",
     "text": [
      "그림 저장:damage_hist\n"
     ]
    },
    {
     "data": {
      "image/png": "[encoded data removed]",
      "text/plain": [
       "<Figure size 2000x1500 with 6 Axes>"
      ]
     },
     "metadata": {},
     "output_type": "display_data"
    }
   ],
   "source": [
    "damage.hist(bins=50, figsize=(20, 15))\n",
    "save_fig('damage_hist')\n",
    "plt.show()"
   ]
  },
  {
   "cell_type": "code",
   "execution_count": 8,
   "id": "a699a942-f2ba-4c14-84ff-4be26dc365bd",
   "metadata": {
    "scrolled": true
   },
   "outputs": [
    {
     "name": "stdout",
     "output_type": "stream",
     "text": [
      "그림 저장:support_hist\n"
     ]
    },
    {
     "data": {
      "image/png": "[encoded data removed]",
      "text/plain": [
       "<Figure size 2000x1500 with 6 Axes>"
      ]
     },
     "metadata": {},
     "output_type": "display_data"
    }
   ],
   "source": [
    "support.hist(bins=50, figsize=(20, 15))\n",
    "save_fig('support_hist')\n",
    "plt.show()"
   ]
  },
  {
   "cell_type": "code",
   "execution_count": 9,
   "id": "46c2e1ab-a728-4bc6-bf04-350bd55b5ed4",
   "metadata": {
    "scrolled": true
   },
   "outputs": [
    {
     "data": {
      "text/html": [
       "<div>\n",
       "<style scoped>\n",
       "    .dataframe tbody tr th:only-of-type {\n",
       "        vertical-align: middle;\n",
       "    }\n",
       "\n",
       "    .dataframe tbody tr th {\n",
       "        vertical-align: top;\n",
       "    }\n",
       "\n",
       "    .dataframe thead th {\n",
       "        text-align: right;\n",
       "    }\n",
       "</style>\n",
       "<table border=\"1\" class=\"dataframe\">\n",
       "  <thead>\n",
       "    <tr style=\"text-align: right;\">\n",
       "      <th></th>\n",
       "      <th></th>\n",
       "      <th>E</th>\n",
       "      <th>A</th>\n",
       "      <th>D</th>\n",
       "      <th>DMG</th>\n",
       "      <th>H</th>\n",
       "      <th>MIT</th>\n",
       "      <th>GAME</th>\n",
       "    </tr>\n",
       "  </thead>\n",
       "  <tbody>\n",
       "    <tr>\n",
       "      <th rowspan=\"5\" valign=\"top\">126</th>\n",
       "      <th>0</th>\n",
       "      <td>7</td>\n",
       "      <td>2</td>\n",
       "      <td>2</td>\n",
       "      <td>7838</td>\n",
       "      <td>4541</td>\n",
       "      <td>1318</td>\n",
       "      <td>VICTORY</td>\n",
       "    </tr>\n",
       "    <tr>\n",
       "      <th>1</th>\n",
       "      <td>11</td>\n",
       "      <td>0</td>\n",
       "      <td>4</td>\n",
       "      <td>9162</td>\n",
       "      <td>0</td>\n",
       "      <td>570</td>\n",
       "      <td>VICTORY</td>\n",
       "    </tr>\n",
       "    <tr>\n",
       "      <th>2</th>\n",
       "      <td>17</td>\n",
       "      <td>0</td>\n",
       "      <td>4</td>\n",
       "      <td>9152</td>\n",
       "      <td>0</td>\n",
       "      <td>2287</td>\n",
       "      <td>VICTORY</td>\n",
       "    </tr>\n",
       "    <tr>\n",
       "      <th>3</th>\n",
       "      <td>6</td>\n",
       "      <td>9</td>\n",
       "      <td>1</td>\n",
       "      <td>2997</td>\n",
       "      <td>5168</td>\n",
       "      <td>0</td>\n",
       "      <td>VICTORY</td>\n",
       "    </tr>\n",
       "    <tr>\n",
       "      <th>4</th>\n",
       "      <td>2</td>\n",
       "      <td>13</td>\n",
       "      <td>1</td>\n",
       "      <td>166</td>\n",
       "      <td>9094</td>\n",
       "      <td>330</td>\n",
       "      <td>VICTORY</td>\n",
       "    </tr>\n",
       "    <tr>\n",
       "      <th>...</th>\n",
       "      <th>...</th>\n",
       "      <td>...</td>\n",
       "      <td>...</td>\n",
       "      <td>...</td>\n",
       "      <td>...</td>\n",
       "      <td>...</td>\n",
       "      <td>...</td>\n",
       "      <td>...</td>\n",
       "    </tr>\n",
       "    <tr>\n",
       "      <th rowspan=\"5\" valign=\"top\">23</th>\n",
       "      <th>5</th>\n",
       "      <td>41</td>\n",
       "      <td>16</td>\n",
       "      <td>14</td>\n",
       "      <td>24682</td>\n",
       "      <td>0</td>\n",
       "      <td>25529</td>\n",
       "      <td>VICTORY</td>\n",
       "    </tr>\n",
       "    <tr>\n",
       "      <th>6</th>\n",
       "      <td>45</td>\n",
       "      <td>12</td>\n",
       "      <td>11</td>\n",
       "      <td>19804</td>\n",
       "      <td>2748</td>\n",
       "      <td>0</td>\n",
       "      <td>VICTORY</td>\n",
       "    </tr>\n",
       "    <tr>\n",
       "      <th>7</th>\n",
       "      <td>47</td>\n",
       "      <td>0</td>\n",
       "      <td>16</td>\n",
       "      <td>26666</td>\n",
       "      <td>2566</td>\n",
       "      <td>142</td>\n",
       "      <td>VICTORY</td>\n",
       "    </tr>\n",
       "    <tr>\n",
       "      <th>8</th>\n",
       "      <td>19</td>\n",
       "      <td>44</td>\n",
       "      <td>9</td>\n",
       "      <td>6281</td>\n",
       "      <td>24081</td>\n",
       "      <td>0</td>\n",
       "      <td>VICTORY</td>\n",
       "    </tr>\n",
       "    <tr>\n",
       "      <th>9</th>\n",
       "      <td>31</td>\n",
       "      <td>28</td>\n",
       "      <td>8</td>\n",
       "      <td>9749</td>\n",
       "      <td>14991</td>\n",
       "      <td>592</td>\n",
       "      <td>VICTORY</td>\n",
       "    </tr>\n",
       "  </tbody>\n",
       "</table>\n",
       "<p>2500 rows × 7 columns</p>\n",
       "</div>"
      ],
      "text/plain": [
       "        E   A   D    DMG      H    MIT     GAME\n",
       "126 0   7   2   2   7838   4541   1318  VICTORY\n",
       "    1  11   0   4   9162      0    570  VICTORY\n",
       "    2  17   0   4   9152      0   2287  VICTORY\n",
       "    3   6   9   1   2997   5168      0  VICTORY\n",
       "    4   2  13   1    166   9094    330  VICTORY\n",
       "...    ..  ..  ..    ...    ...    ...      ...\n",
       "23  5  41  16  14  24682      0  25529  VICTORY\n",
       "    6  45  12  11  19804   2748      0  VICTORY\n",
       "    7  47   0  16  26666   2566    142  VICTORY\n",
       "    8  19  44   9   6281  24081      0  VICTORY\n",
       "    9  31  28   8   9749  14991    592  VICTORY\n",
       "\n",
       "[2500 rows x 7 columns]"
      ]
     },
     "execution_count": 9,
     "metadata": {},
     "output_type": "execute_result"
    }
   ],
   "source": [
    "from sklearn.utils import shuffle\n",
    "\n",
    "index = scoreboards.index\n",
    "train_set = scoreboards.loc[shuffle(range(len(index) // players))]\n",
    "train_set"
   ]
  },
  {
   "cell_type": "code",
   "execution_count": 10,
   "id": "62f9dcd6-0aad-4562-b41a-a3e40e4de1b1",
   "metadata": {
    "scrolled": true
   },
   "outputs": [],
   "source": [
    "scoreboards = train_set.drop('GAME', axis=1)\n",
    "scoreboards_labels = train_set['GAME'].copy()"
   ]
  },
  {
   "cell_type": "code",
   "execution_count": 11,
   "id": "bc50e1db-2f72-4bfb-8c17-ef6324767a8f",
   "metadata": {
    "scrolled": true
   },
   "outputs": [
    {
     "data": {
      "text/html": [
       "<div>\n",
       "<style scoped>\n",
       "    .dataframe tbody tr th:only-of-type {\n",
       "        vertical-align: middle;\n",
       "    }\n",
       "\n",
       "    .dataframe tbody tr th {\n",
       "        vertical-align: top;\n",
       "    }\n",
       "\n",
       "    .dataframe thead th {\n",
       "        text-align: right;\n",
       "    }\n",
       "</style>\n",
       "<table border=\"1\" class=\"dataframe\">\n",
       "  <thead>\n",
       "    <tr style=\"text-align: right;\">\n",
       "      <th></th>\n",
       "      <th></th>\n",
       "      <th>E</th>\n",
       "      <th>A</th>\n",
       "      <th>D</th>\n",
       "      <th>DMG</th>\n",
       "      <th>H</th>\n",
       "      <th>MIT</th>\n",
       "    </tr>\n",
       "  </thead>\n",
       "  <tbody>\n",
       "    <tr>\n",
       "      <th rowspan=\"5\" valign=\"top\">0</th>\n",
       "      <th>0</th>\n",
       "      <td>0.125000</td>\n",
       "      <td>0.041667</td>\n",
       "      <td>0.095238</td>\n",
       "      <td>0.267016</td>\n",
       "      <td>0.163604</td>\n",
       "      <td>0.032074</td>\n",
       "    </tr>\n",
       "    <tr>\n",
       "      <th>1</th>\n",
       "      <td>0.196429</td>\n",
       "      <td>0.000000</td>\n",
       "      <td>0.190476</td>\n",
       "      <td>0.312121</td>\n",
       "      <td>0.000000</td>\n",
       "      <td>0.013871</td>\n",
       "    </tr>\n",
       "    <tr>\n",
       "      <th>2</th>\n",
       "      <td>0.303571</td>\n",
       "      <td>0.000000</td>\n",
       "      <td>0.190476</td>\n",
       "      <td>0.311780</td>\n",
       "      <td>0.000000</td>\n",
       "      <td>0.055656</td>\n",
       "    </tr>\n",
       "    <tr>\n",
       "      <th>3</th>\n",
       "      <td>0.107143</td>\n",
       "      <td>0.187500</td>\n",
       "      <td>0.047619</td>\n",
       "      <td>0.102099</td>\n",
       "      <td>0.186194</td>\n",
       "      <td>0.000000</td>\n",
       "    </tr>\n",
       "    <tr>\n",
       "      <th>4</th>\n",
       "      <td>0.035714</td>\n",
       "      <td>0.270833</td>\n",
       "      <td>0.047619</td>\n",
       "      <td>0.005655</td>\n",
       "      <td>0.327641</td>\n",
       "      <td>0.008031</td>\n",
       "    </tr>\n",
       "    <tr>\n",
       "      <th>...</th>\n",
       "      <th>...</th>\n",
       "      <td>...</td>\n",
       "      <td>...</td>\n",
       "      <td>...</td>\n",
       "      <td>...</td>\n",
       "      <td>...</td>\n",
       "      <td>...</td>\n",
       "    </tr>\n",
       "    <tr>\n",
       "      <th rowspan=\"5\" valign=\"top\">249</th>\n",
       "      <th>5</th>\n",
       "      <td>0.732143</td>\n",
       "      <td>0.333333</td>\n",
       "      <td>0.666667</td>\n",
       "      <td>0.840839</td>\n",
       "      <td>0.000000</td>\n",
       "      <td>0.621264</td>\n",
       "    </tr>\n",
       "    <tr>\n",
       "      <th>6</th>\n",
       "      <td>0.803571</td>\n",
       "      <td>0.250000</td>\n",
       "      <td>0.523810</td>\n",
       "      <td>0.674661</td>\n",
       "      <td>0.099006</td>\n",
       "      <td>0.000000</td>\n",
       "    </tr>\n",
       "    <tr>\n",
       "      <th>7</th>\n",
       "      <td>0.839286</td>\n",
       "      <td>0.000000</td>\n",
       "      <td>0.761905</td>\n",
       "      <td>0.908428</td>\n",
       "      <td>0.092448</td>\n",
       "      <td>0.003456</td>\n",
       "    </tr>\n",
       "    <tr>\n",
       "      <th>8</th>\n",
       "      <td>0.339286</td>\n",
       "      <td>0.916667</td>\n",
       "      <td>0.428571</td>\n",
       "      <td>0.213974</td>\n",
       "      <td>0.867596</td>\n",
       "      <td>0.000000</td>\n",
       "    </tr>\n",
       "    <tr>\n",
       "      <th>9</th>\n",
       "      <td>0.553571</td>\n",
       "      <td>0.583333</td>\n",
       "      <td>0.380952</td>\n",
       "      <td>0.332118</td>\n",
       "      <td>0.540099</td>\n",
       "      <td>0.014407</td>\n",
       "    </tr>\n",
       "  </tbody>\n",
       "</table>\n",
       "<p>2500 rows × 6 columns</p>\n",
       "</div>"
      ],
      "text/plain": [
       "              E         A         D       DMG         H       MIT\n",
       "0   0  0.125000  0.041667  0.095238  0.267016  0.163604  0.032074\n",
       "    1  0.196429  0.000000  0.190476  0.312121  0.000000  0.013871\n",
       "    2  0.303571  0.000000  0.190476  0.311780  0.000000  0.055656\n",
       "    3  0.107143  0.187500  0.047619  0.102099  0.186194  0.000000\n",
       "    4  0.035714  0.270833  0.047619  0.005655  0.327641  0.008031\n",
       "...         ...       ...       ...       ...       ...       ...\n",
       "249 5  0.732143  0.333333  0.666667  0.840839  0.000000  0.621264\n",
       "    6  0.803571  0.250000  0.523810  0.674661  0.099006  0.000000\n",
       "    7  0.839286  0.000000  0.761905  0.908428  0.092448  0.003456\n",
       "    8  0.339286  0.916667  0.428571  0.213974  0.867596  0.000000\n",
       "    9  0.553571  0.583333  0.380952  0.332118  0.540099  0.014407\n",
       "\n",
       "[2500 rows x 6 columns]"
      ]
     },
     "execution_count": 11,
     "metadata": {},
     "output_type": "execute_result"
    }
   ],
   "source": [
    "from sklearn.preprocessing import MinMaxScaler\n",
    "\n",
    "scaler = MinMaxScaler()\n",
    "X = scaler.fit_transform(scoreboards)\n",
    "scoreboards_tr = pd.DataFrame(X, index, scoreboards.columns)\n",
    "scoreboards_tr"
   ]
  },
  {
   "cell_type": "code",
   "execution_count": 12,
   "id": "f91bd773-8946-4639-a2ae-f2357d906129",
   "metadata": {
    "scrolled": true
   },
   "outputs": [
    {
     "data": {
      "text/plain": [
       "array([[0.125     , 0.04166667, 0.0952381 , ..., 0.00626831, 0.43583369,\n",
       "        0.01148642],\n",
       "       [0.08928571, 0.02083333, 0.28571429, ..., 0.08949377, 0.1978311 ,\n",
       "        0.01036698],\n",
       "       [0.125     , 0.04166667, 0.28571429, ..., 0.04742114, 0.18565355,\n",
       "        0.03650346],\n",
       "       ...,\n",
       "       [0.55357143, 0.3125    , 0.23809524, ..., 0.17486544, 0.63247586,\n",
       "        0.00732503],\n",
       "       [0.17857143, 0.02083333, 0.38095238, ..., 0.05382571, 0.26923908,\n",
       "        0.01099971],\n",
       "       [0.75      , 0.33333333, 0.66666667, ..., 0.33211828, 0.54009944,\n",
       "        0.0144067 ]])"
      ]
     },
     "execution_count": 12,
     "metadata": {},
     "output_type": "execute_result"
    }
   ],
   "source": [
    "features = X.shape[-1]\n",
    "X = X.reshape(-1, players * features)\n",
    "X"
   ]
  },
  {
   "cell_type": "code",
   "execution_count": 13,
   "id": "b4a6414b-fa23-453a-9201-948ed8a6daa5",
   "metadata": {
    "scrolled": true
   },
   "outputs": [
    {
     "data": {
      "text/html": [
       "<div>\n",
       "<style scoped>\n",
       "    .dataframe tbody tr th:only-of-type {\n",
       "        vertical-align: middle;\n",
       "    }\n",
       "\n",
       "    .dataframe tbody tr th {\n",
       "        vertical-align: top;\n",
       "    }\n",
       "\n",
       "    .dataframe thead th {\n",
       "        text-align: right;\n",
       "    }\n",
       "</style>\n",
       "<table border=\"1\" class=\"dataframe\">\n",
       "  <thead>\n",
       "    <tr style=\"text-align: right;\">\n",
       "      <th></th>\n",
       "      <th></th>\n",
       "      <th>E</th>\n",
       "      <th>A</th>\n",
       "      <th>D</th>\n",
       "      <th>DMG</th>\n",
       "      <th>H</th>\n",
       "      <th>MIT</th>\n",
       "    </tr>\n",
       "  </thead>\n",
       "  <tbody>\n",
       "    <tr>\n",
       "      <th rowspan=\"10\" valign=\"top\">0</th>\n",
       "      <th>0</th>\n",
       "      <td>0.125000</td>\n",
       "      <td>0.041667</td>\n",
       "      <td>0.095238</td>\n",
       "      <td>0.267016</td>\n",
       "      <td>0.163604</td>\n",
       "      <td>0.032074</td>\n",
       "    </tr>\n",
       "    <tr>\n",
       "      <th>1</th>\n",
       "      <td>0.196429</td>\n",
       "      <td>0.000000</td>\n",
       "      <td>0.190476</td>\n",
       "      <td>0.312121</td>\n",
       "      <td>0.000000</td>\n",
       "      <td>0.013871</td>\n",
       "    </tr>\n",
       "    <tr>\n",
       "      <th>2</th>\n",
       "      <td>0.303571</td>\n",
       "      <td>0.000000</td>\n",
       "      <td>0.190476</td>\n",
       "      <td>0.311780</td>\n",
       "      <td>0.000000</td>\n",
       "      <td>0.055656</td>\n",
       "    </tr>\n",
       "    <tr>\n",
       "      <th>3</th>\n",
       "      <td>0.107143</td>\n",
       "      <td>0.187500</td>\n",
       "      <td>0.047619</td>\n",
       "      <td>0.102099</td>\n",
       "      <td>0.186194</td>\n",
       "      <td>0.000000</td>\n",
       "    </tr>\n",
       "    <tr>\n",
       "      <th>4</th>\n",
       "      <td>0.035714</td>\n",
       "      <td>0.270833</td>\n",
       "      <td>0.047619</td>\n",
       "      <td>0.005655</td>\n",
       "      <td>0.327641</td>\n",
       "      <td>0.008031</td>\n",
       "    </tr>\n",
       "    <tr>\n",
       "      <th>5</th>\n",
       "      <td>0.089286</td>\n",
       "      <td>0.000000</td>\n",
       "      <td>0.190476</td>\n",
       "      <td>0.242454</td>\n",
       "      <td>0.000000</td>\n",
       "      <td>0.177042</td>\n",
       "    </tr>\n",
       "    <tr>\n",
       "      <th>6</th>\n",
       "      <td>0.107143</td>\n",
       "      <td>0.020833</td>\n",
       "      <td>0.238095</td>\n",
       "      <td>0.266880</td>\n",
       "      <td>0.000000</td>\n",
       "      <td>0.000000</td>\n",
       "    </tr>\n",
       "    <tr>\n",
       "      <th>7</th>\n",
       "      <td>0.125000</td>\n",
       "      <td>0.020833</td>\n",
       "      <td>0.285714</td>\n",
       "      <td>0.238741</td>\n",
       "      <td>0.000000</td>\n",
       "      <td>0.000000</td>\n",
       "    </tr>\n",
       "    <tr>\n",
       "      <th>8</th>\n",
       "      <td>0.053571</td>\n",
       "      <td>0.083333</td>\n",
       "      <td>0.238095</td>\n",
       "      <td>0.078218</td>\n",
       "      <td>0.278138</td>\n",
       "      <td>0.010854</td>\n",
       "    </tr>\n",
       "    <tr>\n",
       "      <th>9</th>\n",
       "      <td>0.000000</td>\n",
       "      <td>0.083333</td>\n",
       "      <td>0.142857</td>\n",
       "      <td>0.006268</td>\n",
       "      <td>0.435834</td>\n",
       "      <td>0.011486</td>\n",
       "    </tr>\n",
       "  </tbody>\n",
       "</table>\n",
       "</div>"
      ],
      "text/plain": [
       "            E         A         D       DMG         H       MIT\n",
       "0 0  0.125000  0.041667  0.095238  0.267016  0.163604  0.032074\n",
       "  1  0.196429  0.000000  0.190476  0.312121  0.000000  0.013871\n",
       "  2  0.303571  0.000000  0.190476  0.311780  0.000000  0.055656\n",
       "  3  0.107143  0.187500  0.047619  0.102099  0.186194  0.000000\n",
       "  4  0.035714  0.270833  0.047619  0.005655  0.327641  0.008031\n",
       "  5  0.089286  0.000000  0.190476  0.242454  0.000000  0.177042\n",
       "  6  0.107143  0.020833  0.238095  0.266880  0.000000  0.000000\n",
       "  7  0.125000  0.020833  0.285714  0.238741  0.000000  0.000000\n",
       "  8  0.053571  0.083333  0.238095  0.078218  0.278138  0.010854\n",
       "  9  0.000000  0.083333  0.142857  0.006268  0.435834  0.011486"
      ]
     },
     "execution_count": 13,
     "metadata": {},
     "output_type": "execute_result"
    }
   ],
   "source": [
    "scoreboards_tr[:10]"
   ]
  },
  {
   "cell_type": "code",
   "execution_count": 14,
   "id": "20e0c802-a707-4bc7-a7cb-2a77bf4c2211",
   "metadata": {
    "scrolled": true
   },
   "outputs": [
    {
     "data": {
      "text/plain": [
       "(250, 60)"
      ]
     },
     "execution_count": 14,
     "metadata": {},
     "output_type": "execute_result"
    }
   ],
   "source": [
    "X.shape"
   ]
  },
  {
   "cell_type": "code",
   "execution_count": 15,
   "id": "14caeeeb-747a-451a-ae2b-ca20011c6dd6",
   "metadata": {
    "scrolled": true
   },
   "outputs": [
    {
     "data": {
      "text/plain": [
       "126  0    VICTORY\n",
       "43   0     DEFEAT\n",
       "62   0     DEFEAT\n",
       "183  0    VICTORY\n",
       "218  0    VICTORY\n",
       "           ...   \n",
       "51   0     DEFEAT\n",
       "3    0     DEFEAT\n",
       "27   0     DEFEAT\n",
       "10   0     DEFEAT\n",
       "23   0     DEFEAT\n",
       "Name: GAME, Length: 250, dtype: object"
      ]
     },
     "execution_count": 15,
     "metadata": {},
     "output_type": "execute_result"
    }
   ],
   "source": [
    "y = scoreboards_labels[::players]\n",
    "y"
   ]
  },
  {
   "cell_type": "code",
   "execution_count": 16,
   "id": "d1b68801-de99-4898-aaba-a5098b544086",
   "metadata": {
    "scrolled": true
   },
   "outputs": [
    {
     "data": {
      "text/plain": [
       "(250,)"
      ]
     },
     "execution_count": 16,
     "metadata": {},
     "output_type": "execute_result"
    }
   ],
   "source": [
    "y.shape"
   ]
  },
  {
   "cell_type": "code",
   "execution_count": 17,
   "id": "b758307c-f409-427c-8627-6798236d9d17",
   "metadata": {
    "scrolled": true
   },
   "outputs": [
    {
     "data": {
      "text/plain": [
       "[(SVC(), 0.916),\n",
       " (LogisticRegression(max_iter=400, n_jobs=-1), 0.908),\n",
       " (ExtraTreesClassifier(n_jobs=-1), 0.9),\n",
       " (LogisticRegressionCV(max_iter=400, n_jobs=-1), 0.9),\n",
       " (RidgeClassifier(), 0.9),\n",
       " (RidgeClassifierCV(), 0.9),\n",
       " (SGDClassifier(n_jobs=-1), 0.9),\n",
       " (LinearSVC(dual='auto'), 0.9),\n",
       " (RandomForestClassifier(n_jobs=-1), 0.8880000000000001),\n",
       " (MLPClassifier(max_iter=1600), 0.8880000000000001),\n",
       " (NearestCentroid(), 0.884),\n",
       " (Perceptron(n_jobs=-1), 0.8800000000000001),\n",
       " (KNeighborsClassifier(n_jobs=-1), 0.8800000000000001),\n",
       " (NuSVC(nu=0.0625), 0.8800000000000001),\n",
       " (GradientBoostingClassifier(), 0.876),\n",
       " (HistGradientBoostingClassifier(), 0.876),\n",
       " (BaggingClassifier(n_jobs=-1), 0.8640000000000001),\n",
       " (PassiveAggressiveClassifier(n_jobs=-1), 0.8560000000000001),\n",
       " (DecisionTreeClassifier(), 0.808),\n",
       " (ExtraTreeClassifier(), 0.76),\n",
       " (RadiusNeighborsClassifier(n_jobs=-1, radius=2.0), 0.6399999999999999),\n",
       " (AdaBoostClassifier(), 0.632)]"
      ]
     },
     "execution_count": 17,
     "metadata": {},
     "output_type": "execute_result"
    }
   ],
   "source": [
    "from sklearn import ensemble, linear_model, neighbors, neural_network, svm, tree\n",
    "from sklearn.model_selection import cross_val_score\n",
    "from operator import itemgetter\n",
    "\n",
    "estimators = (\n",
    "    ensemble.AdaBoostClassifier(),\n",
    "    ensemble.BaggingClassifier(n_jobs=-1),\n",
    "    ensemble.ExtraTreesClassifier(n_jobs=-1),\n",
    "    ensemble.GradientBoostingClassifier(),\n",
    "    ensemble.RandomForestClassifier(n_jobs=-1),\n",
    "    ensemble.HistGradientBoostingClassifier(),\n",
    "    linear_model.LogisticRegression(max_iter=400, n_jobs=-1),\n",
    "    linear_model.LogisticRegressionCV(max_iter=400, n_jobs=-1),\n",
    "    linear_model.PassiveAggressiveClassifier(n_jobs=-1),\n",
    "    linear_model.Perceptron(n_jobs=-1),\n",
    "    linear_model.RidgeClassifier(),\n",
    "    linear_model.RidgeClassifierCV(),\n",
    "    linear_model.SGDClassifier(n_jobs=-1),\n",
    "    neighbors.KNeighborsClassifier(n_jobs=-1),\n",
    "    neighbors.RadiusNeighborsClassifier(2., n_jobs=-1),\n",
    "    neighbors.NearestCentroid(),\n",
    "    neural_network.MLPClassifier(max_iter=1600),\n",
    "    svm.LinearSVC(dual='auto'),\n",
    "    svm.NuSVC(nu=.0625),\n",
    "    svm.SVC(),\n",
    "    tree.DecisionTreeClassifier(),\n",
    "    tree.ExtraTreeClassifier()\n",
    ")\n",
    "scores = [(estimator, cross_val_score(estimator, X, y, n_jobs=-1).mean()) for estimator in estimators]\n",
    "scores.sort(key=itemgetter(1), reverse=True)\n",
    "scores"
   ]
  },
  {
   "cell_type": "code",
   "execution_count": 18,
   "id": "491f4ab4-e496-48e8-af12-fd77f062cf66",
   "metadata": {
    "scrolled": true
   },
   "outputs": [
    {
     "name": "stdout",
     "output_type": "stream",
     "text": [
      "ExtraTreesClassifier(n_jobs=-1)\n",
      "\n",
      "**역할 중요도**\n",
      "돌격 1인: 28%\n",
      "지원 1인: 18%\n",
      "공격 1인: 18%\n",
      "\n",
      "**특성 중요도**\n",
      "처치: 29%\n",
      "죽음: 27%\n",
      "도움: 19%\n",
      "피해: 10%\n",
      "치유: 8%\n",
      "경감: 6%\n",
      "\n",
      "**돌격 1인 특성 중요도**\n",
      "처치: 10%\n",
      "죽음: 9%\n",
      "도움: 4%\n",
      "피해: 3%\n",
      "경감: 1%\n",
      "치유: 1%\n",
      "\n",
      "**공격 1인 특성 중요도**\n",
      "처치: 7%\n",
      "죽음: 4%\n",
      "피해: 2%\n",
      "치유: 2%\n",
      "도움: 1%\n",
      "경감: 1%\n",
      "\n",
      "**지원 1인 특성 중요도**\n",
      "도움: 6%\n",
      "죽음: 5%\n",
      "처치: 3%\n",
      "치유: 2%\n",
      "피해: 2%\n",
      "경감: 1%\n"
     ]
    }
   ],
   "source": [
    "for estimator, _ in scores:\n",
    "    estimator = estimator.fit(X, y)\n",
    "    if hasattr(estimator, 'feature_importances_'):\n",
    "        print(estimator)\n",
    "        importances = estimator.feature_importances_.reshape(-1, features)\n",
    "\n",
    "        tanks = importances[[0, 5]]\n",
    "        damages = importances[[1, 2, 6, 7]]\n",
    "        supports = importances[[3, 4, 8, 9]]\n",
    "\n",
    "        items = '돌격 1인', '공격 1인', '지원 1인'\n",
    "\n",
    "        print('\\n**역할 중요도**')\n",
    "        roles = tanks.sum(), damages.sum() / 2, supports.sum() / 2\n",
    "        for s, f in sorted(zip(roles, items), reverse=True):\n",
    "            print(f'{f}: {s * 100:.0f}%')\n",
    "\n",
    "        items = '처치', '도움', '죽음', '피해', '치유', '경감'\n",
    "\n",
    "        print('\\n**특성 중요도**')\n",
    "        for s, f in sorted(zip(importances.sum(0), items), reverse=True):\n",
    "            print(f'{f}: {s * 100:.0f}%')\n",
    "        \n",
    "        print('\\n**돌격 1인 특성 중요도**')\n",
    "        for s, f in sorted(zip(tanks.sum(0), items), reverse=True):\n",
    "            print(f'{f}: {s * 100:.0f}%')\n",
    "\n",
    "        print('\\n**공격 1인 특성 중요도**')\n",
    "        for s, f in sorted(zip(damages.sum(0) / 2, items), reverse=True):\n",
    "            print(f'{f}: {s * 100:.0f}%')\n",
    "\n",
    "        print('\\n**지원 1인 특성 중요도**')\n",
    "        for s, f in sorted(zip(supports.sum(0) / 2, items), reverse=True):\n",
    "            print(f'{f}: {s * 100:.0f}%')\n",
    "\n",
    "        break"
   ]
  },
  {
   "cell_type": "code",
   "execution_count": 38,
   "id": "26be6ef0-aa10-44d8-8c44-9a5e17e3bc6b",
   "metadata": {
    "scrolled": true
   },
   "outputs": [
    {
     "name": "stdout",
     "output_type": "stream",
     "text": [
      "63\n",
      "-63\n"
     ]
    },
    {
     "data": {
      "text/html": [
       "<div>\n",
       "<style scoped>\n",
       "    .dataframe tbody tr th:only-of-type {\n",
       "        vertical-align: middle;\n",
       "    }\n",
       "\n",
       "    .dataframe tbody tr th {\n",
       "        vertical-align: top;\n",
       "    }\n",
       "\n",
       "    .dataframe thead th {\n",
       "        text-align: right;\n",
       "    }\n",
       "</style>\n",
       "<table border=\"1\" class=\"dataframe\">\n",
       "  <thead>\n",
       "    <tr style=\"text-align: right;\">\n",
       "      <th></th>\n",
       "      <th></th>\n",
       "      <th>E</th>\n",
       "      <th>A</th>\n",
       "      <th>D</th>\n",
       "      <th>DMG</th>\n",
       "      <th>H</th>\n",
       "      <th>MIT</th>\n",
       "    </tr>\n",
       "  </thead>\n",
       "  <tbody>\n",
       "    <tr>\n",
       "      <th rowspan=\"10\" valign=\"top\">62</th>\n",
       "      <th>0</th>\n",
       "      <td>7</td>\n",
       "      <td>2</td>\n",
       "      <td>6</td>\n",
       "      <td>6671</td>\n",
       "      <td>0</td>\n",
       "      <td>6965</td>\n",
       "    </tr>\n",
       "    <tr>\n",
       "      <th>1</th>\n",
       "      <td>8</td>\n",
       "      <td>0</td>\n",
       "      <td>3</td>\n",
       "      <td>3519</td>\n",
       "      <td>0</td>\n",
       "      <td>0</td>\n",
       "    </tr>\n",
       "    <tr>\n",
       "      <th>2</th>\n",
       "      <td>8</td>\n",
       "      <td>1</td>\n",
       "      <td>7</td>\n",
       "      <td>3840</td>\n",
       "      <td>13</td>\n",
       "      <td>0</td>\n",
       "    </tr>\n",
       "    <tr>\n",
       "      <th>3</th>\n",
       "      <td>4</td>\n",
       "      <td>4</td>\n",
       "      <td>6</td>\n",
       "      <td>1228</td>\n",
       "      <td>6054</td>\n",
       "      <td>1280</td>\n",
       "    </tr>\n",
       "    <tr>\n",
       "      <th>4</th>\n",
       "      <td>1</td>\n",
       "      <td>6</td>\n",
       "      <td>8</td>\n",
       "      <td>1298</td>\n",
       "      <td>4741</td>\n",
       "      <td>0</td>\n",
       "    </tr>\n",
       "    <tr>\n",
       "      <th>5</th>\n",
       "      <td>13</td>\n",
       "      <td>1</td>\n",
       "      <td>4</td>\n",
       "      <td>4068</td>\n",
       "      <td>0</td>\n",
       "      <td>10024</td>\n",
       "    </tr>\n",
       "    <tr>\n",
       "      <th>6</th>\n",
       "      <td>18</td>\n",
       "      <td>0</td>\n",
       "      <td>3</td>\n",
       "      <td>4216</td>\n",
       "      <td>896</td>\n",
       "      <td>0</td>\n",
       "    </tr>\n",
       "    <tr>\n",
       "      <th>7</th>\n",
       "      <td>20</td>\n",
       "      <td>0</td>\n",
       "      <td>2</td>\n",
       "      <td>7129</td>\n",
       "      <td>282</td>\n",
       "      <td>0</td>\n",
       "    </tr>\n",
       "    <tr>\n",
       "      <th>8</th>\n",
       "      <td>19</td>\n",
       "      <td>15</td>\n",
       "      <td>2</td>\n",
       "      <td>4447</td>\n",
       "      <td>5509</td>\n",
       "      <td>0</td>\n",
       "    </tr>\n",
       "    <tr>\n",
       "      <th>9</th>\n",
       "      <td>7</td>\n",
       "      <td>9</td>\n",
       "      <td>2</td>\n",
       "      <td>1392</td>\n",
       "      <td>5153</td>\n",
       "      <td>1500</td>\n",
       "    </tr>\n",
       "  </tbody>\n",
       "</table>\n",
       "</div>"
      ],
      "text/plain": [
       "       E   A  D   DMG     H    MIT\n",
       "62 0   7   2  6  6671     0   6965\n",
       "   1   8   0  3  3519     0      0\n",
       "   2   8   1  7  3840    13      0\n",
       "   3   4   4  6  1228  6054   1280\n",
       "   4   1   6  8  1298  4741      0\n",
       "   5  13   1  4  4068     0  10024\n",
       "   6  18   0  3  4216   896      0\n",
       "   7  20   0  2  7129   282      0\n",
       "   8  19  15  2  4447  5509      0\n",
       "   9   7   9  2  1392  5153   1500"
      ]
     },
     "execution_count": 38,
     "metadata": {},
     "output_type": "execute_result"
    }
   ],
   "source": [
    "i = 2\n",
    "scoreboard = scoreboards[i * 10:i * 10 + 10]\n",
    "print(scoreboard.index[0][0] + 1)\n",
    "print(scoreboard.index[0][0] - len(defeat) // players - len(draw) // players + 1)\n",
    "scoreboard"
   ]
  },
  {
   "cell_type": "code",
   "execution_count": 39,
   "id": "10a2990a-68b9-4f99-a0a5-17aafcf61529",
   "metadata": {
    "scrolled": true
   },
   "outputs": [],
   "source": [
    "import numpy as np"
   ]
  },
  {
   "cell_type": "code",
   "execution_count": 40,
   "id": "b0a31e43-3998-4a83-962c-cd551cfe7f19",
   "metadata": {
    "scrolled": true
   },
   "outputs": [
    {
     "data": {
      "text/plain": [
       "array([19., 23., 19., 21., 19.])"
      ]
     },
     "execution_count": 40,
     "metadata": {},
     "output_type": "execute_result"
    }
   ],
   "source": [
    "team = X[i].reshape(players, features)[:5].copy()\n",
    "team[:, 2] = 1 - team[:, 2]\n",
    "team[0] *= tanks.sum(0)\n",
    "team[1:3] *= damages.sum(0)\n",
    "team[3:] *= supports.sum(0)\n",
    "contribution = team / team.sum() * 100\n",
    "np.round(contribution.sum(1))"
   ]
  },
  {
   "cell_type": "code",
   "execution_count": 41,
   "id": "41068642-dde5-48ca-8217-bc32e6d2fcdf",
   "metadata": {
    "scrolled": true
   },
   "outputs": [
    {
     "data": {
      "text/plain": [
       "array([15., 19., 21., 24., 19.])"
      ]
     },
     "execution_count": 41,
     "metadata": {},
     "output_type": "execute_result"
    }
   ],
   "source": [
    "team = X[i].reshape(players, features)[5:].copy()\n",
    "team[:, 2] = 1 - team[:, 2]\n",
    "team[0] *= tanks.sum(0)\n",
    "team[1:3] *= damages.sum(0)\n",
    "team[3:] *= supports.sum(0)\n",
    "contribution = team / team.sum() * 100\n",
    "np.round(contribution.sum(1))"
   ]
  },
  {
   "cell_type": "markdown",
   "id": "04c3728c-30bc-4738-bb1f-c1931c6ae78c",
   "metadata": {},
   "source": [
    "5개 투표가 제일 좋다."
   ]
  },
  {
   "cell_type": "code",
   "execution_count": null,
   "id": "24ce9b3c-dcd4-4a75-aff3-5f3ea53d5f3b",
   "metadata": {
    "scrolled": true
   },
   "outputs": [],
   "source": [
    "classifiers = []\n",
    "for i in range(3, len(scores)):\n",
    "    classifiers.append((i, cross_val_score(ensemble.VotingClassifier([(str(j), scores[j][0]) for j in range(i)], n_jobs=-1), X, y, n_jobs=-1).mean()))\n",
    "classifiers.sort(key=itemgetter(1), reverse=True)\n",
    "classifiers"
   ]
  },
  {
   "cell_type": "code",
   "execution_count": null,
   "id": "c8e66f78-14fc-4632-b8fc-441a630ae717",
   "metadata": {
    "scrolled": true
   },
   "outputs": [],
   "source": [
    "estimator = ensemble.StackingClassifier([(str(i), scores[i][1]) for i in range(2)], scores[0][1], n_jobs=-1).fit(X, y)\n",
    "estimator.score(X_test, y_test)"
   ]
  },
  {
   "cell_type": "code",
   "execution_count": null,
   "id": "51a0c674-0846-45a8-a80c-5e8b89fca576",
   "metadata": {
    "scrolled": true
   },
   "outputs": [],
   "source": [
    "model = scores[0][1]\n",
    "for i, (y_true, y_pred) in enumerate(zip(y_test.values, model.predict(X_test))):\n",
    "    if y_true != y_pred:\n",
    "        i = y_test.index[i][0]\n",
    "        defeats = len(defeat) // players\n",
    "        sum_ = defeats + len(draw) // players\n",
    "        next_ = i + 1\n",
    "        if i < defeats:\n",
    "            print(f'{y_true} ({next_}) -> {y_pred} ({i})')\n",
    "        elif i < sum_:\n",
    "            print(f'{y_true} ({next_ - defeats}) -> {y_pred} ({i})')\n",
    "        else:\n",
    "            print(f'{y_true} ({next_ - sum_}) -> {y_pred} ({i})')\n",
    "        print(test.loc[i], end='\\n\\n')"
   ]
  }
 ],
 "metadata": {
  "kernelspec": {
   "display_name": "Python 3 (ipykernel)",
   "language": "python",
   "name": "python3"
  },
  "language_info": {
   "codemirror_mode": {
    "name": "ipython",
    "version": 3
   },
   "file_extension": ".py",
   "mimetype": "text/x-python",
   "name": "python",
   "nbconvert_exporter": "python",
   "pygments_lexer": "ipython3",
   "version": "3.8.10"
  }
 },
 "nbformat": 4,
 "nbformat_minor": 5
}
