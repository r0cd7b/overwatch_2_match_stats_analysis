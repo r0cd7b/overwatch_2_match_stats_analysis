{
 "cells": [
  {
   "cell_type": "markdown",
   "id": "2fbe0807-a0e5-4d85-a722-405c4559730f",
   "metadata": {},
   "source": [
    "# 오버워치 2 점수판 분석 AI"
   ]
  },
  {
   "cell_type": "code",
   "execution_count": 1,
   "id": "29daeaaa-1eb5-4d29-ac0d-09f07e129ef1",
   "metadata": {
    "scrolled": true
   },
   "outputs": [
    {
     "data": {
      "text/html": [
       "<div>\n",
       "<style scoped>\n",
       "    .dataframe tbody tr th:only-of-type {\n",
       "        vertical-align: middle;\n",
       "    }\n",
       "\n",
       "    .dataframe tbody tr th {\n",
       "        vertical-align: top;\n",
       "    }\n",
       "\n",
       "    .dataframe thead th {\n",
       "        text-align: right;\n",
       "    }\n",
       "</style>\n",
       "<table border=\"1\" class=\"dataframe\">\n",
       "  <thead>\n",
       "    <tr style=\"text-align: right;\">\n",
       "      <th></th>\n",
       "      <th></th>\n",
       "      <th>E</th>\n",
       "      <th>A</th>\n",
       "      <th>D</th>\n",
       "      <th>DMG</th>\n",
       "      <th>H</th>\n",
       "      <th>MIT</th>\n",
       "      <th>GAME</th>\n",
       "    </tr>\n",
       "  </thead>\n",
       "  <tbody>\n",
       "    <tr>\n",
       "      <th rowspan=\"5\" valign=\"top\">0</th>\n",
       "      <th>0</th>\n",
       "      <td>7</td>\n",
       "      <td>3</td>\n",
       "      <td>6</td>\n",
       "      <td>5933</td>\n",
       "      <td>1068</td>\n",
       "      <td>6199</td>\n",
       "      <td>DEFEAT</td>\n",
       "    </tr>\n",
       "    <tr>\n",
       "      <th>1</th>\n",
       "      <td>7</td>\n",
       "      <td>0</td>\n",
       "      <td>10</td>\n",
       "      <td>3601</td>\n",
       "      <td>747</td>\n",
       "      <td>0</td>\n",
       "      <td>DEFEAT</td>\n",
       "    </tr>\n",
       "    <tr>\n",
       "      <th>2</th>\n",
       "      <td>9</td>\n",
       "      <td>1</td>\n",
       "      <td>6</td>\n",
       "      <td>4352</td>\n",
       "      <td>0</td>\n",
       "      <td>0</td>\n",
       "      <td>DEFEAT</td>\n",
       "    </tr>\n",
       "    <tr>\n",
       "      <th>3</th>\n",
       "      <td>7</td>\n",
       "      <td>7</td>\n",
       "      <td>2</td>\n",
       "      <td>2332</td>\n",
       "      <td>6325</td>\n",
       "      <td>0</td>\n",
       "      <td>DEFEAT</td>\n",
       "    </tr>\n",
       "    <tr>\n",
       "      <th>4</th>\n",
       "      <td>6</td>\n",
       "      <td>4</td>\n",
       "      <td>2</td>\n",
       "      <td>3410</td>\n",
       "      <td>5979</td>\n",
       "      <td>606</td>\n",
       "      <td>DEFEAT</td>\n",
       "    </tr>\n",
       "    <tr>\n",
       "      <th>...</th>\n",
       "      <th>...</th>\n",
       "      <td>...</td>\n",
       "      <td>...</td>\n",
       "      <td>...</td>\n",
       "      <td>...</td>\n",
       "      <td>...</td>\n",
       "      <td>...</td>\n",
       "      <td>...</td>\n",
       "    </tr>\n",
       "    <tr>\n",
       "      <th rowspan=\"5\" valign=\"top\">205</th>\n",
       "      <th>5</th>\n",
       "      <td>11</td>\n",
       "      <td>4</td>\n",
       "      <td>11</td>\n",
       "      <td>6977</td>\n",
       "      <td>645</td>\n",
       "      <td>6378</td>\n",
       "      <td>DEFEAT</td>\n",
       "    </tr>\n",
       "    <tr>\n",
       "      <th>6</th>\n",
       "      <td>10</td>\n",
       "      <td>0</td>\n",
       "      <td>13</td>\n",
       "      <td>7389</td>\n",
       "      <td>0</td>\n",
       "      <td>592</td>\n",
       "      <td>DEFEAT</td>\n",
       "    </tr>\n",
       "    <tr>\n",
       "      <th>7</th>\n",
       "      <td>15</td>\n",
       "      <td>0</td>\n",
       "      <td>13</td>\n",
       "      <td>9338</td>\n",
       "      <td>1985</td>\n",
       "      <td>556</td>\n",
       "      <td>DEFEAT</td>\n",
       "    </tr>\n",
       "    <tr>\n",
       "      <th>8</th>\n",
       "      <td>8</td>\n",
       "      <td>14</td>\n",
       "      <td>8</td>\n",
       "      <td>2859</td>\n",
       "      <td>10260</td>\n",
       "      <td>291</td>\n",
       "      <td>DEFEAT</td>\n",
       "    </tr>\n",
       "    <tr>\n",
       "      <th>9</th>\n",
       "      <td>1</td>\n",
       "      <td>14</td>\n",
       "      <td>10</td>\n",
       "      <td>158</td>\n",
       "      <td>12357</td>\n",
       "      <td>0</td>\n",
       "      <td>DEFEAT</td>\n",
       "    </tr>\n",
       "  </tbody>\n",
       "</table>\n",
       "<p>2060 rows × 7 columns</p>\n",
       "</div>"
      ],
      "text/plain": [
       "        E   A   D   DMG      H   MIT    GAME\n",
       "0   0   7   3   6  5933   1068  6199  DEFEAT\n",
       "    1   7   0  10  3601    747     0  DEFEAT\n",
       "    2   9   1   6  4352      0     0  DEFEAT\n",
       "    3   7   7   2  2332   6325     0  DEFEAT\n",
       "    4   6   4   2  3410   5979   606  DEFEAT\n",
       "...    ..  ..  ..   ...    ...   ...     ...\n",
       "205 5  11   4  11  6977    645  6378  DEFEAT\n",
       "    6  10   0  13  7389      0   592  DEFEAT\n",
       "    7  15   0  13  9338   1985   556  DEFEAT\n",
       "    8   8  14   8  2859  10260   291  DEFEAT\n",
       "    9   1  14  10   158  12357     0  DEFEAT\n",
       "\n",
       "[2060 rows x 7 columns]"
      ]
     },
     "execution_count": 1,
     "metadata": {},
     "output_type": "execute_result"
    }
   ],
   "source": [
    "import os\n",
    "import pandas as pd\n",
    "\n",
    "\n",
    "def prepare_scoreboard(defeat_, draw_, victory_):\n",
    "    scoreboard_ = pd.concat([defeat_, draw_, victory_])\n",
    "    scoreboard_.set_index(pd.Index((i, j) for i in range(len(scoreboard_) // 10) for j in range(10)), inplace=True)\n",
    "    return scoreboard_\n",
    "\n",
    "\n",
    "datapath = os.path.join('datasets', '')\n",
    "range_ = range(3, 10)\n",
    "defeat = pd.read_csv(datapath + 'defeat.csv', usecols=range_)\n",
    "draw = pd.read_csv(datapath + 'draw.csv', usecols=range_)\n",
    "victory = pd.read_csv(datapath + 'victory.csv', usecols=range_)\n",
    "scoreboard = prepare_scoreboard(defeat, draw, victory)\n",
    "scoreboard"
   ]
  },
  {
   "cell_type": "code",
   "execution_count": 2,
   "id": "ec6ee498-7a16-4ffe-a66f-6f4c56254aa5",
   "metadata": {
    "scrolled": true
   },
   "outputs": [
    {
     "name": "stdout",
     "output_type": "stream",
     "text": [
      "<class 'pandas.core.frame.DataFrame'>\n",
      "MultiIndex: 2060 entries, (0, 0) to (205, 9)\n",
      "Data columns (total 7 columns):\n",
      " #   Column  Non-Null Count  Dtype \n",
      "---  ------  --------------  ----- \n",
      " 0   E       2060 non-null   int64 \n",
      " 1   A       2060 non-null   int64 \n",
      " 2   D       2060 non-null   int64 \n",
      " 3   DMG     2060 non-null   int64 \n",
      " 4   H       2060 non-null   int64 \n",
      " 5   MIT     2060 non-null   int64 \n",
      " 6   GAME    2060 non-null   object\n",
      "dtypes: int64(6), object(1)\n",
      "memory usage: 128.8+ KB\n"
     ]
    }
   ],
   "source": [
    "scoreboard.info()"
   ]
  },
  {
   "cell_type": "code",
   "execution_count": 3,
   "id": "085d4528-396f-430c-a4cd-94864201d877",
   "metadata": {
    "scrolled": true
   },
   "outputs": [
    {
     "data": {
      "text/plain": [
       "GAME\n",
       "DEFEAT     1005\n",
       "VICTORY    1005\n",
       "DRAW         50\n",
       "Name: count, dtype: int64"
      ]
     },
     "execution_count": 3,
     "metadata": {},
     "output_type": "execute_result"
    }
   ],
   "source": [
    "scoreboard['GAME'].value_counts()"
   ]
  },
  {
   "cell_type": "code",
   "execution_count": 4,
   "id": "0d417f53-4032-474c-8a17-7751f3bcfb72",
   "metadata": {
    "scrolled": true
   },
   "outputs": [
    {
     "data": {
      "text/html": [
       "<div>\n",
       "<style scoped>\n",
       "    .dataframe tbody tr th:only-of-type {\n",
       "        vertical-align: middle;\n",
       "    }\n",
       "\n",
       "    .dataframe tbody tr th {\n",
       "        vertical-align: top;\n",
       "    }\n",
       "\n",
       "    .dataframe thead th {\n",
       "        text-align: right;\n",
       "    }\n",
       "</style>\n",
       "<table border=\"1\" class=\"dataframe\">\n",
       "  <thead>\n",
       "    <tr style=\"text-align: right;\">\n",
       "      <th></th>\n",
       "      <th>E</th>\n",
       "      <th>A</th>\n",
       "      <th>D</th>\n",
       "      <th>DMG</th>\n",
       "      <th>H</th>\n",
       "      <th>MIT</th>\n",
       "    </tr>\n",
       "  </thead>\n",
       "  <tbody>\n",
       "    <tr>\n",
       "      <th>count</th>\n",
       "      <td>2060.000000</td>\n",
       "      <td>2060.000000</td>\n",
       "      <td>2060.000000</td>\n",
       "      <td>2060.000000</td>\n",
       "      <td>2060.000000</td>\n",
       "      <td>2060.000000</td>\n",
       "    </tr>\n",
       "    <tr>\n",
       "      <th>mean</th>\n",
       "      <td>14.137379</td>\n",
       "      <td>7.571845</td>\n",
       "      <td>6.473786</td>\n",
       "      <td>6381.562621</td>\n",
       "      <td>3957.406311</td>\n",
       "      <td>2359.639320</td>\n",
       "    </tr>\n",
       "    <tr>\n",
       "      <th>std</th>\n",
       "      <td>10.343027</td>\n",
       "      <td>8.816635</td>\n",
       "      <td>3.911949</td>\n",
       "      <td>4704.827095</td>\n",
       "      <td>5262.560387</td>\n",
       "      <td>4754.326158</td>\n",
       "    </tr>\n",
       "    <tr>\n",
       "      <th>min</th>\n",
       "      <td>0.000000</td>\n",
       "      <td>0.000000</td>\n",
       "      <td>0.000000</td>\n",
       "      <td>0.000000</td>\n",
       "      <td>0.000000</td>\n",
       "      <td>0.000000</td>\n",
       "    </tr>\n",
       "    <tr>\n",
       "      <th>25%</th>\n",
       "      <td>6.000000</td>\n",
       "      <td>1.000000</td>\n",
       "      <td>4.000000</td>\n",
       "      <td>2730.000000</td>\n",
       "      <td>0.000000</td>\n",
       "      <td>0.000000</td>\n",
       "    </tr>\n",
       "    <tr>\n",
       "      <th>50%</th>\n",
       "      <td>13.000000</td>\n",
       "      <td>4.000000</td>\n",
       "      <td>6.000000</td>\n",
       "      <td>5427.500000</td>\n",
       "      <td>829.000000</td>\n",
       "      <td>245.000000</td>\n",
       "    </tr>\n",
       "    <tr>\n",
       "      <th>75%</th>\n",
       "      <td>20.000000</td>\n",
       "      <td>12.000000</td>\n",
       "      <td>9.000000</td>\n",
       "      <td>9465.000000</td>\n",
       "      <td>7604.000000</td>\n",
       "      <td>1801.250000</td>\n",
       "    </tr>\n",
       "    <tr>\n",
       "      <th>max</th>\n",
       "      <td>56.000000</td>\n",
       "      <td>48.000000</td>\n",
       "      <td>21.000000</td>\n",
       "      <td>29354.000000</td>\n",
       "      <td>27756.000000</td>\n",
       "      <td>41092.000000</td>\n",
       "    </tr>\n",
       "  </tbody>\n",
       "</table>\n",
       "</div>"
      ],
      "text/plain": [
       "                 E            A            D           DMG             H  \\\n",
       "count  2060.000000  2060.000000  2060.000000   2060.000000   2060.000000   \n",
       "mean     14.137379     7.571845     6.473786   6381.562621   3957.406311   \n",
       "std      10.343027     8.816635     3.911949   4704.827095   5262.560387   \n",
       "min       0.000000     0.000000     0.000000      0.000000      0.000000   \n",
       "25%       6.000000     1.000000     4.000000   2730.000000      0.000000   \n",
       "50%      13.000000     4.000000     6.000000   5427.500000    829.000000   \n",
       "75%      20.000000    12.000000     9.000000   9465.000000   7604.000000   \n",
       "max      56.000000    48.000000    21.000000  29354.000000  27756.000000   \n",
       "\n",
       "                MIT  \n",
       "count   2060.000000  \n",
       "mean    2359.639320  \n",
       "std     4754.326158  \n",
       "min        0.000000  \n",
       "25%        0.000000  \n",
       "50%      245.000000  \n",
       "75%     1801.250000  \n",
       "max    41092.000000  "
      ]
     },
     "execution_count": 4,
     "metadata": {},
     "output_type": "execute_result"
    }
   ],
   "source": [
    "scoreboard.describe()"
   ]
  },
  {
   "cell_type": "code",
   "execution_count": 5,
   "id": "b2e1a544-0e3b-4be1-abf2-4c324887ce28",
   "metadata": {
    "scrolled": true
   },
   "outputs": [],
   "source": [
    "import matplotlib as mpl\n",
    "import matplotlib.pyplot as plt\n",
    "\n",
    "mpl.rc('axes', labelsize=14)\n",
    "mpl.rc('xtick', labelsize=12)\n",
    "mpl.rc('ytick', labelsize=12)\n",
    "IMAGES_PATH = os.path.join('.', 'images')\n",
    "os.makedirs(IMAGES_PATH, exist_ok=True)\n",
    "\n",
    "\n",
    "def save_fig(fig_id, tight_layout=True, fig_extension='png', resolution=300):\n",
    "    path = os.path.join(IMAGES_PATH, fig_id + '.' + fig_extension)\n",
    "    print('그림 저장:', fig_id)\n",
    "    if tight_layout:\n",
    "        plt.tight_layout()\n",
    "    plt.savefig(path, dpi=resolution, format=fig_extension)"
   ]
  },
  {
   "cell_type": "code",
   "execution_count": 6,
   "id": "0aeb4436-9d57-41bd-ab88-a4c985255633",
   "metadata": {
    "scrolled": true
   },
   "outputs": [],
   "source": [
    "tank = scoreboard[::10]\n",
    "damage = pd.concat([scoreboard[1::10], scoreboard[2::10]])\n",
    "support = pd.concat([scoreboard[3::10], scoreboard[4::10]])"
   ]
  },
  {
   "cell_type": "code",
   "execution_count": 7,
   "id": "cbe2f0d8-6a73-4cd6-9c1e-b7b4798dcf02",
   "metadata": {
    "scrolled": true
   },
   "outputs": [
    {
     "name": "stdout",
     "output_type": "stream",
     "text": [
      "그림 저장: tank_hist\n"
     ]
    },
    {
     "data": {
      "image/png": "[encoded data removed]",
      "text/plain": [
       "<Figure size 2000x1500 with 6 Axes>"
      ]
     },
     "metadata": {},
     "output_type": "display_data"
    }
   ],
   "source": [
    "tank.hist(bins=50, figsize=(20, 15))\n",
    "save_fig('tank_hist')\n",
    "plt.show()"
   ]
  },
  {
   "cell_type": "code",
   "execution_count": null,
   "id": "0a5a815e-1603-4118-9167-a410f89fbcf6",
   "metadata": {
    "scrolled": true
   },
   "outputs": [
    {
     "name": "stdout",
     "output_type": "stream",
     "text": [
      "그림 저장: damage_hist\n"
     ]
    }
   ],
   "source": [
    "damage.hist(bins=50, figsize=(20, 15))\n",
    "save_fig('damage_hist')\n",
    "plt.show()"
   ]
  },
  {
   "cell_type": "code",
   "execution_count": null,
   "id": "a699a942-f2ba-4c14-84ff-4be26dc365bd",
   "metadata": {
    "scrolled": true
   },
   "outputs": [],
   "source": [
    "support.hist(bins=50, figsize=(20, 15))\n",
    "save_fig('support_hist')\n",
    "plt.show()"
   ]
  },
  {
   "cell_type": "code",
   "execution_count": null,
   "id": "f511be41-d9c4-4360-91a8-d98eb961802d",
   "metadata": {
    "scrolled": true
   },
   "outputs": [],
   "source": [
    "import numpy as np\n",
    "\n",
    "train_set = scoreboard.loc[np.random.default_rng().permutation(len(scoreboard) // 10)]"
   ]
  },
  {
   "cell_type": "code",
   "execution_count": null,
   "id": "79bb60e3-b67c-4f1e-ad34-e33ef506577c",
   "metadata": {
    "scrolled": true
   },
   "outputs": [],
   "source": [
    "scoreboard = train_set.copy()\n",
    "# e = scoreboard['E'].copy()\n",
    "# d = scoreboard['D'].copy()\n",
    "# e[e == 0] = .5\n",
    "# d[d == 0] = .5\n",
    "# scoreboard['E_per_D'] = e / d\n",
    "# scoreboard.describe()"
   ]
  },
  {
   "cell_type": "code",
   "execution_count": null,
   "id": "7839bb0e-4806-4255-b25a-d794897d15ca",
   "metadata": {
    "scrolled": true
   },
   "outputs": [],
   "source": [
    "from sklearn.preprocessing import OrdinalEncoder\n",
    "\n",
    "ordinal_encoder = OrdinalEncoder()\n",
    "scoreboard_cat = train_set[['GAME']]\n",
    "scoreboard_cat_encoded = ordinal_encoder.fit_transform(scoreboard_cat)\n",
    "scoreboard_cat_encoded[:10]"
   ]
  },
  {
   "cell_type": "code",
   "execution_count": null,
   "id": "37f10413-aa07-477d-a0b4-6b03fa4bd192",
   "metadata": {
    "scrolled": true
   },
   "outputs": [],
   "source": [
    "ordinal_encoder.categories_"
   ]
  },
  {
   "cell_type": "code",
   "execution_count": null,
   "id": "3394b792-1f6c-40fb-a271-676106c5410f",
   "metadata": {
    "scrolled": true
   },
   "outputs": [],
   "source": [
    "scoreboard_num.columns"
   ]
  },
  {
   "cell_type": "code",
   "execution_count": null,
   "id": "e3dbedde-8774-4253-a16d-ef2b28c56c52",
   "metadata": {
    "scrolled": true
   },
   "outputs": [],
   "source": [
    "from sklearn.base import BaseEstimator, TransformerMixin\n",
    "\n",
    "scoreboard_num = train_set.drop('GAME', axis=1)\n",
    "e_ix, a_ix, d_ix, dmg_ix, h_ix, mit_ix = [scoreboard_num.columns.get_loc(c) for c in scoreboard_num.columns]\n",
    "\n",
    "\n",
    "class CombinedAttributesAdder(BaseEstimator, TransformerMixin):\n",
    "    def fit(self, X, y=None):\n",
    "        return self\n",
    "\n",
    "    def transform(self, X):\n",
    "        X = X.to_numpy(np.float64)\n",
    "        e = X[:, e_ix]\n",
    "        a = X[:, a_ix]\n",
    "        d = X[:, d_ix]\n",
    "        dmg = X[:, dmg_ix]\n",
    "        h = X[:, h_ix]\n",
    "        mit = X[:, mit_ix]\n",
    "        # e[e == 0] = 0.5\n",
    "        # d[d == 0] = 0.5\n",
    "        # e_per_d = e / d\n",
    "        extra = a + d\n",
    "        return np.c_[X, extra]\n",
    "\n",
    "\n",
    "attr_adder = CombinedAttributesAdder()\n",
    "scoreboard_extra_attribs = attr_adder.transform(scoreboard_num)\n",
    "scoreboard_extra_attribs = pd.DataFrame(\n",
    "    scoreboard_extra_attribs, scoreboard_num.index, list(scoreboard_num) + ['extra']\n",
    ")\n",
    "scoreboard_extra_attribs"
   ]
  },
  {
   "cell_type": "code",
   "execution_count": null,
   "id": "5d365773-c34b-4720-b4c4-14a8a6fc9a9c",
   "metadata": {
    "scrolled": true
   },
   "outputs": [],
   "source": [
    "from sklearn.pipeline import Pipeline\n",
    "from sklearn.preprocessing import StandardScaler\n",
    "\n",
    "num_pipeline = Pipeline([('attribs_adder', CombinedAttributesAdder()), ('std_scaler', StandardScaler())])\n",
    "scoreboard_num_tr = num_pipeline.fit_transform(scoreboard_num)\n",
    "scoreboard_num_tr"
   ]
  },
  {
   "cell_type": "code",
   "execution_count": null,
   "id": "18778864-b000-4a0a-82f6-1f57df140b42",
   "metadata": {
    "scrolled": true
   },
   "outputs": [],
   "source": [
    "from sklearn.compose import ColumnTransformer\n",
    "from sklearn.preprocessing import OrdinalEncoder\n",
    "\n",
    "full_pipeline = ColumnTransformer(\n",
    "    [('num', num_pipeline, scoreboard_num.columns), ('cat', OrdinalEncoder(), scoreboard_cat.columns)]\n",
    ")\n",
    "scoreboard_prepared = full_pipeline.fit_transform(train_set)\n",
    "X = scoreboard_prepared[:, :-1]\n",
    "shape_ = X.shape[-1]\n",
    "X = X.reshape(-1, shape_ * 10)\n",
    "y = scoreboard_prepared[::10, -1]"
   ]
  },
  {
   "cell_type": "code",
   "execution_count": null,
   "id": "b5dc6e89-8418-4e1a-8a13-13993afbb86e",
   "metadata": {
    "scrolled": true
   },
   "outputs": [],
   "source": [
    "X"
   ]
  },
  {
   "cell_type": "code",
   "execution_count": null,
   "id": "4031dca8-256e-46d7-b778-daa2b1210d57",
   "metadata": {
    "scrolled": true
   },
   "outputs": [],
   "source": [
    "X.shape"
   ]
  },
  {
   "cell_type": "code",
   "execution_count": null,
   "id": "02e86023-df0a-4421-808b-d72610e74239",
   "metadata": {
    "scrolled": true
   },
   "outputs": [],
   "source": [
    "y"
   ]
  },
  {
   "cell_type": "code",
   "execution_count": null,
   "id": "14caeeeb-747a-451a-ae2b-ca20011c6dd6",
   "metadata": {
    "scrolled": true
   },
   "outputs": [],
   "source": [
    "y.shape"
   ]
  },
  {
   "cell_type": "code",
   "execution_count": null,
   "id": "b758307c-f409-427c-8627-6798236d9d17",
   "metadata": {
    "scrolled": true
   },
   "outputs": [],
   "source": [
    "from sklearn import ensemble, linear_model, neighbors, svm, tree\n",
    "from sklearn.model_selection import cross_val_score\n",
    "\n",
    "models = {\n",
    "    'AdaBoostClassifier': ensemble.AdaBoostClassifier(),\n",
    "    'BaggingClassifier': ensemble.BaggingClassifier(n_jobs=-1),\n",
    "    'ExtraTreesClassifier': ensemble.ExtraTreesClassifier(n_jobs=-1),\n",
    "    'GradientBoostingClassifier': ensemble.GradientBoostingClassifier(),\n",
    "    'RandomForestClassifier': ensemble.RandomForestClassifier(n_jobs=-1),\n",
    "    'HistGradientBoostingClassifier': ensemble.HistGradientBoostingClassifier(),\n",
    "    'LogisticRegression': linear_model.LogisticRegression(max_iter=300, n_jobs=-1),\n",
    "    'PassiveAggressiveClassifier': linear_model.PassiveAggressiveClassifier(n_jobs=-1),\n",
    "    'Perceptron': linear_model.Perceptron(n_jobs=-1),\n",
    "    'RidgeClassifier': linear_model.RidgeClassifier(),\n",
    "    'SGDClassifier': linear_model.SGDClassifier(n_jobs=-1),\n",
    "    'KNeighborsClassifier': neighbors.KNeighborsClassifier(n_jobs=-1),\n",
    "    'RadiusNeighborsClassifier': neighbors.RadiusNeighborsClassifier(10., n_jobs=-1),\n",
    "    'NearestCentroid': neighbors.NearestCentroid(),\n",
    "    'LinearSVC': svm.LinearSVC(dual='auto', max_iter=2000),\n",
    "    'NuSVC': svm.NuSVC(nu=.09),\n",
    "    'SVC': svm.SVC(),\n",
    "    'DecisionTreeClassifier': tree.DecisionTreeClassifier(),\n",
    "    'ExtraTreeClassifier': tree.ExtraTreeClassifier()\n",
    "}\n",
    "scores = {}\n",
    "for k, v in models.items():\n",
    "    scores[k] = cross_val_score(v, X, y, n_jobs=-1).mean()\n",
    "sorted_ = sorted(scores.items(), key=lambda item: item[1], reverse=True)\n",
    "sorted_"
   ]
  },
  {
   "cell_type": "code",
   "execution_count": null,
   "id": "51a0c674-0846-45a8-a80c-5e8b89fca576",
   "metadata": {
    "scrolled": true
   },
   "outputs": [],
   "source": [
    "from sklearn.model_selection import cross_val_predict\n",
    "\n",
    "transform = full_pipeline.named_transformers_.cat.inverse_transform\n",
    "model = models[sorted_[0][0]]\n",
    "for i, (y_true, y_pred) in enumerate(\n",
    "        zip(transform(y.reshape(-1, 1)), transform(cross_val_predict(model, X, y, n_jobs=-1).reshape(-1, 1)))\n",
    "):\n",
    "    y_true, y_pred = y_true[0], y_pred[0]\n",
    "    if y_true != y_pred:\n",
    "        i = scoreboard.iloc[i * 10].name[0]\n",
    "        defeats = len(defeat) // 10\n",
    "        total = defeats + len(draw) // 10\n",
    "        next_ = i + 1\n",
    "        if i < defeats:\n",
    "            print(f'{y_true} ({next_}) -> {y_pred} ({i})')\n",
    "        elif i < total:\n",
    "            print(f'{y_true} ({next_ - defeats}) -> {y_pred} ({i})')\n",
    "        else:\n",
    "            print(f'{y_true} ({next_ - total}) -> {y_pred} ({i})')\n",
    "        print(scoreboard.loc[i], end='\\n\\n')"
   ]
  },
  {
   "cell_type": "code",
   "execution_count": null,
   "id": "491f4ab4-e496-48e8-af12-fd77f062cf66",
   "metadata": {
    "scrolled": true
   },
   "outputs": [],
   "source": [
    "for model, _ in sorted_:\n",
    "    model = models[model].fit(X, y)\n",
    "    if hasattr(model, 'feature_importances_'):\n",
    "        print(model)\n",
    "        importances = model.feature_importances_.reshape(-1, shape_)\n",
    "        \n",
    "        tank = importances[[0, 5]]\n",
    "        damage = importances[[1, 2, 6, 7]]\n",
    "        support = importances[[3, 4, 8, 9]]\n",
    "        \n",
    "        feature = '돌격 1인', '공격 1인', '지원 1인'\n",
    "        \n",
    "        print('\\n**역할 중요도**')\n",
    "        sum_ = tank.sum(), damage.sum() / 2, support.sum() / 2\n",
    "        for s, f in sorted(zip(sum_, feature), reverse=True):\n",
    "            print(f'{f}: {s * 100:.2f}%')\n",
    "\n",
    "        feature = '처치', '도움', '죽음', '피해', '치유', '경감', 'EXTRA'\n",
    "        \n",
    "        print('\\n**특성 중요도**')\n",
    "        for s, f in sorted(zip(importances.sum(0), feature), reverse=True):\n",
    "            print(f'{f}: {s * 100:.2f}%')\n",
    "        \n",
    "        print('\\n**돌격 1인 특성 중요도**')\n",
    "        for s, f in sorted(zip(tank.sum(0), feature), reverse=True):\n",
    "            print(f'{f}: {s * 100:.2f}%')\n",
    "        \n",
    "        print('\\n**공격 1인 특성 중요도**')\n",
    "        for s, f in sorted(zip(damage.sum(0) / 2, feature), reverse=True):\n",
    "            print(f'{f}: {s * 100:.2f}%')\n",
    "        \n",
    "        print('\\n**지원 1인 특성 중요도**')\n",
    "        for s, f in sorted(zip(support.sum(0) / 2, feature), reverse=True):\n",
    "            print(f'{f}: {s * 100:.2f}%')\n",
    "        \n",
    "        break"
   ]
  },
  {
   "cell_type": "code",
   "execution_count": null,
   "id": "2a3ffbe1-92fa-4b8f-ba55-ee4c09bba6d1",
   "metadata": {
    "scrolled": true
   },
   "outputs": [],
   "source": []
  }
 ],
 "metadata": {
  "kernelspec": {
   "display_name": "Python 3 (ipykernel)",
   "language": "python",
   "name": "python3"
  },
  "language_info": {
   "codemirror_mode": {
    "name": "ipython",
    "version": 3
   },
   "file_extension": ".py",
   "mimetype": "text/x-python",
   "name": "python",
   "nbconvert_exporter": "python",
   "pygments_lexer": "ipython3",
   "version": "3.8.10"
  }
 },
 "nbformat": 4,
 "nbformat_minor": 5
}
